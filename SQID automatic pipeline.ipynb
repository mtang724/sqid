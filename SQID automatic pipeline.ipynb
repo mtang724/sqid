{
 "cells": [
  {
   "cell_type": "markdown",
   "metadata": {},
   "source": [
    "# Below is a step-by-step example that how the pharma_subgraph KG used for SQID is built"
   ]
  },
  {
   "cell_type": "markdown",
   "metadata": {},
   "source": [
    "Set up environment variables with location of the input files"
   ]
  },
  {
   "cell_type": "code",
   "execution_count": 3,
   "metadata": {},
   "outputs": [
    {
     "name": "stdout",
     "output_type": "stream",
     "text": [
      "env: kgtk_files=kgtk_files/\n",
      "env: ttl_files=ttl_files/\n",
      "env: ES_DATA_FOLDER_PATH=flask/es/es_data/\n"
     ]
    }
   ],
   "source": [
    "%env kgtk_files=kgtk_files/\n",
    "%env ttl_files=ttl_files/\n",
    "%env ES_DATA_FOLDER_PATH = flask/es/es_data/"
   ]
  },
  {
   "cell_type": "markdown",
   "metadata": {},
   "source": [
    "## Building Wikidata triples and Mediawiki json files"
   ]
  },
  {
   "cell_type": "markdown",
   "metadata": {},
   "source": [
    "pharma_subgraph.tsv link: https://drive.google.com/file/d/11oAhqCNR8vAIKXv0IhuIcy-L6NuDFxKF/view?usp=sharing"
   ]
  },
  {
   "cell_type": "markdown",
   "metadata": {},
   "source": [
    "### Generate Wikidata Triples (under sqid/ttl_files) from KGTK TSV (pharma_subgraph) -- kgtk generate_wikidata_triples"
   ]
  },
  {
   "cell_type": "code",
   "execution_count": 4,
   "metadata": {},
   "outputs": [],
   "source": [
    "!cat kgtk_files/pharma_subgraph.tsv \\\n",
    "| kgtk generate_wikidata_triples -pf flask/flask_data/wikidata_properties.tsv -w yes -pd yes > pharma_subgraph.ttl --debug"
   ]
  },
  {
   "cell_type": "code",
   "execution_count": 8,
   "metadata": {},
   "outputs": [],
   "source": [
    "!mv *.ttl ttl_files/"
   ]
  },
  {
   "cell_type": "markdown",
   "metadata": {},
   "source": [
    "### Generate Mediawiki JSON (under sqid/flask/es/es_data/) from KGTK TSV -- kgtk generate-mediawiki-jsons"
   ]
  },
  {
   "cell_type": "code",
   "execution_count": 5,
   "metadata": {},
   "outputs": [],
   "source": [
    "!cp kgtk_files/pharma_subgraph.tsv ES_DATA_FOLDER_PATH/pharma_subgraph.tsv\n",
    " \n",
    "!cat ES_DATA_FOLDER_PATH/pharma_subgraph.tsv \\\n",
    "| kgtk generate-mediawiki-jsons -pf flask/flask_data/wikidata_properties.tsv -w yes -pd yes"
   ]
  },
  {
   "cell_type": "code",
   "execution_count": 6,
   "metadata": {},
   "outputs": [],
   "source": [
    "!mv *.jsonl ES_DATA_FOLDER_PATH/"
   ]
  },
  {
   "cell_type": "code",
   "execution_count": 6,
   "metadata": {},
   "outputs": [
    {
     "name": "stdout",
     "output_type": "stream",
     "text": [
      "/bin/sh: line 0: cd: ES_DATA_FOLDER_PATH/: No such file or directory\r\n"
     ]
    }
   ],
   "source": [
    "!cd ES_DATA_FOLDER_PATH/ && ls | wc -l"
   ]
  },
  {
   "cell_type": "markdown",
   "metadata": {},
   "source": [
    "## Load trile file into Blazegraph"
   ]
  },
  {
   "cell_type": "markdown",
   "metadata": {},
   "source": [
    "Given triple files loaded into Blazegraph"
   ]
  },
  {
   "cell_type": "markdown",
   "metadata": {},
   "source": [
    "## Load json file into ES"
   ]
  },
  {
   "cell_type": "markdown",
   "metadata": {},
   "source": [
    "### Install all required libraries"
   ]
  },
  {
   "cell_type": "code",
   "execution_count": null,
   "metadata": {},
   "outputs": [],
   "source": [
    "!python3 -m venv sqid-env\n",
    "!source sqid-env/bin/activate\n",
    "\n",
    "!cd flask && pip install -r requirement.txt\n",
    "!npm install ."
   ]
  },
  {
   "cell_type": "markdown",
   "metadata": {},
   "source": [
    "### Modify Configuration file (Global configure)\n",
    "Parameters:\n",
    "- HOST = \"localhost\"\n",
    "- SQID_PORT = 8052\n",
    "- SPARQL_PORT = 10002\n",
    "- FLASK_PORT = 5556\n",
    "- ES_INDEX = \"kgtk_files\"\n",
    "- ELASTICSEARCH_PORT = 9200\n",
    "- ES_DATA_FOLDER_PATH = \"/home/mingyuet/sqid/flask/es/es_data\""
   ]
  },
  {
   "cell_type": "code",
   "execution_count": 4,
   "metadata": {},
   "outputs": [
    {
     "name": "stdout",
     "output_type": "stream",
     "text": [
      "import argparse\r\n",
      "\r\n",
      "parser = argparse.ArgumentParser(description='Enter congiguration parameters')\r\n",
      "parser.add_argument('--is_generate', type=bool, help='is_generate', default=False)\r\n",
      "args = parser.parse_args()\r\n",
      "\r\n",
      "HOST = \"localhost\"\r\n",
      "SQID_PORT = 8052\r\n",
      "SPARQL_PORT = 11102\r\n",
      "FLASK_PORT = 5556\r\n",
      "ES_INDEX = \"kgtk_files\"\r\n",
      "ELASTICSEARCH_PORT = 9200\r\n",
      "is_generate = args.is_generate\r\n",
      "\r\n",
      "# Flask application config\r\n"
     ]
    }
   ],
   "source": [
    "!head -n 15 global_config.py"
   ]
  },
  {
   "cell_type": "markdown",
   "metadata": {},
   "source": [
    "### Create Index for ES"
   ]
  },
  {
   "cell_type": "code",
   "execution_count": 20,
   "metadata": {},
   "outputs": [],
   "source": [
    "# index name is defined in global_config file\n",
    "!cd flask/es/ && python create_index.py"
   ]
  },
  {
   "cell_type": "markdown",
   "metadata": {},
   "source": [
    "### import index data from es_data (mediawiki json files)"
   ]
  },
  {
   "cell_type": "code",
   "execution_count": 21,
   "metadata": {},
   "outputs": [
    {
     "name": "stdout",
     "output_type": "stream",
     "text": [
      "100%|███████████████████████████████████████████| 90/90 [00:08<00:00, 10.87it/s]\n"
     ]
    }
   ],
   "source": [
    "# mediawiki json files path(es_data) is defined in global_config file\n",
    "!cd flask/es/ && python import_data.py"
   ]
  },
  {
   "cell_type": "markdown",
   "metadata": {},
   "source": [
    "### Run Global Configure File to generate endpoints for SQID and ES"
   ]
  },
  {
   "cell_type": "code",
   "execution_count": 24,
   "metadata": {},
   "outputs": [],
   "source": [
    "!python global_config.py --is_generate True"
   ]
  },
  {
   "cell_type": "markdown",
   "metadata": {},
   "source": [
    "### Run ES index system using Flask\n",
    "\n",
    "and\n",
    "\n",
    "### Run SQID through npm run serve (development enviorment)"
   ]
  },
  {
   "cell_type": "code",
   "execution_count": 5,
   "metadata": {},
   "outputs": [],
   "source": [
    "import subprocess\n",
    "out = subprocess.call(\"ls -l\", shell=True)\n",
    "out = subprocess.call(\"cd ..\", shell=True)"
   ]
  },
  {
   "cell_type": "code",
   "execution_count": null,
   "metadata": {},
   "outputs": [],
   "source": []
  }
 ],
 "metadata": {
  "kernelspec": {
   "display_name": "Python 3",
   "language": "python",
   "name": "python3"
  },
  "language_info": {
   "codemirror_mode": {
    "name": "ipython",
    "version": 3
   },
   "file_extension": ".py",
   "mimetype": "text/x-python",
   "name": "python",
   "nbconvert_exporter": "python",
   "pygments_lexer": "ipython3",
   "version": "3.7.3"
  }
 },
 "nbformat": 4,
 "nbformat_minor": 4
}
