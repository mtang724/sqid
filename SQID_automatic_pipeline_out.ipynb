{
 "cells": [
  {
   "cell_type": "markdown",
   "metadata": {
    "papermill": {
     "duration": 0.012372,
     "end_time": "2020-10-27T03:58:21.502425",
     "exception": false,
     "start_time": "2020-10-27T03:58:21.490053",
     "status": "completed"
    },
    "tags": []
   },
   "source": [
    "# Below is a step-by-step example that how the pharma_subgraph KG used for SQID is built"
   ]
  },
  {
   "cell_type": "markdown",
   "metadata": {
    "papermill": {
     "duration": 0.011222,
     "end_time": "2020-10-27T03:58:21.525253",
     "exception": false,
     "start_time": "2020-10-27T03:58:21.514031",
     "status": "completed"
    },
    "tags": []
   },
   "source": [
    "Set up environment variables with location of the input files"
   ]
  },
  {
   "cell_type": "code",
   "execution_count": 1,
   "metadata": {
    "execution": {
     "iopub.execute_input": "2020-10-27T03:58:21.550837Z",
     "iopub.status.busy": "2020-10-27T03:58:21.550419Z",
     "iopub.status.idle": "2020-10-27T03:58:21.552650Z",
     "shell.execute_reply": "2020-10-27T03:58:21.552111Z"
    },
    "papermill": {
     "duration": 0.016219,
     "end_time": "2020-10-27T03:58:21.552784",
     "exception": false,
     "start_time": "2020-10-27T03:58:21.536565",
     "status": "completed"
    },
    "tags": [
     "parameters"
    ]
   },
   "outputs": [],
   "source": [
    "kgtk_file = \"kgtk_files/pharma_subgraph.tsv\""
   ]
  },
  {
   "cell_type": "code",
   "execution_count": 2,
   "metadata": {
    "execution": {
     "iopub.execute_input": "2020-10-27T03:58:21.577677Z",
     "iopub.status.busy": "2020-10-27T03:58:21.577267Z",
     "iopub.status.idle": "2020-10-27T03:58:21.579185Z",
     "shell.execute_reply": "2020-10-27T03:58:21.578840Z"
    },
    "papermill": {
     "duration": 0.015133,
     "end_time": "2020-10-27T03:58:21.579271",
     "exception": false,
     "start_time": "2020-10-27T03:58:21.564138",
     "status": "completed"
    },
    "tags": [
     "injected-parameters"
    ]
   },
   "outputs": [],
   "source": [
    "# Parameters\n",
    "kgtk_file = \"kgtk_files/pharma_subgraph.tsv\"\n"
   ]
  },
  {
   "cell_type": "code",
   "execution_count": 3,
   "metadata": {
    "execution": {
     "iopub.execute_input": "2020-10-27T03:58:21.605226Z",
     "iopub.status.busy": "2020-10-27T03:58:21.604821Z",
     "iopub.status.idle": "2020-10-27T03:58:21.607376Z",
     "shell.execute_reply": "2020-10-27T03:58:21.606968Z"
    },
    "papermill": {
     "duration": 0.016837,
     "end_time": "2020-10-27T03:58:21.607462",
     "exception": false,
     "start_time": "2020-10-27T03:58:21.590625",
     "status": "completed"
    },
    "tags": []
   },
   "outputs": [
    {
     "name": "stdout",
     "output_type": "stream",
     "text": [
      "env: ttl_files=ttl_files\n",
      "env: ES_DATA_FOLDER_PATH=flask/es/es_data\n"
     ]
    }
   ],
   "source": [
    "%env ttl_files=ttl_files\n",
    "%env ES_DATA_FOLDER_PATH = flask/es/es_data"
   ]
  },
  {
   "cell_type": "markdown",
   "metadata": {
    "papermill": {
     "duration": 0.011718,
     "end_time": "2020-10-27T03:58:21.631036",
     "exception": false,
     "start_time": "2020-10-27T03:58:21.619318",
     "status": "completed"
    },
    "tags": []
   },
   "source": [
    "## Building Wikidata triples and Mediawiki json files"
   ]
  },
  {
   "cell_type": "markdown",
   "metadata": {
    "papermill": {
     "duration": 0.011675,
     "end_time": "2020-10-27T03:58:21.654586",
     "exception": false,
     "start_time": "2020-10-27T03:58:21.642911",
     "status": "completed"
    },
    "tags": []
   },
   "source": [
    "pharma_subgraph.tsv link: https://drive.google.com/file/d/11oAhqCNR8vAIKXv0IhuIcy-L6NuDFxKF/view?usp=sharing"
   ]
  },
  {
   "cell_type": "markdown",
   "metadata": {
    "papermill": {
     "duration": 0.011675,
     "end_time": "2020-10-27T03:58:21.678058",
     "exception": false,
     "start_time": "2020-10-27T03:58:21.666383",
     "status": "completed"
    },
    "tags": []
   },
   "source": [
    "### Generate Wikidata Triples (under sqid/ttl_files) from KGTK TSV (pharma_subgraph) -- kgtk generate_wikidata_triples"
   ]
  },
  {
   "cell_type": "code",
   "execution_count": 4,
   "metadata": {
    "execution": {
     "iopub.execute_input": "2020-10-27T03:58:21.704514Z",
     "iopub.status.busy": "2020-10-27T03:58:21.704081Z",
     "iopub.status.idle": "2020-10-27T03:58:56.399430Z",
     "shell.execute_reply": "2020-10-27T03:58:56.399775Z"
    },
    "papermill": {
     "duration": 34.710091,
     "end_time": "2020-10-27T03:58:56.399896",
     "exception": false,
     "start_time": "2020-10-27T03:58:21.689805",
     "status": "completed"
    },
    "tags": []
   },
   "outputs": [
    {
     "name": "stdout",
     "output_type": "stream",
     "text": [
      "TTL generated\n"
     ]
    }
   ],
   "source": [
    "import os\n",
    "out = os.system(\"cat {} \\\n",
    "| kgtk generate_wikidata_triples -pf flask/flask_data/wikidata_properties.tsv -w yes -pd yes > subgraph.ttl\"\n",
    "          .format(kgtk_file))\n",
    "if out == 0:\n",
    "    print (\"TTL generated\")\n",
    "else:\n",
    "    print (\"Fail to generate TTL\")"
   ]
  },
  {
   "cell_type": "code",
   "execution_count": 5,
   "metadata": {
    "execution": {
     "iopub.execute_input": "2020-10-27T03:58:56.427396Z",
     "iopub.status.busy": "2020-10-27T03:58:56.426994Z",
     "iopub.status.idle": "2020-10-27T03:58:56.537671Z",
     "shell.execute_reply": "2020-10-27T03:58:56.538006Z"
    },
    "papermill": {
     "duration": 0.125864,
     "end_time": "2020-10-27T03:58:56.538113",
     "exception": false,
     "start_time": "2020-10-27T03:58:56.412249",
     "status": "completed"
    },
    "tags": []
   },
   "outputs": [
    {
     "name": "stdout",
     "output_type": "stream",
     "text": [
      "  File: subgraph.ttl\r\n",
      "  Size: 6020115   \tBlocks: 11760      IO Block: 4096   regular file\r\n",
      "Device: 10305h/66309d\tInode: 280356      Links: 1\r\n",
      "Access: (0664/-rw-rw-r--)  Uid: ( 1004/mingyuet)   Gid: ( 1004/mingyuet)\r\n",
      "Access: 2020-10-27 03:58:21.700414943 +0000\r\n",
      "Modify: 2020-10-27 03:58:55.768416117 +0000\r\n",
      "Change: 2020-10-27 03:58:55.768416117 +0000\r\n",
      " Birth: -\r\n"
     ]
    }
   ],
   "source": [
    "# stat of output ttl file\n",
    "!stat subgraph.ttl"
   ]
  },
  {
   "cell_type": "code",
   "execution_count": 6,
   "metadata": {
    "execution": {
     "iopub.execute_input": "2020-10-27T03:58:56.565918Z",
     "iopub.status.busy": "2020-10-27T03:58:56.565513Z",
     "iopub.status.idle": "2020-10-27T03:58:56.674267Z",
     "shell.execute_reply": "2020-10-27T03:58:56.673916Z"
    },
    "papermill": {
     "duration": 0.123903,
     "end_time": "2020-10-27T03:58:56.674354",
     "exception": false,
     "start_time": "2020-10-27T03:58:56.550451",
     "status": "completed"
    },
    "tags": []
   },
   "outputs": [
    {
     "name": "stdout",
     "output_type": "stream",
     "text": [
      "@prefix wikibase: <http://wikiba.se/ontology#> .\r\n",
      "@prefix wd: <http://www.wikidata.org/entity/> .\r\n",
      "@prefix wdt: <http://www.wikidata.org/prop/direct/> .\r\n",
      "@prefix wdtn: <http://www.wikidata.org/prop/direct-normalized/> .\r\n",
      "@prefix wdno: <http://www.wikidata.org/prop/novalue/> .\r\n"
     ]
    }
   ],
   "source": [
    "!head -n 5 subgraph.ttl"
   ]
  },
  {
   "cell_type": "code",
   "execution_count": 7,
   "metadata": {
    "execution": {
     "iopub.execute_input": "2020-10-27T03:58:56.703705Z",
     "iopub.status.busy": "2020-10-27T03:58:56.703302Z",
     "iopub.status.idle": "2020-10-27T03:58:56.812788Z",
     "shell.execute_reply": "2020-10-27T03:58:56.813116Z"
    },
    "papermill": {
     "duration": 0.126185,
     "end_time": "2020-10-27T03:58:56.813215",
     "exception": false,
     "start_time": "2020-10-27T03:58:56.687030",
     "status": "completed"
    },
    "tags": []
   },
   "outputs": [],
   "source": [
    "!mv *.ttl ttl_files/"
   ]
  },
  {
   "cell_type": "markdown",
   "metadata": {
    "papermill": {
     "duration": 0.012689,
     "end_time": "2020-10-27T03:58:56.838770",
     "exception": false,
     "start_time": "2020-10-27T03:58:56.826081",
     "status": "completed"
    },
    "tags": []
   },
   "source": [
    "### Generate Mediawiki JSON (under sqid/flask/es/es_data/) from KGTK TSV -- kgtk generate-mediawiki-jsons"
   ]
  },
  {
   "cell_type": "code",
   "execution_count": 8,
   "metadata": {
    "execution": {
     "iopub.execute_input": "2020-10-27T03:58:56.868535Z",
     "iopub.status.busy": "2020-10-27T03:58:56.868096Z",
     "iopub.status.idle": "2020-10-27T03:58:59.699066Z",
     "shell.execute_reply": "2020-10-27T03:58:59.699436Z"
    },
    "papermill": {
     "duration": 2.848104,
     "end_time": "2020-10-27T03:58:59.699568",
     "exception": false,
     "start_time": "2020-10-27T03:58:56.851464",
     "status": "completed"
    },
    "tags": []
   },
   "outputs": [
    {
     "name": "stdout",
     "output_type": "stream",
     "text": [
      "Media JSON file generated\n"
     ]
    }
   ],
   "source": [
    "file = kgtk_file.split(\"/\")[-1]\n",
    "os.system(\"cp {} {}/{}\".format(kgtk_file, os.getenv(\"ES_DATA_FOLDER_PATH\"), file))\n",
    " \n",
    "out = os.system(\"cat {}/{} \\\n",
    "| kgtk generate-mediawiki-jsons -pf flask/flask_data/wikidata_properties.tsv -w yes -pd yes\"\n",
    "          .format(os.getenv(\"ES_DATA_FOLDER_PATH\"), file))\n",
    "if out == 0:\n",
    "    print (\"Media JSON file generated\")\n",
    "else:\n",
    "    print (\"Media JSON file generate failed\")"
   ]
  },
  {
   "cell_type": "code",
   "execution_count": 9,
   "metadata": {
    "execution": {
     "iopub.execute_input": "2020-10-27T03:58:59.733087Z",
     "iopub.status.busy": "2020-10-27T03:58:59.732656Z",
     "iopub.status.idle": "2020-10-27T03:58:59.842534Z",
     "shell.execute_reply": "2020-10-27T03:58:59.842879Z"
    },
    "papermill": {
     "duration": 0.127717,
     "end_time": "2020-10-27T03:58:59.843012",
     "exception": false,
     "start_time": "2020-10-27T03:58:59.715295",
     "status": "completed"
    },
    "tags": []
   },
   "outputs": [],
   "source": [
    "!mv *.jsonl $ES_DATA_FOLDER_PATH/"
   ]
  },
  {
   "cell_type": "code",
   "execution_count": 10,
   "metadata": {
    "execution": {
     "iopub.execute_input": "2020-10-27T03:58:59.873111Z",
     "iopub.status.busy": "2020-10-27T03:58:59.871928Z",
     "iopub.status.idle": "2020-10-27T03:58:59.980906Z",
     "shell.execute_reply": "2020-10-27T03:58:59.980509Z"
    },
    "papermill": {
     "duration": 0.124716,
     "end_time": "2020-10-27T03:58:59.981000",
     "exception": false,
     "start_time": "2020-10-27T03:58:59.856284",
     "status": "completed"
    },
    "tags": []
   },
   "outputs": [
    {
     "name": "stdout",
     "output_type": "stream",
     "text": [
      "34\r\n"
     ]
    }
   ],
   "source": [
    "# stats of how many files in ES_DATA_FOLDER_PATH\n",
    "!cd $ES_DATA_FOLDER_PATH/ && ls | wc -l"
   ]
  },
  {
   "cell_type": "markdown",
   "metadata": {
    "papermill": {
     "duration": 0.01325,
     "end_time": "2020-10-27T03:59:00.007645",
     "exception": false,
     "start_time": "2020-10-27T03:58:59.994395",
     "status": "completed"
    },
    "tags": []
   },
   "source": [
    "## Load trile file into Blazegraph"
   ]
  },
  {
   "cell_type": "markdown",
   "metadata": {
    "papermill": {
     "duration": 0.013292,
     "end_time": "2020-10-27T03:59:00.034266",
     "exception": false,
     "start_time": "2020-10-27T03:59:00.020974",
     "status": "completed"
    },
    "tags": []
   },
   "source": [
    "Given triple files loaded into Blazegraph"
   ]
  },
  {
   "cell_type": "markdown",
   "metadata": {
    "papermill": {
     "duration": 0.013288,
     "end_time": "2020-10-27T03:59:00.060794",
     "exception": false,
     "start_time": "2020-10-27T03:59:00.047506",
     "status": "completed"
    },
    "tags": []
   },
   "source": [
    "## Load json file into ES"
   ]
  },
  {
   "cell_type": "markdown",
   "metadata": {
    "papermill": {
     "duration": 0.0132,
     "end_time": "2020-10-27T03:59:00.087329",
     "exception": false,
     "start_time": "2020-10-27T03:59:00.074129",
     "status": "completed"
    },
    "tags": []
   },
   "source": [
    "### Install all required libraries"
   ]
  },
  {
   "cell_type": "code",
   "execution_count": 11,
   "metadata": {
    "execution": {
     "iopub.execute_input": "2020-10-27T03:59:00.119200Z",
     "iopub.status.busy": "2020-10-27T03:59:00.118015Z",
     "iopub.status.idle": "2020-10-27T03:59:12.871376Z",
     "shell.execute_reply": "2020-10-27T03:59:12.871743Z"
    },
    "papermill": {
     "duration": 12.771148,
     "end_time": "2020-10-27T03:59:12.871876",
     "exception": false,
     "start_time": "2020-10-27T03:59:00.100728",
     "status": "completed"
    },
    "tags": []
   },
   "outputs": [
    {
     "name": "stdout",
     "output_type": "stream",
     "text": [
      "Requirement already satisfied: flask in /home/mingyuet/.local/lib/python3.7/site-packages (from -r requirements.txt (line 1)) (1.1.2)\r\n",
      "Requirement already satisfied: flask-cors in /home/mingyuet/.local/lib/python3.7/site-packages (from -r requirements.txt (line 2)) (3.0.8)\r\n",
      "Requirement already satisfied: requests in /home/mingyuet/.local/lib/python3.7/site-packages (from -r requirements.txt (line 3)) (2.24.0)\r\n"
     ]
    },
    {
     "name": "stdout",
     "output_type": "stream",
     "text": [
      "Requirement already satisfied: itsdangerous>=0.24 in /home/mingyuet/.conda/envs/kgtk-env/lib/python3.7/site-packages (from flask->-r requirements.txt (line 1)) (1.1.0)\r\n",
      "Requirement already satisfied: Werkzeug>=0.15 in /home/mingyuet/.local/lib/python3.7/site-packages (from flask->-r requirements.txt (line 1)) (1.0.1)\r\n",
      "Requirement already satisfied: Jinja2>=2.10.1 in /home/mingyuet/.local/lib/python3.7/site-packages (from flask->-r requirements.txt (line 1)) (2.11.2)\r\n",
      "Requirement already satisfied: click>=5.1 in /home/mingyuet/.local/lib/python3.7/site-packages (from flask->-r requirements.txt (line 1)) (7.0)\r\n",
      "Requirement already satisfied: Six in /home/mingyuet/.local/lib/python3.7/site-packages (from flask-cors->-r requirements.txt (line 2)) (1.15.0)\r\n",
      "Requirement already satisfied: chardet<4,>=3.0.2 in /home/mingyuet/.conda/envs/kgtk-env/lib/python3.7/site-packages (from requests->-r requirements.txt (line 3)) (3.0.4)\r\n",
      "Requirement already satisfied: urllib3!=1.25.0,!=1.25.1,<1.26,>=1.21.1 in /home/mingyuet/.local/lib/python3.7/site-packages (from requests->-r requirements.txt (line 3)) (1.25.9)\r\n",
      "Requirement already satisfied: idna<3,>=2.5 in /home/mingyuet/.local/lib/python3.7/site-packages (from requests->-r requirements.txt (line 3)) (2.10)\r\n",
      "Requirement already satisfied: certifi>=2017.4.17 in /home/mingyuet/.local/lib/python3.7/site-packages (from requests->-r requirements.txt (line 3)) (2020.6.20)\r\n",
      "Requirement already satisfied: MarkupSafe>=0.23 in /home/mingyuet/.conda/envs/kgtk-env/lib/python3.7/site-packages (from Jinja2>=2.10.1->flask->-r requirements.txt (line 1)) (1.1.1)\r\n"
     ]
    },
    {
     "name": "stdout",
     "output_type": "stream",
     "text": [
      "\u001b[?25l[\u001b[90m..................\u001b[0m] | rollbackFailedOptional: \u001b[34;40mverb\u001b[0m \u001b[35mnpm-session\u001b[0m c6a679ee9bc2f3e\u001b[0m\u001b[K\r"
     ]
    },
    {
     "name": "stdout",
     "output_type": "stream",
     "text": [
      "[\u001b[7m \u001b[27m\u001b[90m.................\u001b[0m] | preinstall:sqid: \u001b[32minfo\u001b[0m \u001b[35mlifecycle\u001b[0m sqid@0.1.0~preinstall: s\u001b[0m\u001b[K\r"
     ]
    },
    {
     "name": "stdout",
     "output_type": "stream",
     "text": [
      "[\u001b[7m \u001b[27m\u001b[90m.................\u001b[0m] | preinstall:sqid: \u001b[32minfo\u001b[0m \u001b[35mlifecycle\u001b[0m sqid@0.1.0~preinstall: s\u001b[0m\u001b[K\r"
     ]
    },
    {
     "name": "stdout",
     "output_type": "stream",
     "text": [
      "[\u001b[7m \u001b[27m\u001b[90m.................\u001b[0m] | preinstall:sqid: \u001b[32minfo\u001b[0m \u001b[35mlifecycle\u001b[0m sqid@0.1.0~preinstall: s\u001b[0m\u001b[K\r"
     ]
    },
    {
     "name": "stdout",
     "output_type": "stream",
     "text": [
      "[\u001b[7m \u001b[27m\u001b[90m.................\u001b[0m] | preinstall:sqid: \u001b[32minfo\u001b[0m \u001b[35mlifecycle\u001b[0m sqid@0.1.0~preinstall: s\u001b[0m\u001b[K\r"
     ]
    },
    {
     "name": "stdout",
     "output_type": "stream",
     "text": [
      "[\u001b[7m \u001b[27m\u001b[90m.................\u001b[0m] | preinstall:sqid: \u001b[32minfo\u001b[0m \u001b[35mlifecycle\u001b[0m sqid@0.1.0~preinstall: s\u001b[0m\u001b[K\r"
     ]
    },
    {
     "name": "stdout",
     "output_type": "stream",
     "text": [
      "[\u001b[7m \u001b[27m\u001b[90m.................\u001b[0m] | preinstall:sqid: \u001b[32minfo\u001b[0m \u001b[35mlifecycle\u001b[0m sqid@0.1.0~preinstall: s\u001b[0m\u001b[K\r"
     ]
    },
    {
     "name": "stdout",
     "output_type": "stream",
     "text": [
      "[\u001b[7m \u001b[27m\u001b[90m.................\u001b[0m] | preinstall:sqid: \u001b[32minfo\u001b[0m \u001b[35mlifecycle\u001b[0m sqid@0.1.0~preinstall: s\u001b[0m\u001b[K\r"
     ]
    },
    {
     "name": "stdout",
     "output_type": "stream",
     "text": [
      "[\u001b[7m \u001b[27m\u001b[90m.................\u001b[0m] | preinstall:sqid: \u001b[32minfo\u001b[0m \u001b[35mlifecycle\u001b[0m sqid@0.1.0~preinstall: s\u001b[0m\u001b[K\r"
     ]
    },
    {
     "name": "stdout",
     "output_type": "stream",
     "text": [
      "[\u001b[7m \u001b[27m\u001b[90m.................\u001b[0m] | preinstall:sqid: \u001b[32minfo\u001b[0m \u001b[35mlifecycle\u001b[0m sqid@0.1.0~preinstall: s\u001b[0m\u001b[K\r"
     ]
    },
    {
     "name": "stdout",
     "output_type": "stream",
     "text": [
      "[\u001b[7m \u001b[27m\u001b[90m.................\u001b[0m] | preinstall:sqid: \u001b[32minfo\u001b[0m \u001b[35mlifecycle\u001b[0m sqid@0.1.0~preinstall: s\u001b[0m\u001b[K\r"
     ]
    },
    {
     "name": "stdout",
     "output_type": "stream",
     "text": [
      "[\u001b[7m \u001b[27m\u001b[90m.................\u001b[0m] | preinstall:sqid: \u001b[32minfo\u001b[0m \u001b[35mlifecycle\u001b[0m sqid@0.1.0~preinstall: s\u001b[0m\u001b[K\r"
     ]
    },
    {
     "name": "stdout",
     "output_type": "stream",
     "text": [
      "[\u001b[7m \u001b[27m\u001b[90m.................\u001b[0m] | preinstall:sqid: \u001b[32minfo\u001b[0m \u001b[35mlifecycle\u001b[0m sqid@0.1.0~preinstall: s\u001b[0m\u001b[K\r"
     ]
    },
    {
     "name": "stdout",
     "output_type": "stream",
     "text": [
      "[\u001b[7m \u001b[27m\u001b[90m.................\u001b[0m] / loadIdealTree:loadAllDepsIntoIdealTree: \u001b[7msill\u001b[0m \u001b[35minstall\u001b[0m loa\u001b[0m\u001b[K\r"
     ]
    },
    {
     "name": "stdout",
     "output_type": "stream",
     "text": [
      "[\u001b[7m  \u001b[27m\u001b[90m................\u001b[0m] \\ loadDep:vuex-class: \u001b[7msill\u001b[0m \u001b[35minstall\u001b[0m loadAllDepsIntoIdealTre\u001b[0m\u001b[K\r"
     ]
    },
    {
     "name": "stdout",
     "output_type": "stream",
     "text": [
      "[\u001b[7m    \u001b[27m\u001b[90m..............\u001b[0m] \\ loadDep:safe-buffer: \u001b[7msill\u001b[0m \u001b[35minstall\u001b[0m loadAllDepsIntoIdealTr\u001b[0m\u001b[K\r"
     ]
    },
    {
     "name": "stdout",
     "output_type": "stream",
     "text": [
      "[\u001b[7m    \u001b[27m\u001b[90m..............\u001b[0m] \\ loadDep:semver: \u001b[7msill\u001b[0m \u001b[35minstall\u001b[0m loadAllDepsIntoIdealTree\u001b[0m\u001b[K\r"
     ]
    },
    {
     "name": "stdout",
     "output_type": "stream",
     "text": [
      "[\u001b[7m    \u001b[27m\u001b[90m..............\u001b[0m] \\ loadDep:es-abstract: \u001b[7msill\u001b[0m \u001b[35minstall\u001b[0m loadAllDepsIntoIdealTr\u001b[0m\u001b[K\r"
     ]
    },
    {
     "name": "stdout",
     "output_type": "stream",
     "text": [
      "[\u001b[7m    \u001b[27m\u001b[90m..............\u001b[0m] \\ loadDep:wrappy: \u001b[7msill\u001b[0m \u001b[35minstall\u001b[0m loadAllDepsIntoIdealTree\u001b[0m\u001b[K\r"
     ]
    },
    {
     "name": "stdout",
     "output_type": "stream",
     "text": [
      "[\u001b[7m    \u001b[27m\u001b[90m..............\u001b[0m] \\ loadDep:json5: \u001b[7msill\u001b[0m \u001b[35minstall\u001b[0m loadAllDepsIntoIdealTree\u001b[0m\u001b[K\r"
     ]
    },
    {
     "name": "stdout",
     "output_type": "stream",
     "text": [
      "[\u001b[7m    \u001b[27m\u001b[90m..............\u001b[0m] \\ loadDep:to-regex-range: \u001b[7msill\u001b[0m \u001b[35minstall\u001b[0m loadAllDepsIntoIdea\u001b[0m\u001b[K\r"
     ]
    },
    {
     "name": "stdout",
     "output_type": "stream",
     "text": [
      "[\u001b[7m    \u001b[27m\u001b[90m..............\u001b[0m] \\ loadDep:is-descriptor: \u001b[7msill\u001b[0m \u001b[35minstall\u001b[0m loadAllDepsIntoIdeal\u001b[0m\u001b[K\r"
     ]
    },
    {
     "name": "stdout",
     "output_type": "stream",
     "text": [
      "[\u001b[7m    \u001b[27m\u001b[90m..............\u001b[0m] \\ loadDep:safe-buffer: \u001b[7msill\u001b[0m \u001b[35minstall\u001b[0m loadAllDepsIntoIdealTr\u001b[0m\u001b[K\r"
     ]
    },
    {
     "name": "stdout",
     "output_type": "stream",
     "text": [
      "[\u001b[7m    \u001b[27m\u001b[90m..............\u001b[0m] \\ loadDep:source-map-support: \u001b[7msill\u001b[0m \u001b[35minstall\u001b[0m loadAllDepsInto\u001b[0m\u001b[K\r"
     ]
    },
    {
     "name": "stdout",
     "output_type": "stream",
     "text": [
      "[\u001b[7m    \u001b[27m\u001b[90m..............\u001b[0m] \\ loadDep:glob-to-regexp: \u001b[7msill\u001b[0m \u001b[35minstall\u001b[0m loadAllDepsIntoIdea\u001b[0m\u001b[K\r"
     ]
    },
    {
     "name": "stdout",
     "output_type": "stream",
     "text": [
      "[\u001b[7m    \u001b[27m\u001b[90m..............\u001b[0m] \\ loadDep:source-map: \u001b[7msill\u001b[0m \u001b[35minstall\u001b[0m loadAllDepsIntoIdealTre\u001b[0m\u001b[K\r"
     ]
    },
    {
     "name": "stdout",
     "output_type": "stream",
     "text": [
      "[\u001b[7m    \u001b[27m\u001b[90m..............\u001b[0m] \\ loadDep:strip-ansi: \u001b[7msill\u001b[0m \u001b[35minstall\u001b[0m loadAllDepsIntoIdealTre\u001b[0m\u001b[K\r"
     ]
    },
    {
     "name": "stdout",
     "output_type": "stream",
     "text": [
      "[\u001b[7m    \u001b[27m\u001b[90m..............\u001b[0m] \\ loadDep:semver: \u001b[7msill\u001b[0m \u001b[35minstall\u001b[0m loadAllDepsIntoIdealTree\u001b[0m\u001b[K\r"
     ]
    },
    {
     "name": "stdout",
     "output_type": "stream",
     "text": [
      "[\u001b[7m    \u001b[27m\u001b[90m..............\u001b[0m] \\ loadDep:p-reduce: \u001b[7msill\u001b[0m \u001b[35minstall\u001b[0m loadAllDepsIntoIdealTree\u001b[0m\u001b[K\r"
     ]
    },
    {
     "name": "stdout",
     "output_type": "stream",
     "text": [
      "[\u001b[7m    \u001b[27m\u001b[90m..............\u001b[0m] \\ loadDep:webpack-merge: \u001b[7msill\u001b[0m \u001b[35minstall\u001b[0m loadAllDepsIntoIdeal\u001b[0m\u001b[K\r"
     ]
    },
    {
     "name": "stdout",
     "output_type": "stream",
     "text": [
      "[\u001b[7m    \u001b[27m\u001b[90m..............\u001b[0m] \\ loadDep:postcss-value-parser: \u001b[7msill\u001b[0m \u001b[35minstall\u001b[0m loadAllDepsIn\u001b[0m\u001b[K\r"
     ]
    },
    {
     "name": "stdout",
     "output_type": "stream",
     "text": [
      "[\u001b[7m    \u001b[27m\u001b[90m..............\u001b[0m] \\ loadDep:yallist: \u001b[7msill\u001b[0m \u001b[35minstall\u001b[0m loadAllDepsIntoIdealTree\u001b[0m\u001b[K\r"
     ]
    },
    {
     "name": "stdout",
     "output_type": "stream",
     "text": [
      "[\u001b[7m    \u001b[27m\u001b[90m..............\u001b[0m] \\ loadDep:util.promisify: \u001b[7msill\u001b[0m \u001b[35minstall\u001b[0m loadAllDepsIntoIdea\u001b[0m\u001b[K\r"
     ]
    },
    {
     "name": "stdout",
     "output_type": "stream",
     "text": [
      "[\u001b[7m    \u001b[27m\u001b[90m..............\u001b[0m] \\ loadDep:vue-style-loader: \u001b[7msill\u001b[0m \u001b[35minstall\u001b[0m loadAllDepsIntoId\u001b[0m\u001b[K\r"
     ]
    },
    {
     "name": "stdout",
     "output_type": "stream",
     "text": [
      "[\u001b[7m    \u001b[27m\u001b[90m..............\u001b[0m] \\ loadDep:yargs: \u001b[7msill\u001b[0m \u001b[35minstall\u001b[0m loadAllDepsIntoIdealTree\u001b[0m\u001b[K\r"
     ]
    },
    {
     "name": "stdout",
     "output_type": "stream",
     "text": [
      "[\u001b[7m    \u001b[27m\u001b[90m..............\u001b[0m] \\ loadDep:ms: \u001b[7msill\u001b[0m \u001b[35minstall\u001b[0m loadAllDepsIntoIdealTree\u001b[0m\u001b[K\r"
     ]
    },
    {
     "name": "stdout",
     "output_type": "stream",
     "text": [
      "[\u001b[7m     \u001b[27m\u001b[90m.............\u001b[0m] \\ loadDep:figures: \u001b[7msill\u001b[0m \u001b[35minstall\u001b[0m loadAllDepsIntoIdealTree\u001b[0m\u001b[K\r"
     ]
    },
    {
     "name": "stdout",
     "output_type": "stream",
     "text": [
      "[\u001b[7m       \u001b[27m\u001b[90m...........\u001b[0m] | diffTrees: \u001b[7msill\u001b[0m \u001b[35minstall\u001b[0m generateActionsToTake\u001b[0m\u001b[K\r"
     ]
    },
    {
     "name": "stdout",
     "output_type": "stream",
     "text": [
      "[\u001b[7m       \u001b[27m\u001b[90m...........\u001b[0m] | diffTrees: \u001b[7msill\u001b[0m \u001b[35minstall\u001b[0m generateActionsToTake\u001b[0m\u001b[K\r"
     ]
    },
    {
     "name": "stdout",
     "output_type": "stream",
     "text": [
      "[\u001b[7m       \u001b[27m\u001b[90m...........\u001b[0m] - postinstall: \u001b[7msill\u001b[0m \u001b[35minstall\u001b[0m executeActions\u001b[0m\u001b[K\r"
     ]
    },
    {
     "name": "stdout",
     "output_type": "stream",
     "text": [
      "[\u001b[7m         \u001b[27m\u001b[90m.........\u001b[0m] / extract:fsevents: \u001b[7msill\u001b[0m \u001b[35mextract\u001b[0m fsevents@2.1.3 extracted\u001b[0m\u001b[K\r"
     ]
    },
    {
     "name": "stdout",
     "output_type": "stream",
     "text": [
      "[\u001b[7m             \u001b[27m\u001b[90m.....\u001b[0m] \\ prepare:sqid: \u001b[32minfo\u001b[0m \u001b[35mlifecycle\u001b[0m sqid@0.1.0~prepare: sqid@0.\u001b[0m\u001b[K\r"
     ]
    },
    {
     "name": "stdout",
     "output_type": "stream",
     "text": [
      "[\u001b[7m             \u001b[27m\u001b[90m.....\u001b[0m] \\ prepare:sqid: \u001b[32minfo\u001b[0m \u001b[35mlifecycle\u001b[0m sqid@0.1.0~prepare: sqid@0.\u001b[0m\u001b[K\r",
      "\r",
      "\u001b[K\u001b[?25h\u001b[37;40mnpm\u001b[0m \u001b[0m\u001b[30;43mWARN\u001b[0m\u001b[35m\u001b[0m bootstrap@4.5.2 requires a peer of jquery@1.9.1 - 3 but none is installed. You must install peer dependencies yourself.\r\n",
      "\u001b[0m\u001b[37;40mnpm\u001b[0m \u001b[0m\u001b[30;43mWARN\u001b[0m \u001b[0m\u001b[35moptional\u001b[0m SKIPPING OPTIONAL DEPENDENCY: fsevents@2.1.3 (node_modules/fsevents):\r\n",
      "\u001b[0m\u001b[37;40mnpm\u001b[0m \u001b[0m\u001b[30;43mWARN\u001b[0m \u001b[0m\u001b[35mnotsup\u001b[0m SKIPPING OPTIONAL DEPENDENCY: Unsupported platform for fsevents@2.1.3: wanted {\"os\":\"darwin\",\"arch\":\"any\"} (current: {\"os\":\"linux\",\"arch\":\"x64\"})\r\n",
      "\u001b[0m"
     ]
    },
    {
     "name": "stdout",
     "output_type": "stream",
     "text": [
      "\u001b[37;40mnpm\u001b[0m \u001b[0m\u001b[30;43mWARN\u001b[0m \u001b[0m\u001b[35moptional\u001b[0m SKIPPING OPTIONAL DEPENDENCY: fsevents@1.2.13 (node_modules/jest-haste-map/node_modules/fsevents):\r\n",
      "\u001b[0m\u001b[37;40mnpm\u001b[0m \u001b[0m\u001b[30;43mWARN\u001b[0m \u001b[0m\u001b[35mnotsup\u001b[0m SKIPPING OPTIONAL DEPENDENCY: Unsupported platform for fsevents@1.2.13: wanted {\"os\":\"darwin\",\"arch\":\"any\"} (current: {\"os\":\"linux\",\"arch\":\"x64\"})\r\n",
      "\u001b[0m\u001b[37;40mnpm\u001b[0m \u001b[0m\u001b[30;43mWARN\u001b[0m \u001b[0m\u001b[35moptional\u001b[0m SKIPPING OPTIONAL DEPENDENCY: fsevents@1.2.13 (node_modules/watchpack-chokidar2/node_modules/fsevents):\r\n",
      "\u001b[0m\u001b[37;40mnpm\u001b[0m \u001b[0m\u001b[30;43mWARN\u001b[0m \u001b[0m\u001b[35mnotsup\u001b[0m SKIPPING OPTIONAL DEPENDENCY: Unsupported platform for fsevents@1.2.13: wanted {\"os\":\"darwin\",\"arch\":\"any\"} (current: {\"os\":\"linux\",\"arch\":\"x64\"})\r\n",
      "\u001b[0m\u001b[37;40mnpm\u001b[0m \u001b[0m\u001b[30;43mWARN\u001b[0m \u001b[0m\u001b[35moptional\u001b[0m SKIPPING OPTIONAL DEPENDENCY: fsevents@1.2.13 (node_modules/webpack-dev-server/node_modules/fsevents):\r\n",
      "\u001b[0m\u001b[37;40mnpm\u001b[0m \u001b[0m\u001b[30;43mWARN\u001b[0m \u001b[0m\u001b[35mnotsup\u001b[0m SKIPPING OPTIONAL DEPENDENCY: Unsupported platform for fsevents@1.2.13: wanted {\"os\":\"darwin\",\"arch\":\"any\"} (current: {\"os\":\"linux\",\"arch\":\"x64\"})\r\n",
      "\u001b[0m\r\n",
      "\u001b[?25l[\u001b[7m             \u001b[27m\u001b[90m.....\u001b[0m] / prepare:sqid: \u001b[30;43mWARN\u001b[0m \u001b[35mnotsup\u001b[0m SKIPPING OPTIONAL DEPENDENCY:\u001b[0m\u001b[K\r",
      "\r",
      "\u001b[K\u001b[?25haudited 1675 packages in 9.285s\r\n"
     ]
    },
    {
     "name": "stdout",
     "output_type": "stream",
     "text": [
      "\r\n",
      "57 packages are looking for funding\r\n",
      "  run `npm fund` for details\r\n",
      "\r\n",
      "found 2 \u001b[1mlow\u001b[0m severity vulnerabilities\r\n",
      "  run `npm audit fix` to fix them, or `npm audit` for details\r\n",
      "\u001b[?25l[\u001b[7m             \u001b[27m\u001b[90m.....\u001b[0m] - prepare:sqid: \u001b[32;40mtiming\u001b[0m \u001b[35maudit body\u001b[0m Completed in 2ms\u001b[0m\u001b[K\r",
      "\r",
      "\u001b[K\u001b[?25h\r\n",
      "┌────────────────────────────────────────────────────────────┐\r\n",
      "│                 \u001b[33m npm update check failed \u001b[39m                  │\r\n",
      "│            Try running with \u001b[36msudo\u001b[39m or get access             │\r\n",
      "│            to the local update config store via            │\r\n",
      "│\u001b[36m sudo chown -R $USER:$(id -gn $USER) /home/mingyuet/.config \u001b[39m│\r\n",
      "└────────────────────────────────────────────────────────────┘\r\n"
     ]
    }
   ],
   "source": [
    "!python3 -m venv sqid-env\n",
    "!source sqid-env/bin/activate\n",
    "\n",
    "!cd flask && pip install -r requirements.txt\n",
    "!npm install ."
   ]
  },
  {
   "cell_type": "markdown",
   "metadata": {
    "papermill": {
     "duration": 0.02202,
     "end_time": "2020-10-27T03:59:12.916388",
     "exception": false,
     "start_time": "2020-10-27T03:59:12.894368",
     "status": "completed"
    },
    "tags": []
   },
   "source": [
    "### Modify Configuration file (Global configure)\n",
    "https://github.com/mtang724/sqid/blob/master/global_config.py\n",
    "\n",
    "Parameters:\n",
    "- HOST = \"localhost\"\n",
    "- SQID_PORT = 8051\n",
    "- SPARQL_PORT = 10002\n",
    "- FLASK_PORT = 5556\n",
    "- ES_INDEX = \"kgtk_files\"\n",
    "- ELASTICSEARCH_PORT = 9200\n",
    "- ES_DATA_FOLDER_PATH = \"/home/mingyuet/sqid/flask/es/es_data\""
   ]
  },
  {
   "cell_type": "code",
   "execution_count": 12,
   "metadata": {
    "execution": {
     "iopub.execute_input": "2020-10-27T03:59:12.963988Z",
     "iopub.status.busy": "2020-10-27T03:59:12.963572Z",
     "iopub.status.idle": "2020-10-27T03:59:13.073220Z",
     "shell.execute_reply": "2020-10-27T03:59:13.073553Z"
    },
    "papermill": {
     "duration": 0.135281,
     "end_time": "2020-10-27T03:59:13.073659",
     "exception": false,
     "start_time": "2020-10-27T03:59:12.938378",
     "status": "completed"
    },
    "tags": []
   },
   "outputs": [
    {
     "name": "stdout",
     "output_type": "stream",
     "text": [
      "import argparse\r\n",
      "\r\n",
      "HOST = \"localhost\"\r\n",
      "SQID_PORT = 8051\r\n",
      "SPARQL_PORT = 11102\r\n",
      "FLASK_PORT = 5556\r\n",
      "ES_INDEX = \"kgtk_files\"\r\n",
      "ELASTICSEARCH_PORT = 9200\r\n",
      "\r\n",
      "# Flask application config\r\n",
      "PROPERTY_FILES = [\r\n",
      "\t\"flask_data/wikidata_properties.tsv\"\r\n",
      "]\r\n",
      "ES_INDEX = ES_INDEX\r\n",
      "ELASTICSEARCH_HOST = \"http://{}:{}\".format(HOST, str(ELASTICSEARCH_PORT))\r\n"
     ]
    }
   ],
   "source": [
    "!head -n 15 global_config.py"
   ]
  },
  {
   "cell_type": "markdown",
   "metadata": {
    "papermill": {
     "duration": 0.022028,
     "end_time": "2020-10-27T03:59:13.117988",
     "exception": false,
     "start_time": "2020-10-27T03:59:13.095960",
     "status": "completed"
    },
    "tags": []
   },
   "source": [
    "### Create Index for ES"
   ]
  },
  {
   "cell_type": "code",
   "execution_count": 13,
   "metadata": {
    "execution": {
     "iopub.execute_input": "2020-10-27T03:59:13.166306Z",
     "iopub.status.busy": "2020-10-27T03:59:13.165898Z",
     "iopub.status.idle": "2020-10-27T03:59:13.523351Z",
     "shell.execute_reply": "2020-10-27T03:59:13.523724Z"
    },
    "papermill": {
     "duration": 0.383828,
     "end_time": "2020-10-27T03:59:13.523874",
     "exception": false,
     "start_time": "2020-10-27T03:59:13.140046",
     "status": "completed"
    },
    "tags": []
   },
   "outputs": [],
   "source": [
    "from elasticsearch import Elasticsearch\n",
    "import os\n",
    "from global_config import ES_INDEX"
   ]
  },
  {
   "cell_type": "code",
   "execution_count": 14,
   "metadata": {
    "execution": {
     "iopub.execute_input": "2020-10-27T03:59:13.572017Z",
     "iopub.status.busy": "2020-10-27T03:59:13.571611Z",
     "iopub.status.idle": "2020-10-27T03:59:13.573580Z",
     "shell.execute_reply": "2020-10-27T03:59:13.573231Z"
    },
    "papermill": {
     "duration": 0.027145,
     "end_time": "2020-10-27T03:59:13.573670",
     "exception": false,
     "start_time": "2020-10-27T03:59:13.546525",
     "status": "completed"
    },
    "tags": []
   },
   "outputs": [],
   "source": [
    "es = Elasticsearch()"
   ]
  },
  {
   "cell_type": "code",
   "execution_count": 15,
   "metadata": {
    "execution": {
     "iopub.execute_input": "2020-10-27T03:59:13.621432Z",
     "iopub.status.busy": "2020-10-27T03:59:13.621014Z",
     "iopub.status.idle": "2020-10-27T03:59:13.624122Z",
     "shell.execute_reply": "2020-10-27T03:59:13.624467Z"
    },
    "papermill": {
     "duration": 0.028497,
     "end_time": "2020-10-27T03:59:13.624569",
     "exception": false,
     "start_time": "2020-10-27T03:59:13.596072",
     "status": "completed"
    },
    "tags": []
   },
   "outputs": [],
   "source": [
    "# index name is defined in global_config file, ES_INDEX, please change this accordingly\n",
    "if not es.indices.exists(index=ES_INDEX):\n",
    "    os.system(\"cd flask/es/ && python create_index.py\")"
   ]
  },
  {
   "cell_type": "markdown",
   "metadata": {
    "papermill": {
     "duration": 0.022534,
     "end_time": "2020-10-27T03:59:13.669611",
     "exception": false,
     "start_time": "2020-10-27T03:59:13.647077",
     "status": "completed"
    },
    "tags": []
   },
   "source": [
    "### import index data from es_data (mediawiki json files)"
   ]
  },
  {
   "cell_type": "markdown",
   "metadata": {
    "papermill": {
     "duration": 0.02253,
     "end_time": "2020-10-27T03:59:13.714834",
     "exception": false,
     "start_time": "2020-10-27T03:59:13.692304",
     "status": "completed"
    },
    "tags": []
   },
   "source": [
    "Mediawiki json files path(es_data) is defined in global_config file"
   ]
  },
  {
   "cell_type": "code",
   "execution_count": 16,
   "metadata": {
    "execution": {
     "iopub.execute_input": "2020-10-27T03:59:13.762744Z",
     "iopub.status.busy": "2020-10-27T03:59:13.762292Z",
     "iopub.status.idle": "2020-10-27T03:59:18.219806Z",
     "shell.execute_reply": "2020-10-27T03:59:18.220158Z"
    },
    "papermill": {
     "duration": 4.482986,
     "end_time": "2020-10-27T03:59:18.220312",
     "exception": false,
     "start_time": "2020-10-27T03:59:13.737326",
     "status": "completed"
    },
    "tags": []
   },
   "outputs": [
    {
     "name": "stdout",
     "output_type": "stream",
     "text": [
      "\r",
      "  0%|                                                    | 0/32 [00:00<?, ?it/s]"
     ]
    },
    {
     "name": "stdout",
     "output_type": "stream",
     "text": [
      "\r",
      "  3%|█▍                                          | 1/32 [00:00<00:04,  7.48it/s]"
     ]
    },
    {
     "name": "stdout",
     "output_type": "stream",
     "text": [
      "\r",
      "  6%|██▊                                         | 2/32 [00:00<00:03,  7.55it/s]"
     ]
    },
    {
     "name": "stdout",
     "output_type": "stream",
     "text": [
      "\r",
      "  9%|████▏                                       | 3/32 [00:00<00:03,  7.66it/s]"
     ]
    },
    {
     "name": "stdout",
     "output_type": "stream",
     "text": [
      "\r",
      " 12%|█████▌                                      | 4/32 [00:00<00:03,  7.51it/s]"
     ]
    },
    {
     "name": "stdout",
     "output_type": "stream",
     "text": [
      "\r",
      " 16%|██████▉                                     | 5/32 [00:00<00:03,  8.10it/s]"
     ]
    },
    {
     "name": "stdout",
     "output_type": "stream",
     "text": [
      "\r",
      " 19%|████████▎                                   | 6/32 [00:00<00:03,  7.49it/s]"
     ]
    },
    {
     "name": "stdout",
     "output_type": "stream",
     "text": [
      "\r",
      " 22%|█████████▋                                  | 7/32 [00:00<00:03,  6.74it/s]"
     ]
    },
    {
     "name": "stdout",
     "output_type": "stream",
     "text": [
      "\r",
      " 28%|████████████▍                               | 9/32 [00:01<00:03,  7.55it/s]"
     ]
    },
    {
     "name": "stdout",
     "output_type": "stream",
     "text": [
      "\r",
      " 31%|█████████████▍                             | 10/32 [00:01<00:03,  7.33it/s]"
     ]
    },
    {
     "name": "stdout",
     "output_type": "stream",
     "text": [
      "\r",
      " 34%|██████████████▊                            | 11/32 [00:01<00:02,  7.93it/s]"
     ]
    },
    {
     "name": "stdout",
     "output_type": "stream",
     "text": [
      "\r",
      " 41%|█████████████████▍                         | 13/32 [00:01<00:02,  8.77it/s]"
     ]
    },
    {
     "name": "stdout",
     "output_type": "stream",
     "text": [
      "\r",
      " 44%|██████████████████▊                        | 14/32 [00:01<00:02,  8.02it/s]"
     ]
    },
    {
     "name": "stdout",
     "output_type": "stream",
     "text": [
      "\r",
      " 47%|████████████████████▏                      | 15/32 [00:01<00:02,  8.38it/s]"
     ]
    },
    {
     "name": "stdout",
     "output_type": "stream",
     "text": [
      "\r",
      " 50%|█████████████████████▌                     | 16/32 [00:01<00:01,  8.32it/s]"
     ]
    },
    {
     "name": "stdout",
     "output_type": "stream",
     "text": [
      "\r",
      " 53%|██████████████████████▊                    | 17/32 [00:02<00:01,  8.47it/s]"
     ]
    },
    {
     "name": "stdout",
     "output_type": "stream",
     "text": [
      "\r",
      " 56%|████████████████████████▏                  | 18/32 [00:02<00:01,  8.79it/s]"
     ]
    },
    {
     "name": "stdout",
     "output_type": "stream",
     "text": [
      "\r",
      " 59%|█████████████████████████▌                 | 19/32 [00:02<00:01,  8.12it/s]"
     ]
    },
    {
     "name": "stdout",
     "output_type": "stream",
     "text": [
      "\r",
      " 62%|██████████████████████████▉                | 20/32 [00:02<00:01,  8.42it/s]"
     ]
    },
    {
     "name": "stdout",
     "output_type": "stream",
     "text": [
      "\r",
      " 66%|████████████████████████████▏              | 21/32 [00:02<00:01,  7.76it/s]"
     ]
    },
    {
     "name": "stdout",
     "output_type": "stream",
     "text": [
      "\r",
      " 69%|█████████████████████████████▌             | 22/32 [00:02<00:01,  7.70it/s]"
     ]
    },
    {
     "name": "stdout",
     "output_type": "stream",
     "text": [
      "\r",
      " 72%|██████████████████████████████▉            | 23/32 [00:02<00:01,  7.60it/s]"
     ]
    },
    {
     "name": "stdout",
     "output_type": "stream",
     "text": [
      "\r",
      " 75%|████████████████████████████████▎          | 24/32 [00:02<00:01,  7.76it/s]"
     ]
    },
    {
     "name": "stdout",
     "output_type": "stream",
     "text": [
      "\r",
      " 78%|█████████████████████████████████▌         | 25/32 [00:03<00:00,  8.10it/s]"
     ]
    },
    {
     "name": "stdout",
     "output_type": "stream",
     "text": [
      "\r",
      " 84%|████████████████████████████████████▎      | 27/32 [00:03<00:00,  8.57it/s]"
     ]
    },
    {
     "name": "stdout",
     "output_type": "stream",
     "text": [
      "\r",
      " 88%|█████████████████████████████████████▋     | 28/32 [00:03<00:00,  8.02it/s]"
     ]
    },
    {
     "name": "stdout",
     "output_type": "stream",
     "text": [
      "\r",
      " 91%|██████████████████████████████████████▉    | 29/32 [00:03<00:00,  7.96it/s]"
     ]
    },
    {
     "name": "stdout",
     "output_type": "stream",
     "text": [
      "\r",
      " 94%|████████████████████████████████████████▎  | 30/32 [00:03<00:00,  8.39it/s]"
     ]
    },
    {
     "name": "stdout",
     "output_type": "stream",
     "text": [
      "\r",
      " 97%|█████████████████████████████████████████▋ | 31/32 [00:03<00:00,  7.66it/s]\r",
      "100%|███████████████████████████████████████████| 32/32 [00:03<00:00,  8.33it/s]\r\n"
     ]
    }
   ],
   "source": [
    "!cd flask/es/ && python import_data.py"
   ]
  },
  {
   "cell_type": "markdown",
   "metadata": {
    "papermill": {
     "duration": 0.027928,
     "end_time": "2020-10-27T03:59:18.276684",
     "exception": false,
     "start_time": "2020-10-27T03:59:18.248756",
     "status": "completed"
    },
    "tags": []
   },
   "source": [
    "delete all imported data"
   ]
  },
  {
   "cell_type": "code",
   "execution_count": 17,
   "metadata": {
    "execution": {
     "iopub.execute_input": "2020-10-27T03:59:18.339220Z",
     "iopub.status.busy": "2020-10-27T03:59:18.336076Z",
     "iopub.status.idle": "2020-10-27T03:59:18.451254Z",
     "shell.execute_reply": "2020-10-27T03:59:18.450888Z"
    },
    "papermill": {
     "duration": 0.146818,
     "end_time": "2020-10-27T03:59:18.451346",
     "exception": false,
     "start_time": "2020-10-27T03:59:18.304528",
     "status": "completed"
    },
    "tags": []
   },
   "outputs": [],
   "source": [
    "!rm -rf $ES_DATA_FOLDER_PATH/*.jsonl"
   ]
  },
  {
   "cell_type": "markdown",
   "metadata": {
    "papermill": {
     "duration": 0.027749,
     "end_time": "2020-10-27T03:59:18.507022",
     "exception": false,
     "start_time": "2020-10-27T03:59:18.479273",
     "status": "completed"
    },
    "tags": []
   },
   "source": [
    "Output some example indexes"
   ]
  },
  {
   "cell_type": "code",
   "execution_count": 18,
   "metadata": {
    "execution": {
     "iopub.execute_input": "2020-10-27T03:59:18.567126Z",
     "iopub.status.busy": "2020-10-27T03:59:18.566716Z",
     "iopub.status.idle": "2020-10-27T03:59:19.612466Z",
     "shell.execute_reply": "2020-10-27T03:59:19.612022Z"
    },
    "papermill": {
     "duration": 1.077748,
     "end_time": "2020-10-27T03:59:19.612565",
     "exception": false,
     "start_time": "2020-10-27T03:59:18.534817",
     "status": "completed"
    },
    "tags": []
   },
   "outputs": [
    {
     "name": "stdout",
     "output_type": "stream",
     "text": [
      "Got 10000 Hits:\n",
      "{'labels': {'en': {'languange': 'en', 'value': 'Dextromethorphan/quinidine'}}, 'descriptions': {}, 'aliases': {}, 'claims': {}, 'sitelinks': {}, 'type': 'item', 'id': 'Q5268496', 'pageid': -1, 'ns': -1, 'title': 'Q5268496', 'lastrevid': '2000-01-01T00:00:00Z'}\n",
      "{'labels': {'en': {'languange': 'en', 'value': 'Lewy body dementia'}}, 'descriptions': {}, 'aliases': {}, 'claims': {}, 'sitelinks': {}, 'type': 'item', 'id': 'Q52697931', 'pageid': -1, 'ns': -1, 'title': 'Q52697931', 'lastrevid': '2000-01-01T00:00:00Z'}\n",
      "{'labels': {'en': {'languange': 'en', 'value': 'one-of qualifier value property constraint'}}, 'descriptions': {}, 'aliases': {}, 'claims': {}, 'sitelinks': {}, 'type': 'item', 'id': 'Q52712340', 'pageid': -1, 'ns': -1, 'title': 'Q52712340', 'lastrevid': '2000-01-01T00:00:00Z'}\n",
      "{'labels': {'en': {'languange': 'en', 'value': 'diflorasone'}}, 'descriptions': {}, 'aliases': {}, 'claims': {}, 'sitelinks': {}, 'type': 'item', 'id': 'Q5275451', 'pageid': -1, 'ns': -1, 'title': 'Q5275451', 'lastrevid': '2000-01-01T00:00:00Z'}\n",
      "{'labels': {'en': {'languange': 'en', 'value': 'digestive system cancer'}}, 'descriptions': {}, 'aliases': {}, 'claims': {}, 'sitelinks': {}, 'type': 'item', 'id': 'Q5275615', 'pageid': -1, 'ns': -1, 'title': 'Q5275615', 'lastrevid': '2000-01-01T00:00:00Z'}\n",
      "{'labels': {'en': {'languange': 'en', 'value': 'foot disease'}}, 'descriptions': {}, 'aliases': {}, 'claims': {}, 'sitelinks': {}, 'type': 'item', 'id': 'Q5282137', 'pageid': -1, 'ns': -1, 'title': 'Q5282137', 'lastrevid': '2000-01-01T00:00:00Z'}\n",
      "{'labels': {'en': {'languange': 'en', 'value': 'calcium metabolism disease'}}, 'descriptions': {}, 'aliases': {}, 'claims': {}, 'sitelinks': {}, 'type': 'item', 'id': 'Q5282519', 'pageid': -1, 'ns': -1, 'title': 'Q5282519', 'lastrevid': '2000-01-01T00:00:00Z'}\n",
      "{'labels': {'en': {'languange': 'en', 'value': 'Sandoz'}}, 'descriptions': {}, 'aliases': {}, 'claims': {}, 'sitelinks': {}, 'type': 'item', 'id': 'Q528468', 'pageid': -1, 'ns': -1, 'title': 'Q528468', 'lastrevid': '2000-01-01T00:00:00Z'}\n",
      "{'labels': {'en': {'languange': 'en', 'value': 'spondyloarthropathy'}}, 'descriptions': {}, 'aliases': {}, 'claims': {}, 'sitelinks': {}, 'type': 'item', 'id': 'Q52848', 'pageid': -1, 'ns': -1, 'title': 'Q52848', 'lastrevid': '2000-01-01T00:00:00Z'}\n",
      "{'labels': {'en': {'languange': 'en', 'value': 'ankylosing spondylitis'}}, 'descriptions': {}, 'aliases': {}, 'claims': {}, 'sitelinks': {}, 'type': 'item', 'id': 'Q52849', 'pageid': -1, 'ns': -1, 'title': 'Q52849', 'lastrevid': '2000-01-01T00:00:00Z'}\n"
     ]
    }
   ],
   "source": [
    "res = es.search(index=ES_INDEX, body={\"query\": {\"match_all\": {}}})\n",
    "print(\"Got %d Hits:\" % res['hits']['total']['value'])\n",
    "for hit in res['hits']['hits']:\n",
    "    print(hit[\"_source\"])"
   ]
  },
  {
   "cell_type": "markdown",
   "metadata": {
    "papermill": {
     "duration": 0.028169,
     "end_time": "2020-10-27T03:59:19.669457",
     "exception": false,
     "start_time": "2020-10-27T03:59:19.641288",
     "status": "completed"
    },
    "tags": []
   },
   "source": [
    "### Run Global Configure File to generate endpoints for SQID and ES"
   ]
  },
  {
   "cell_type": "code",
   "execution_count": 19,
   "metadata": {
    "execution": {
     "iopub.execute_input": "2020-10-27T03:59:19.729013Z",
     "iopub.status.busy": "2020-10-27T03:59:19.728575Z",
     "iopub.status.idle": "2020-10-27T03:59:19.864381Z",
     "shell.execute_reply": "2020-10-27T03:59:19.864719Z"
    },
    "papermill": {
     "duration": 0.167259,
     "end_time": "2020-10-27T03:59:19.864824",
     "exception": false,
     "start_time": "2020-10-27T03:59:19.697565",
     "status": "completed"
    },
    "tags": []
   },
   "outputs": [],
   "source": [
    "# generate endpoints config file for SQID\n",
    "!python global_config.py --is_generate True"
   ]
  },
  {
   "cell_type": "markdown",
   "metadata": {
    "papermill": {
     "duration": 0.028268,
     "end_time": "2020-10-27T03:59:19.921610",
     "exception": false,
     "start_time": "2020-10-27T03:59:19.893342",
     "status": "completed"
    },
    "tags": []
   },
   "source": [
    "### Run ES index system using Flask\n",
    "\n",
    "and\n",
    "\n",
    "### Run SQID through npm run serve (development enviorment)"
   ]
  },
  {
   "cell_type": "code",
   "execution_count": 20,
   "metadata": {
    "execution": {
     "iopub.execute_input": "2020-10-27T03:59:19.983641Z",
     "iopub.status.busy": "2020-10-27T03:59:19.983231Z",
     "iopub.status.idle": "2020-10-27T03:59:19.991493Z",
     "shell.execute_reply": "2020-10-27T03:59:19.991122Z"
    },
    "papermill": {
     "duration": 0.041582,
     "end_time": "2020-10-27T03:59:19.991583",
     "exception": false,
     "start_time": "2020-10-27T03:59:19.950001",
     "status": "completed"
    },
    "tags": []
   },
   "outputs": [],
   "source": [
    "import subprocess\n",
    "flask_app= subprocess.Popen(\"cd flask/&&python app.py\", shell=True)\n",
    "sqid_interface = subprocess.Popen(\"npm run serve\", shell=True)"
   ]
  },
  {
   "cell_type": "code",
   "execution_count": null,
   "metadata": {
    "papermill": {
     "duration": 0.028581,
     "end_time": "2020-10-27T03:59:20.048823",
     "exception": false,
     "start_time": "2020-10-27T03:59:20.020242",
     "status": "completed"
    },
    "tags": []
   },
   "outputs": [],
   "source": []
  }
 ],
 "metadata": {
  "celltoolbar": "Tags",
  "kernelspec": {
   "display_name": "Python 3",
   "language": "python",
   "name": "python3"
  },
  "language_info": {
   "codemirror_mode": {
    "name": "ipython",
    "version": 3
   },
   "file_extension": ".py",
   "mimetype": "text/x-python",
   "name": "python",
   "nbconvert_exporter": "python",
   "pygments_lexer": "ipython3",
   "version": "3.7.8"
  },
  "papermill": {
   "default_parameters": {},
   "duration": 59.788729,
   "end_time": "2020-10-27T03:59:20.484648",
   "environment_variables": {},
   "exception": null,
   "input_path": "SQID_automatic_pipeline.ipynb",
   "output_path": "SQID_automatic_pipeline_out.ipynb",
   "parameters": {
    "kgtk_file": "kgtk_files/pharma_subgraph.tsv"
   },
   "start_time": "2020-10-27T03:58:20.695919",
   "version": "2.2.0"
  }
 },
 "nbformat": 4,
 "nbformat_minor": 4
}