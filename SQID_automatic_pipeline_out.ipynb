{
 "cells": [
  {
   "cell_type": "markdown",
   "metadata": {
    "papermill": {
     "duration": 0.012242,
     "end_time": "2020-10-27T19:50:44.643020",
     "exception": false,
     "start_time": "2020-10-27T19:50:44.630778",
     "status": "completed"
    },
    "tags": []
   },
   "source": [
    "# Below is a step-by-step example that how the pharma_subgraph KG used for SQID is built"
   ]
  },
  {
   "cell_type": "markdown",
   "metadata": {
    "papermill": {
     "duration": 0.011234,
     "end_time": "2020-10-27T19:50:44.666045",
     "exception": false,
     "start_time": "2020-10-27T19:50:44.654811",
     "status": "completed"
    },
    "tags": []
   },
   "source": [
    "Set up environment variables with location of the input files"
   ]
  },
  {
   "cell_type": "code",
   "execution_count": 1,
   "metadata": {
    "execution": {
     "iopub.execute_input": "2020-10-27T19:50:44.691445Z",
     "iopub.status.busy": "2020-10-27T19:50:44.691034Z",
     "iopub.status.idle": "2020-10-27T19:50:44.693127Z",
     "shell.execute_reply": "2020-10-27T19:50:44.692711Z"
    },
    "papermill": {
     "duration": 0.015989,
     "end_time": "2020-10-27T19:50:44.693257",
     "exception": false,
     "start_time": "2020-10-27T19:50:44.677268",
     "status": "completed"
    },
    "tags": [
     "parameters"
    ]
   },
   "outputs": [],
   "source": [
    "kgtk_file = \"kgtk_files/pharma_subgraph.tsv\""
   ]
  },
  {
   "cell_type": "code",
   "execution_count": 2,
   "metadata": {
    "execution": {
     "iopub.execute_input": "2020-10-27T19:50:44.718591Z",
     "iopub.status.busy": "2020-10-27T19:50:44.718184Z",
     "iopub.status.idle": "2020-10-27T19:50:44.720130Z",
     "shell.execute_reply": "2020-10-27T19:50:44.719731Z"
    },
    "papermill": {
     "duration": 0.015296,
     "end_time": "2020-10-27T19:50:44.720215",
     "exception": false,
     "start_time": "2020-10-27T19:50:44.704919",
     "status": "completed"
    },
    "tags": [
     "injected-parameters"
    ]
   },
   "outputs": [],
   "source": [
    "# Parameters\n",
    "kgtk_file = \"kgtk_files/pharma_subgraph.tsv\"\n"
   ]
  },
  {
   "cell_type": "code",
   "execution_count": 3,
   "metadata": {
    "execution": {
     "iopub.execute_input": "2020-10-27T19:50:44.746100Z",
     "iopub.status.busy": "2020-10-27T19:50:44.745679Z",
     "iopub.status.idle": "2020-10-27T19:50:44.748170Z",
     "shell.execute_reply": "2020-10-27T19:50:44.747825Z"
    },
    "papermill": {
     "duration": 0.016789,
     "end_time": "2020-10-27T19:50:44.748256",
     "exception": false,
     "start_time": "2020-10-27T19:50:44.731467",
     "status": "completed"
    },
    "tags": []
   },
   "outputs": [
    {
     "name": "stdout",
     "output_type": "stream",
     "text": [
      "env: ttl_files=ttl_files\n",
      "env: ES_DATA_FOLDER_PATH=flask/es/es_data\n"
     ]
    }
   ],
   "source": [
    "%env ttl_files=ttl_files\n",
    "%env ES_DATA_FOLDER_PATH = flask/es/es_data"
   ]
  },
  {
   "cell_type": "markdown",
   "metadata": {
    "papermill": {
     "duration": 0.011567,
     "end_time": "2020-10-27T19:50:44.771579",
     "exception": false,
     "start_time": "2020-10-27T19:50:44.760012",
     "status": "completed"
    },
    "tags": []
   },
   "source": [
    "## Building Wikidata triples and Mediawiki json files"
   ]
  },
  {
   "cell_type": "markdown",
   "metadata": {
    "papermill": {
     "duration": 0.011606,
     "end_time": "2020-10-27T19:50:44.794997",
     "exception": false,
     "start_time": "2020-10-27T19:50:44.783391",
     "status": "completed"
    },
    "tags": []
   },
   "source": [
    "pharma_subgraph.tsv link: https://drive.google.com/file/d/11oAhqCNR8vAIKXv0IhuIcy-L6NuDFxKF/view?usp=sharing"
   ]
  },
  {
   "cell_type": "markdown",
   "metadata": {
    "papermill": {
     "duration": 0.011695,
     "end_time": "2020-10-27T19:50:44.818356",
     "exception": false,
     "start_time": "2020-10-27T19:50:44.806661",
     "status": "completed"
    },
    "tags": []
   },
   "source": [
    "### Generate Wikidata Triples (under sqid/ttl_files) from KGTK TSV (pharma_subgraph) -- kgtk generate_wikidata_triples"
   ]
  },
  {
   "cell_type": "code",
   "execution_count": 4,
   "metadata": {
    "execution": {
     "iopub.execute_input": "2020-10-27T19:50:44.845522Z",
     "iopub.status.busy": "2020-10-27T19:50:44.845105Z",
     "iopub.status.idle": "2020-10-27T19:51:18.902255Z",
     "shell.execute_reply": "2020-10-27T19:51:18.902597Z"
    },
    "papermill": {
     "duration": 34.072746,
     "end_time": "2020-10-27T19:51:18.902724",
     "exception": false,
     "start_time": "2020-10-27T19:50:44.829978",
     "status": "completed"
    },
    "tags": []
   },
   "outputs": [
    {
     "name": "stdout",
     "output_type": "stream",
     "text": [
      "TTL generated\n"
     ]
    }
   ],
   "source": [
    "import os\n",
    "out = os.system(\"cat {} \\\n",
    "| kgtk generate_wikidata_triples -pf flask/flask_data/wikidata_properties.tsv -w yes -pd yes > subgraph.ttl\"\n",
    "          .format(kgtk_file))\n",
    "if out == 0:\n",
    "    print (\"TTL generated\")\n",
    "else:\n",
    "    print (\"Fail to generate TTL\")"
   ]
  },
  {
   "cell_type": "code",
   "execution_count": 5,
   "metadata": {
    "execution": {
     "iopub.execute_input": "2020-10-27T19:51:18.930562Z",
     "iopub.status.busy": "2020-10-27T19:51:18.930160Z",
     "iopub.status.idle": "2020-10-27T19:51:19.040365Z",
     "shell.execute_reply": "2020-10-27T19:51:19.040699Z"
    },
    "papermill": {
     "duration": 0.125603,
     "end_time": "2020-10-27T19:51:19.040806",
     "exception": false,
     "start_time": "2020-10-27T19:51:18.915203",
     "status": "completed"
    },
    "tags": []
   },
   "outputs": [
    {
     "name": "stdout",
     "output_type": "stream",
     "text": [
      "  File: subgraph.ttl\r\n",
      "  Size: 6020115   \tBlocks: 11768      IO Block: 4096   regular file\r\n",
      "Device: 10305h/66309d\tInode: 270583      Links: 1\r\n",
      "Access: (0664/-rw-rw-r--)  Uid: ( 1004/mingyuet)   Gid: ( 1004/mingyuet)\r\n",
      "Access: 2020-10-27 19:50:44.842384345 +0000\r\n",
      "Modify: 2020-10-27 19:51:18.282385498 +0000\r\n",
      "Change: 2020-10-27 19:51:18.282385498 +0000\r\n",
      " Birth: -\r\n"
     ]
    }
   ],
   "source": [
    "# stat of output ttl file\n",
    "!stat subgraph.ttl"
   ]
  },
  {
   "cell_type": "code",
   "execution_count": 6,
   "metadata": {
    "execution": {
     "iopub.execute_input": "2020-10-27T19:51:19.070122Z",
     "iopub.status.busy": "2020-10-27T19:51:19.068803Z",
     "iopub.status.idle": "2020-10-27T19:51:19.177286Z",
     "shell.execute_reply": "2020-10-27T19:51:19.176913Z"
    },
    "papermill": {
     "duration": 0.12402,
     "end_time": "2020-10-27T19:51:19.177373",
     "exception": false,
     "start_time": "2020-10-27T19:51:19.053353",
     "status": "completed"
    },
    "tags": []
   },
   "outputs": [
    {
     "name": "stdout",
     "output_type": "stream",
     "text": [
      "@prefix wikibase: <http://wikiba.se/ontology#> .\r\n",
      "@prefix wd: <http://www.wikidata.org/entity/> .\r\n",
      "@prefix wdt: <http://www.wikidata.org/prop/direct/> .\r\n",
      "@prefix wdtn: <http://www.wikidata.org/prop/direct-normalized/> .\r\n",
      "@prefix wdno: <http://www.wikidata.org/prop/novalue/> .\r\n"
     ]
    }
   ],
   "source": [
    "!head -n 5 subgraph.ttl"
   ]
  },
  {
   "cell_type": "code",
   "execution_count": 7,
   "metadata": {
    "execution": {
     "iopub.execute_input": "2020-10-27T19:51:19.205794Z",
     "iopub.status.busy": "2020-10-27T19:51:19.205383Z",
     "iopub.status.idle": "2020-10-27T19:51:19.315193Z",
     "shell.execute_reply": "2020-10-27T19:51:19.314724Z"
    },
    "papermill": {
     "duration": 0.125108,
     "end_time": "2020-10-27T19:51:19.315284",
     "exception": false,
     "start_time": "2020-10-27T19:51:19.190176",
     "status": "completed"
    },
    "tags": []
   },
   "outputs": [],
   "source": [
    "!mv *.ttl ttl_files/"
   ]
  },
  {
   "cell_type": "markdown",
   "metadata": {
    "papermill": {
     "duration": 0.012547,
     "end_time": "2020-10-27T19:51:19.340699",
     "exception": false,
     "start_time": "2020-10-27T19:51:19.328152",
     "status": "completed"
    },
    "tags": []
   },
   "source": [
    "### Generate Mediawiki JSON (under sqid/flask/es/es_data/) from KGTK TSV -- kgtk generate-mediawiki-jsons"
   ]
  },
  {
   "cell_type": "code",
   "execution_count": 8,
   "metadata": {
    "execution": {
     "iopub.execute_input": "2020-10-27T19:51:19.373887Z",
     "iopub.status.busy": "2020-10-27T19:51:19.373459Z",
     "iopub.status.idle": "2020-10-27T19:51:22.298933Z",
     "shell.execute_reply": "2020-10-27T19:51:22.299297Z"
    },
    "papermill": {
     "duration": 2.946047,
     "end_time": "2020-10-27T19:51:22.299457",
     "exception": false,
     "start_time": "2020-10-27T19:51:19.353410",
     "status": "completed"
    },
    "tags": []
   },
   "outputs": [
    {
     "name": "stdout",
     "output_type": "stream",
     "text": [
      "Media JSON file generated\n"
     ]
    }
   ],
   "source": [
    "file = kgtk_file.split(\"/\")[-1]\n",
    "os.system(\"cp {} {}/{}\".format(kgtk_file, os.getenv(\"ES_DATA_FOLDER_PATH\"), file))\n",
    " \n",
    "out = os.system(\"cat {}/{} \\\n",
    "| kgtk generate-mediawiki-jsons -pf flask/flask_data/wikidata_properties.tsv -w yes -pd yes\"\n",
    "          .format(os.getenv(\"ES_DATA_FOLDER_PATH\"), file))\n",
    "if out == 0:\n",
    "    print (\"Media JSON file generated\")\n",
    "else:\n",
    "    print (\"Media JSON file generate failed\")"
   ]
  },
  {
   "cell_type": "code",
   "execution_count": 9,
   "metadata": {
    "execution": {
     "iopub.execute_input": "2020-10-27T19:51:22.329837Z",
     "iopub.status.busy": "2020-10-27T19:51:22.329269Z",
     "iopub.status.idle": "2020-10-27T19:51:22.443395Z",
     "shell.execute_reply": "2020-10-27T19:51:22.443049Z"
    },
    "papermill": {
     "duration": 0.130482,
     "end_time": "2020-10-27T19:51:22.443490",
     "exception": false,
     "start_time": "2020-10-27T19:51:22.313008",
     "status": "completed"
    },
    "tags": []
   },
   "outputs": [],
   "source": [
    "!mv *.jsonl $ES_DATA_FOLDER_PATH/"
   ]
  },
  {
   "cell_type": "code",
   "execution_count": 10,
   "metadata": {
    "execution": {
     "iopub.execute_input": "2020-10-27T19:51:22.473871Z",
     "iopub.status.busy": "2020-10-27T19:51:22.472561Z",
     "iopub.status.idle": "2020-10-27T19:51:22.581428Z",
     "shell.execute_reply": "2020-10-27T19:51:22.581743Z"
    },
    "papermill": {
     "duration": 0.12524,
     "end_time": "2020-10-27T19:51:22.581850",
     "exception": false,
     "start_time": "2020-10-27T19:51:22.456610",
     "status": "completed"
    },
    "tags": []
   },
   "outputs": [
    {
     "name": "stdout",
     "output_type": "stream",
     "text": [
      "34\r\n"
     ]
    }
   ],
   "source": [
    "# stats of how many files in ES_DATA_FOLDER_PATH\n",
    "!cd $ES_DATA_FOLDER_PATH/ && ls | wc -l"
   ]
  },
  {
   "cell_type": "markdown",
   "metadata": {
    "papermill": {
     "duration": 0.013161,
     "end_time": "2020-10-27T19:51:22.608313",
     "exception": false,
     "start_time": "2020-10-27T19:51:22.595152",
     "status": "completed"
    },
    "tags": []
   },
   "source": [
    "## Load trile file into Blazegraph"
   ]
  },
  {
   "cell_type": "markdown",
   "metadata": {
    "papermill": {
     "duration": 0.013152,
     "end_time": "2020-10-27T19:51:22.634626",
     "exception": false,
     "start_time": "2020-10-27T19:51:22.621474",
     "status": "completed"
    },
    "tags": []
   },
   "source": [
    "Given triple files loaded into Blazegraph"
   ]
  },
  {
   "cell_type": "markdown",
   "metadata": {
    "papermill": {
     "duration": 0.013101,
     "end_time": "2020-10-27T19:51:22.660955",
     "exception": false,
     "start_time": "2020-10-27T19:51:22.647854",
     "status": "completed"
    },
    "tags": []
   },
   "source": [
    "## Load json file into ES"
   ]
  },
  {
   "cell_type": "markdown",
   "metadata": {
    "papermill": {
     "duration": 0.013156,
     "end_time": "2020-10-27T19:51:22.687321",
     "exception": false,
     "start_time": "2020-10-27T19:51:22.674165",
     "status": "completed"
    },
    "tags": []
   },
   "source": [
    "### Install all required libraries"
   ]
  },
  {
   "cell_type": "code",
   "execution_count": 11,
   "metadata": {
    "execution": {
     "iopub.execute_input": "2020-10-27T19:51:22.719655Z",
     "iopub.status.busy": "2020-10-27T19:51:22.718400Z",
     "iopub.status.idle": "2020-10-27T19:51:46.474199Z",
     "shell.execute_reply": "2020-10-27T19:51:46.474578Z"
    },
    "papermill": {
     "duration": 23.774027,
     "end_time": "2020-10-27T19:51:46.474716",
     "exception": false,
     "start_time": "2020-10-27T19:51:22.700689",
     "status": "completed"
    },
    "tags": []
   },
   "outputs": [
    {
     "name": "stdout",
     "output_type": "stream",
     "text": [
      "Requirement already satisfied: flask in /home/mingyuet/.local/lib/python3.7/site-packages (from -r requirements.txt (line 1)) (1.1.2)\r\n"
     ]
    },
    {
     "name": "stdout",
     "output_type": "stream",
     "text": [
      "Requirement already satisfied: flask-cors in /home/mingyuet/.local/lib/python3.7/site-packages (from -r requirements.txt (line 2)) (3.0.8)\r\n",
      "Requirement already satisfied: requests in /home/mingyuet/.local/lib/python3.7/site-packages (from -r requirements.txt (line 3)) (2.24.0)\r\n",
      "Requirement already satisfied: click>=5.1 in /home/mingyuet/.local/lib/python3.7/site-packages (from flask->-r requirements.txt (line 1)) (7.0)\r\n",
      "Requirement already satisfied: Jinja2>=2.10.1 in /home/mingyuet/.local/lib/python3.7/site-packages (from flask->-r requirements.txt (line 1)) (2.11.2)\r\n",
      "Requirement already satisfied: itsdangerous>=0.24 in /home/mingyuet/.conda/envs/kgtk-env/lib/python3.7/site-packages (from flask->-r requirements.txt (line 1)) (1.1.0)\r\n",
      "Requirement already satisfied: Werkzeug>=0.15 in /home/mingyuet/.local/lib/python3.7/site-packages (from flask->-r requirements.txt (line 1)) (1.0.1)\r\n",
      "Requirement already satisfied: Six in /home/mingyuet/.local/lib/python3.7/site-packages (from flask-cors->-r requirements.txt (line 2)) (1.15.0)\r\n",
      "Requirement already satisfied: chardet<4,>=3.0.2 in /home/mingyuet/.conda/envs/kgtk-env/lib/python3.7/site-packages (from requests->-r requirements.txt (line 3)) (3.0.4)\r\n",
      "Requirement already satisfied: idna<3,>=2.5 in /home/mingyuet/.local/lib/python3.7/site-packages (from requests->-r requirements.txt (line 3)) (2.10)\r\n",
      "Requirement already satisfied: urllib3!=1.25.0,!=1.25.1,<1.26,>=1.21.1 in /home/mingyuet/.local/lib/python3.7/site-packages (from requests->-r requirements.txt (line 3)) (1.25.9)\r\n",
      "Requirement already satisfied: certifi>=2017.4.17 in /home/mingyuet/.local/lib/python3.7/site-packages (from requests->-r requirements.txt (line 3)) (2020.6.20)\r\n",
      "Requirement already satisfied: MarkupSafe>=0.23 in /home/mingyuet/.conda/envs/kgtk-env/lib/python3.7/site-packages (from Jinja2>=2.10.1->flask->-r requirements.txt (line 1)) (1.1.1)\r\n"
     ]
    },
    {
     "name": "stdout",
     "output_type": "stream",
     "text": [
      "\u001b[?25l"
     ]
    },
    {
     "name": "stdout",
     "output_type": "stream",
     "text": [
      "[\u001b[90m..................\u001b[0m] | rollbackFailedOptional: \u001b[34;40mverb\u001b[0m \u001b[35mnpm-session\u001b[0m 04f01ce772f402c\u001b[0m\u001b[K\r",
      "[\u001b[7m \u001b[27m\u001b[90m.................\u001b[0m] | preinstall:sqid: \u001b[32minfo\u001b[0m \u001b[35mlifecycle\u001b[0m sqid@0.1.0~preinstall: s\u001b[0m\u001b[K\r"
     ]
    },
    {
     "name": "stdout",
     "output_type": "stream",
     "text": [
      "[\u001b[7m \u001b[27m\u001b[90m.................\u001b[0m] | preinstall:sqid: \u001b[32minfo\u001b[0m \u001b[35mlifecycle\u001b[0m sqid@0.1.0~preinstall: s\u001b[0m\u001b[K\r"
     ]
    },
    {
     "name": "stdout",
     "output_type": "stream",
     "text": [
      "[\u001b[7m \u001b[27m\u001b[90m.................\u001b[0m] | preinstall:sqid: \u001b[32minfo\u001b[0m \u001b[35mlifecycle\u001b[0m sqid@0.1.0~preinstall: s\u001b[0m\u001b[K\r"
     ]
    },
    {
     "name": "stdout",
     "output_type": "stream",
     "text": [
      "[\u001b[7m \u001b[27m\u001b[90m.................\u001b[0m] | preinstall:sqid: \u001b[32minfo\u001b[0m \u001b[35mlifecycle\u001b[0m sqid@0.1.0~preinstall: s\u001b[0m\u001b[K\r"
     ]
    },
    {
     "name": "stdout",
     "output_type": "stream",
     "text": [
      "[\u001b[7m \u001b[27m\u001b[90m.................\u001b[0m] | preinstall:sqid: \u001b[32minfo\u001b[0m \u001b[35mlifecycle\u001b[0m sqid@0.1.0~preinstall: s\u001b[0m\u001b[K\r"
     ]
    },
    {
     "name": "stdout",
     "output_type": "stream",
     "text": [
      "[\u001b[7m \u001b[27m\u001b[90m.................\u001b[0m] | preinstall:sqid: \u001b[32minfo\u001b[0m \u001b[35mlifecycle\u001b[0m sqid@0.1.0~preinstall: s\u001b[0m\u001b[K\r"
     ]
    },
    {
     "name": "stdout",
     "output_type": "stream",
     "text": [
      "[\u001b[7m \u001b[27m\u001b[90m.................\u001b[0m] | preinstall:sqid: \u001b[32minfo\u001b[0m \u001b[35mlifecycle\u001b[0m sqid@0.1.0~preinstall: s\u001b[0m\u001b[K\r"
     ]
    },
    {
     "name": "stdout",
     "output_type": "stream",
     "text": [
      "[\u001b[7m \u001b[27m\u001b[90m.................\u001b[0m] | preinstall:sqid: \u001b[32minfo\u001b[0m \u001b[35mlifecycle\u001b[0m sqid@0.1.0~preinstall: s\u001b[0m\u001b[K\r"
     ]
    },
    {
     "name": "stdout",
     "output_type": "stream",
     "text": [
      "[\u001b[7m \u001b[27m\u001b[90m.................\u001b[0m] | preinstall:sqid: \u001b[32minfo\u001b[0m \u001b[35mlifecycle\u001b[0m sqid@0.1.0~preinstall: s\u001b[0m\u001b[K\r"
     ]
    },
    {
     "name": "stdout",
     "output_type": "stream",
     "text": [
      "[\u001b[7m \u001b[27m\u001b[90m.................\u001b[0m] | preinstall:sqid: \u001b[32minfo\u001b[0m \u001b[35mlifecycle\u001b[0m sqid@0.1.0~preinstall: s\u001b[0m\u001b[K\r"
     ]
    },
    {
     "name": "stdout",
     "output_type": "stream",
     "text": [
      "[\u001b[7m \u001b[27m\u001b[90m.................\u001b[0m] | preinstall:sqid: \u001b[32minfo\u001b[0m \u001b[35mlifecycle\u001b[0m sqid@0.1.0~preinstall: s\u001b[0m\u001b[K\r"
     ]
    },
    {
     "name": "stdout",
     "output_type": "stream",
     "text": [
      "[\u001b[7m \u001b[27m\u001b[90m.................\u001b[0m] | preinstall:sqid: \u001b[32minfo\u001b[0m \u001b[35mlifecycle\u001b[0m sqid@0.1.0~preinstall: s\u001b[0m\u001b[K\r"
     ]
    },
    {
     "name": "stdout",
     "output_type": "stream",
     "text": [
      "[\u001b[7m \u001b[27m\u001b[90m.................\u001b[0m] | preinstall:sqid: \u001b[32minfo\u001b[0m \u001b[35mlifecycle\u001b[0m sqid@0.1.0~preinstall: s\u001b[0m\u001b[K\r"
     ]
    },
    {
     "name": "stdout",
     "output_type": "stream",
     "text": [
      "[\u001b[7m \u001b[27m\u001b[90m.................\u001b[0m] / loadIdealTree:loadAllDepsIntoIdealTree: \u001b[7msill\u001b[0m \u001b[35minstall\u001b[0m loa\u001b[0m\u001b[K\r"
     ]
    },
    {
     "name": "stdout",
     "output_type": "stream",
     "text": [
      "[\u001b[7m  \u001b[27m\u001b[90m................\u001b[0m] \\ loadDep:vuex-class: \u001b[7msill\u001b[0m \u001b[35minstall\u001b[0m loadAllDepsIntoIdealTre\u001b[0m\u001b[K\r"
     ]
    },
    {
     "name": "stdout",
     "output_type": "stream",
     "text": [
      "[\u001b[7m    \u001b[27m\u001b[90m..............\u001b[0m] \\ loadDep:@babel/types: \u001b[7msill\u001b[0m \u001b[35minstall\u001b[0m loadAllDepsIntoIdealT\u001b[0m\u001b[K\r"
     ]
    },
    {
     "name": "stdout",
     "output_type": "stream",
     "text": [
      "[\u001b[7m    \u001b[27m\u001b[90m..............\u001b[0m] \\ loadDep:semver: \u001b[7msill\u001b[0m \u001b[35minstall\u001b[0m loadAllDepsIntoIdealTree\u001b[0m\u001b[K\r"
     ]
    },
    {
     "name": "stdout",
     "output_type": "stream",
     "text": [
      "[\u001b[7m    \u001b[27m\u001b[90m..............\u001b[0m] \\ loadDep:string.prototype.trimstart: \u001b[7msill\u001b[0m \u001b[35minstall\u001b[0m loadAll\u001b[0m\u001b[K\r"
     ]
    },
    {
     "name": "stdout",
     "output_type": "stream",
     "text": [
      "[\u001b[7m    \u001b[27m\u001b[90m..............\u001b[0m] \\ loadDep:@hapi/topo: \u001b[7msill\u001b[0m \u001b[35minstall\u001b[0m loadAllDepsIntoIdealTre\u001b[0m\u001b[K\r"
     ]
    },
    {
     "name": "stdout",
     "output_type": "stream",
     "text": [
      "[\u001b[7m    \u001b[27m\u001b[90m..............\u001b[0m] \\ loadDep:tweetnacl: \u001b[7msill\u001b[0m \u001b[35minstall\u001b[0m loadAllDepsIntoIdealTree\u001b[0m\u001b[K\r"
     ]
    },
    {
     "name": "stdout",
     "output_type": "stream",
     "text": [
      "[\u001b[7m    \u001b[27m\u001b[90m..............\u001b[0m] \\ loadDep:tslib: \u001b[7msill\u001b[0m \u001b[35minstall\u001b[0m loadAllDepsIntoIdealTree\u001b[0m\u001b[K\r"
     ]
    },
    {
     "name": "stdout",
     "output_type": "stream",
     "text": [
      "[\u001b[7m    \u001b[27m\u001b[90m..............\u001b[0m] \\ loadDep:object-copy: \u001b[7msill\u001b[0m \u001b[35minstall\u001b[0m loadAllDepsIntoIdealTr\u001b[0m\u001b[K\r"
     ]
    },
    {
     "name": "stdout",
     "output_type": "stream",
     "text": [
      "[\u001b[7m    \u001b[27m\u001b[90m..............\u001b[0m] \\ loadDep:randomfill: \u001b[7msill\u001b[0m \u001b[35minstall\u001b[0m loadAllDepsIntoIdealTre\u001b[0m\u001b[K\r"
     ]
    },
    {
     "name": "stdout",
     "output_type": "stream",
     "text": [
      "[\u001b[7m    \u001b[27m\u001b[90m..............\u001b[0m] \\ loadDep:y18n: \u001b[7msill\u001b[0m \u001b[35minstall\u001b[0m loadAllDepsIntoIdealTree\u001b[0m\u001b[K\r"
     ]
    },
    {
     "name": "stdout",
     "output_type": "stream",
     "text": [
      "[\u001b[7m    \u001b[27m\u001b[90m..............\u001b[0m] \\ loadDep:path-dirname: \u001b[7msill\u001b[0m \u001b[35minstall\u001b[0m loadAllDepsIntoIdealT\u001b[0m\u001b[K\r"
     ]
    },
    {
     "name": "stdout",
     "output_type": "stream",
     "text": [
      "[\u001b[7m    \u001b[27m\u001b[90m..............\u001b[0m] \\ loadDep:strip-indent: \u001b[7msill\u001b[0m \u001b[35minstall\u001b[0m loadAllDepsIntoIdealT\u001b[0m\u001b[K\r"
     ]
    },
    {
     "name": "stdout",
     "output_type": "stream",
     "text": [
      "[\u001b[7m    \u001b[27m\u001b[90m..............\u001b[0m] \\ loadDep:stack-utils: \u001b[7msill\u001b[0m \u001b[35minstall\u001b[0m loadAllDepsIntoIdealTr\u001b[0m\u001b[K\r"
     ]
    },
    {
     "name": "stdout",
     "output_type": "stream",
     "text": [
      "[\u001b[7m    \u001b[27m\u001b[90m..............\u001b[0m] \\ loadDep:strip-ansi: \u001b[7msill\u001b[0m \u001b[35minstall\u001b[0m loadAllDepsIntoIdealTre\u001b[0m\u001b[K\r"
     ]
    },
    {
     "name": "stdout",
     "output_type": "stream",
     "text": [
      "[\u001b[7m    \u001b[27m\u001b[90m..............\u001b[0m] \\ loadDep:semver: \u001b[7msill\u001b[0m \u001b[35minstall\u001b[0m loadAllDepsIntoIdealTree\u001b[0m\u001b[K\r"
     ]
    },
    {
     "name": "stdout",
     "output_type": "stream",
     "text": [
      "[\u001b[7m    \u001b[27m\u001b[90m..............\u001b[0m] \\ loadDep:decamelize: \u001b[7msill\u001b[0m \u001b[35minstall\u001b[0m loadAllDepsIntoIdealTre\u001b[0m\u001b[K\r"
     ]
    },
    {
     "name": "stdout",
     "output_type": "stream",
     "text": [
      "[\u001b[7m    \u001b[27m\u001b[90m..............\u001b[0m] \\ loadDep:css: \u001b[7msill\u001b[0m \u001b[35minstall\u001b[0m loadAllDepsIntoIdealTree\u001b[0m\u001b[K\r"
     ]
    },
    {
     "name": "stdout",
     "output_type": "stream",
     "text": [
      "[\u001b[7m    \u001b[27m\u001b[90m..............\u001b[0m] \\ loadDep:postcss-value-parser: \u001b[7msill\u001b[0m \u001b[35minstall\u001b[0m loadAllDepsIn\u001b[0m\u001b[K\r"
     ]
    },
    {
     "name": "stdout",
     "output_type": "stream",
     "text": [
      "[\u001b[7m    \u001b[27m\u001b[90m..............\u001b[0m] \\ loadDep:domelementtype: \u001b[7msill\u001b[0m \u001b[35minstall\u001b[0m loadAllDepsIntoIdea\u001b[0m\u001b[K\r"
     ]
    },
    {
     "name": "stdout",
     "output_type": "stream",
     "text": [
      "[\u001b[7m    \u001b[27m\u001b[90m..............\u001b[0m] \\ loadDep:decamelize: \u001b[7msill\u001b[0m \u001b[35minstall\u001b[0m loadAllDepsIntoIdealTre\u001b[0m\u001b[K\r"
     ]
    },
    {
     "name": "stdout",
     "output_type": "stream",
     "text": [
      "[\u001b[7m    \u001b[27m\u001b[90m..............\u001b[0m] \\ loadDep:readable-stream: \u001b[7msill\u001b[0m \u001b[35minstall\u001b[0m loadAllDepsIntoIde\u001b[0m\u001b[K\r"
     ]
    },
    {
     "name": "stdout",
     "output_type": "stream",
     "text": [
      "[\u001b[7m    \u001b[27m\u001b[90m..............\u001b[0m] \\ loadDep:ws: \u001b[7msill\u001b[0m \u001b[35minstall\u001b[0m loadAllDepsIntoIdealTree\u001b[0m\u001b[K\r"
     ]
    },
    {
     "name": "stdout",
     "output_type": "stream",
     "text": [
      "[\u001b[7m    \u001b[27m\u001b[90m..............\u001b[0m] \\ loadDep:multicast-dns-service-types: \u001b[7msill\u001b[0m \u001b[35minstall\u001b[0m loadAl\u001b[0m\u001b[K\r"
     ]
    },
    {
     "name": "stdout",
     "output_type": "stream",
     "text": [
      "[\u001b[7m    \u001b[27m\u001b[90m..............\u001b[0m] \\ loadDep:spdy-transport: \u001b[7msill\u001b[0m \u001b[35minstall\u001b[0m loadAllDepsIntoIdea\u001b[0m\u001b[K\r"
     ]
    },
    {
     "name": "stdout",
     "output_type": "stream",
     "text": [
      "[\u001b[7m     \u001b[27m\u001b[90m.............\u001b[0m] \\ loadDep:fastq: \u001b[7msill\u001b[0m \u001b[35minstall\u001b[0m loadAllDepsIntoIdealTree\u001b[0m\u001b[K\r"
     ]
    },
    {
     "name": "stdout",
     "output_type": "stream",
     "text": [
      "[\u001b[7m       \u001b[27m\u001b[90m...........\u001b[0m] | diffTrees: \u001b[7msill\u001b[0m \u001b[35minstall\u001b[0m generateActionsToTake\u001b[0m\u001b[K\r"
     ]
    },
    {
     "name": "stdout",
     "output_type": "stream",
     "text": [
      "[\u001b[7m       \u001b[27m\u001b[90m...........\u001b[0m] | diffTrees: \u001b[7msill\u001b[0m \u001b[35minstall\u001b[0m generateActionsToTake\u001b[0m\u001b[K\r"
     ]
    },
    {
     "name": "stdout",
     "output_type": "stream",
     "text": [
      "[\u001b[7m       \u001b[27m\u001b[90m...........\u001b[0m] - postinstall: \u001b[7msill\u001b[0m \u001b[35minstall\u001b[0m executeActions\u001b[0m\u001b[K\r"
     ]
    },
    {
     "name": "stdout",
     "output_type": "stream",
     "text": [
      "[\u001b[7m       \u001b[27m\u001b[90m...........\u001b[0m] | extract:fsevents: \u001b[34;40mverb\u001b[0m \u001b[35mlock\u001b[0m using /home/mingyuet/.npm/_l\u001b[0m\u001b[K\r"
     ]
    },
    {
     "name": "stdout",
     "output_type": "stream",
     "text": [
      "[\u001b[7m             \u001b[27m\u001b[90m.....\u001b[0m] \\ prepare:sqid: \u001b[32minfo\u001b[0m \u001b[35mlifecycle\u001b[0m sqid@0.1.0~prepare: sqid@0.\u001b[0m\u001b[K\r"
     ]
    },
    {
     "name": "stdout",
     "output_type": "stream",
     "text": [
      "[\u001b[7m             \u001b[27m\u001b[90m.....\u001b[0m] \\ prepare:sqid: \u001b[32minfo\u001b[0m \u001b[35mlifecycle\u001b[0m sqid@0.1.0~prepare: sqid@0.\u001b[0m\u001b[K\r",
      "\r",
      "\u001b[K\u001b[?25h\u001b[37;40mnpm\u001b[0m \u001b[0m\u001b[30;43mWARN\u001b[0m\u001b[35m\u001b[0m bootstrap@4.5.2 requires a peer of jquery@1.9.1 - 3 but none is installed. You must install peer dependencies yourself.\r\n",
      "\u001b[0m\u001b[37;40mnpm\u001b[0m \u001b[0m\u001b[30;43mWARN\u001b[0m \u001b[0m\u001b[35moptional\u001b[0m SKIPPING OPTIONAL DEPENDENCY: fsevents@1.2.13 (node_modules/jest-haste-map/node_modules/fsevents):\r\n",
      "\u001b[0m\u001b[37;40mnpm\u001b[0m \u001b[0m\u001b[30;43mWARN\u001b[0m \u001b[0m\u001b[35mnotsup\u001b[0m SKIPPING OPTIONAL DEPENDENCY: Unsupported platform for fsevents@1.2.13: wanted {\"os\":\"darwin\",\"arch\":\"any\"} (current: {\"os\":\"linux\",\"arch\":\"x64\"})\r\n",
      "\u001b[0m\u001b[37;40mnpm\u001b[0m \u001b[0m\u001b[30;43mWARN\u001b[0m \u001b[0m\u001b[35moptional\u001b[0m SKIPPING OPTIONAL DEPENDENCY: fsevents@2.1.3 (node_modules/fsevents):\r\n",
      "\u001b[0m\u001b[37;40mnpm\u001b[0m \u001b[0m\u001b[30;43mWARN\u001b[0m \u001b[0m\u001b[35mnotsup\u001b[0m SKIPPING OPTIONAL DEPENDENCY: Unsupported platform for fsevents@2.1.3: wanted {\"os\":\"darwin\",\"arch\":\"any\"} (current: {\"os\":\"linux\",\"arch\":\"x64\"})\r\n",
      "\u001b[0m\u001b[37;40mnpm\u001b[0m \u001b[0m\u001b[30;43mWARN\u001b[0m \u001b[0m\u001b[35moptional\u001b[0m SKIPPING OPTIONAL DEPENDENCY: fsevents@1.2.13 (node_modules/webpack-dev-server/node_modules/fsevents):\r\n",
      "\u001b[0m\u001b[37;40mnpm\u001b[0m \u001b[0m\u001b[30;43mWARN\u001b[0m \u001b[0m\u001b[35mnotsup\u001b[0m SKIPPING OPTIONAL DEPENDENCY: Unsupported platform for fsevents@1.2.13: wanted {\"os\":\"darwin\",\"arch\":\"any\"} (current: {\"os\":\"linux\",\"arch\":\"x64\"})\r\n",
      "\u001b[0m"
     ]
    },
    {
     "name": "stdout",
     "output_type": "stream",
     "text": [
      "\u001b[37;40mnpm\u001b[0m \u001b[0m\u001b[30;43mWARN\u001b[0m \u001b[0m\u001b[35moptional\u001b[0m SKIPPING OPTIONAL DEPENDENCY: fsevents@1.2.13 (node_modules/watchpack-chokidar2/node_modules/fsevents):\r\n",
      "\u001b[0m\u001b[37;40mnpm\u001b[0m \u001b[0m\u001b[30;43mWARN\u001b[0m \u001b[0m\u001b[35mnotsup\u001b[0m SKIPPING OPTIONAL DEPENDENCY: Unsupported platform for fsevents@1.2.13: wanted {\"os\":\"darwin\",\"arch\":\"any\"} (current: {\"os\":\"linux\",\"arch\":\"x64\"})\r\n",
      "\u001b[0m\r\n",
      "\u001b[?25l[\u001b[7m             \u001b[27m\u001b[90m.....\u001b[0m] \\ prepare:sqid: \u001b[30;43mWARN\u001b[0m \u001b[35mnotsup\u001b[0m SKIPPING OPTIONAL DEPENDENCY:\u001b[0m\u001b[K\r"
     ]
    },
    {
     "name": "stdout",
     "output_type": "stream",
     "text": [
      "[\u001b[7m             \u001b[27m\u001b[90m.....\u001b[0m] \\ prepare:sqid: \u001b[30;43mWARN\u001b[0m \u001b[35mnotsup\u001b[0m SKIPPING OPTIONAL DEPENDENCY:\u001b[0m\u001b[K\r"
     ]
    },
    {
     "name": "stdout",
     "output_type": "stream",
     "text": [
      "[\u001b[7m             \u001b[27m\u001b[90m.....\u001b[0m] \\ prepare:sqid: \u001b[30;43mWARN\u001b[0m \u001b[35mnotsup\u001b[0m SKIPPING OPTIONAL DEPENDENCY:\u001b[0m\u001b[K\r"
     ]
    },
    {
     "name": "stdout",
     "output_type": "stream",
     "text": [
      "[\u001b[7m             \u001b[27m\u001b[90m.....\u001b[0m] \\ prepare:sqid: \u001b[30;43mWARN\u001b[0m \u001b[35mnotsup\u001b[0m SKIPPING OPTIONAL DEPENDENCY:\u001b[0m\u001b[K\r"
     ]
    },
    {
     "name": "stdout",
     "output_type": "stream",
     "text": [
      "[\u001b[7m             \u001b[27m\u001b[90m.....\u001b[0m] \\ prepare:sqid: \u001b[30;43mWARN\u001b[0m \u001b[35mnotsup\u001b[0m SKIPPING OPTIONAL DEPENDENCY:\u001b[0m\u001b[K\r"
     ]
    },
    {
     "name": "stdout",
     "output_type": "stream",
     "text": [
      "[\u001b[7m             \u001b[27m\u001b[90m.....\u001b[0m] \\ prepare:sqid: \u001b[30;43mWARN\u001b[0m \u001b[35mnotsup\u001b[0m SKIPPING OPTIONAL DEPENDENCY:\u001b[0m\u001b[K\r"
     ]
    },
    {
     "name": "stdout",
     "output_type": "stream",
     "text": [
      "[\u001b[7m             \u001b[27m\u001b[90m.....\u001b[0m] \\ prepare:sqid: \u001b[30;43mWARN\u001b[0m \u001b[35mnotsup\u001b[0m SKIPPING OPTIONAL DEPENDENCY:\u001b[0m\u001b[K\r"
     ]
    },
    {
     "name": "stdout",
     "output_type": "stream",
     "text": [
      "[\u001b[7m             \u001b[27m\u001b[90m.....\u001b[0m] \\ prepare:sqid: \u001b[30;43mWARN\u001b[0m \u001b[35mnotsup\u001b[0m SKIPPING OPTIONAL DEPENDENCY:\u001b[0m\u001b[K\r"
     ]
    },
    {
     "name": "stdout",
     "output_type": "stream",
     "text": [
      "[\u001b[7m             \u001b[27m\u001b[90m.....\u001b[0m] \\ prepare:sqid: \u001b[30;43mWARN\u001b[0m \u001b[35mnotsup\u001b[0m SKIPPING OPTIONAL DEPENDENCY:\u001b[0m\u001b[K\r"
     ]
    },
    {
     "name": "stdout",
     "output_type": "stream",
     "text": [
      "[\u001b[7m             \u001b[27m\u001b[90m.....\u001b[0m] \\ prepare:sqid: \u001b[30;43mWARN\u001b[0m \u001b[35mnotsup\u001b[0m SKIPPING OPTIONAL DEPENDENCY:\u001b[0m\u001b[K\r"
     ]
    },
    {
     "name": "stdout",
     "output_type": "stream",
     "text": [
      "[\u001b[7m             \u001b[27m\u001b[90m.....\u001b[0m] \\ prepare:sqid: \u001b[30;43mWARN\u001b[0m \u001b[35mnotsup\u001b[0m SKIPPING OPTIONAL DEPENDENCY:\u001b[0m\u001b[K\r"
     ]
    },
    {
     "name": "stdout",
     "output_type": "stream",
     "text": [
      "[\u001b[7m             \u001b[27m\u001b[90m.....\u001b[0m] \\ prepare:sqid: \u001b[30;43mWARN\u001b[0m \u001b[35mnotsup\u001b[0m SKIPPING OPTIONAL DEPENDENCY:\u001b[0m\u001b[K\r",
      "[\u001b[7m             \u001b[27m\u001b[90m.....\u001b[0m] \\ prepare:sqid: \u001b[30;43mWARN\u001b[0m \u001b[35mnotsup\u001b[0m SKIPPING OPTIONAL DEPENDENCY:\u001b[0m\u001b[K\r"
     ]
    },
    {
     "name": "stdout",
     "output_type": "stream",
     "text": [
      "[\u001b[7m             \u001b[27m\u001b[90m.....\u001b[0m] \\ prepare:sqid: \u001b[30;43mWARN\u001b[0m \u001b[35mnotsup\u001b[0m SKIPPING OPTIONAL DEPENDENCY:\u001b[0m\u001b[K\r"
     ]
    },
    {
     "name": "stdout",
     "output_type": "stream",
     "text": [
      "[\u001b[7m             \u001b[27m\u001b[90m.....\u001b[0m] \\ prepare:sqid: \u001b[30;43mWARN\u001b[0m \u001b[35mnotsup\u001b[0m SKIPPING OPTIONAL DEPENDENCY:\u001b[0m\u001b[K\r"
     ]
    },
    {
     "name": "stdout",
     "output_type": "stream",
     "text": [
      "[\u001b[7m             \u001b[27m\u001b[90m.....\u001b[0m] \\ prepare:sqid: \u001b[30;43mWARN\u001b[0m \u001b[35mnotsup\u001b[0m SKIPPING OPTIONAL DEPENDENCY:\u001b[0m\u001b[K\r"
     ]
    },
    {
     "name": "stdout",
     "output_type": "stream",
     "text": [
      "[\u001b[7m             \u001b[27m\u001b[90m.....\u001b[0m] \\ prepare:sqid: \u001b[30;43mWARN\u001b[0m \u001b[35mnotsup\u001b[0m SKIPPING OPTIONAL DEPENDENCY:\u001b[0m\u001b[K\r"
     ]
    },
    {
     "name": "stdout",
     "output_type": "stream",
     "text": [
      "[\u001b[7m             \u001b[27m\u001b[90m.....\u001b[0m] \\ prepare:sqid: \u001b[30;43mWARN\u001b[0m \u001b[35mnotsup\u001b[0m SKIPPING OPTIONAL DEPENDENCY:\u001b[0m\u001b[K\r"
     ]
    },
    {
     "name": "stdout",
     "output_type": "stream",
     "text": [
      "[\u001b[7m             \u001b[27m\u001b[90m.....\u001b[0m] \\ prepare:sqid: \u001b[30;43mWARN\u001b[0m \u001b[35mnotsup\u001b[0m SKIPPING OPTIONAL DEPENDENCY:\u001b[0m\u001b[K\r"
     ]
    },
    {
     "name": "stdout",
     "output_type": "stream",
     "text": [
      "[\u001b[7m             \u001b[27m\u001b[90m.....\u001b[0m] \\ prepare:sqid: \u001b[30;43mWARN\u001b[0m \u001b[35mnotsup\u001b[0m SKIPPING OPTIONAL DEPENDENCY:\u001b[0m\u001b[K\r"
     ]
    },
    {
     "name": "stdout",
     "output_type": "stream",
     "text": [
      "[\u001b[7m             \u001b[27m\u001b[90m.....\u001b[0m] \\ prepare:sqid: \u001b[30;43mWARN\u001b[0m \u001b[35mnotsup\u001b[0m SKIPPING OPTIONAL DEPENDENCY:\u001b[0m\u001b[K\r"
     ]
    },
    {
     "name": "stdout",
     "output_type": "stream",
     "text": [
      "[\u001b[7m             \u001b[27m\u001b[90m.....\u001b[0m] \\ prepare:sqid: \u001b[30;43mWARN\u001b[0m \u001b[35mnotsup\u001b[0m SKIPPING OPTIONAL DEPENDENCY:\u001b[0m\u001b[K\r"
     ]
    },
    {
     "name": "stdout",
     "output_type": "stream",
     "text": [
      "[\u001b[7m             \u001b[27m\u001b[90m.....\u001b[0m] \\ prepare:sqid: \u001b[30;43mWARN\u001b[0m \u001b[35mnotsup\u001b[0m SKIPPING OPTIONAL DEPENDENCY:\u001b[0m\u001b[K\r"
     ]
    },
    {
     "name": "stdout",
     "output_type": "stream",
     "text": [
      "[\u001b[7m             \u001b[27m\u001b[90m.....\u001b[0m] \\ prepare:sqid: \u001b[30;43mWARN\u001b[0m \u001b[35mnotsup\u001b[0m SKIPPING OPTIONAL DEPENDENCY:\u001b[0m\u001b[K\r"
     ]
    },
    {
     "name": "stdout",
     "output_type": "stream",
     "text": [
      "[\u001b[7m             \u001b[27m\u001b[90m.....\u001b[0m] \\ prepare:sqid: \u001b[30;43mWARN\u001b[0m \u001b[35mnotsup\u001b[0m SKIPPING OPTIONAL DEPENDENCY:\u001b[0m\u001b[K\r"
     ]
    },
    {
     "name": "stdout",
     "output_type": "stream",
     "text": [
      "[\u001b[7m             \u001b[27m\u001b[90m.....\u001b[0m] \\ prepare:sqid: \u001b[30;43mWARN\u001b[0m \u001b[35mnotsup\u001b[0m SKIPPING OPTIONAL DEPENDENCY:\u001b[0m\u001b[K\r"
     ]
    },
    {
     "name": "stdout",
     "output_type": "stream",
     "text": [
      "[\u001b[7m             \u001b[27m\u001b[90m.....\u001b[0m] \\ prepare:sqid: \u001b[30;43mWARN\u001b[0m \u001b[35mnotsup\u001b[0m SKIPPING OPTIONAL DEPENDENCY:\u001b[0m\u001b[K\r"
     ]
    },
    {
     "name": "stdout",
     "output_type": "stream",
     "text": [
      "[\u001b[7m             \u001b[27m\u001b[90m.....\u001b[0m] \\ prepare:sqid: \u001b[30;43mWARN\u001b[0m \u001b[35mnotsup\u001b[0m SKIPPING OPTIONAL DEPENDENCY:\u001b[0m\u001b[K\r"
     ]
    },
    {
     "name": "stdout",
     "output_type": "stream",
     "text": [
      "[\u001b[7m             \u001b[27m\u001b[90m.....\u001b[0m] \\ prepare:sqid: \u001b[30;43mWARN\u001b[0m \u001b[35mnotsup\u001b[0m SKIPPING OPTIONAL DEPENDENCY:\u001b[0m\u001b[K\r"
     ]
    },
    {
     "name": "stdout",
     "output_type": "stream",
     "text": [
      "[\u001b[7m             \u001b[27m\u001b[90m.....\u001b[0m] \\ prepare:sqid: \u001b[30;43mWARN\u001b[0m \u001b[35mnotsup\u001b[0m SKIPPING OPTIONAL DEPENDENCY:\u001b[0m\u001b[K\r"
     ]
    },
    {
     "name": "stdout",
     "output_type": "stream",
     "text": [
      "[\u001b[7m             \u001b[27m\u001b[90m.....\u001b[0m] \\ prepare:sqid: \u001b[30;43mWARN\u001b[0m \u001b[35mnotsup\u001b[0m SKIPPING OPTIONAL DEPENDENCY:\u001b[0m\u001b[K\r"
     ]
    },
    {
     "name": "stdout",
     "output_type": "stream",
     "text": [
      "[\u001b[7m             \u001b[27m\u001b[90m.....\u001b[0m] \\ prepare:sqid: \u001b[30;43mWARN\u001b[0m \u001b[35mnotsup\u001b[0m SKIPPING OPTIONAL DEPENDENCY:\u001b[0m\u001b[K\r"
     ]
    },
    {
     "name": "stdout",
     "output_type": "stream",
     "text": [
      "[\u001b[7m             \u001b[27m\u001b[90m.....\u001b[0m] \\ prepare:sqid: \u001b[30;43mWARN\u001b[0m \u001b[35mnotsup\u001b[0m SKIPPING OPTIONAL DEPENDENCY:\u001b[0m\u001b[K\r"
     ]
    },
    {
     "name": "stdout",
     "output_type": "stream",
     "text": [
      "[\u001b[7m             \u001b[27m\u001b[90m.....\u001b[0m] \\ prepare:sqid: \u001b[30;43mWARN\u001b[0m \u001b[35mnotsup\u001b[0m SKIPPING OPTIONAL DEPENDENCY:\u001b[0m\u001b[K\r"
     ]
    },
    {
     "name": "stdout",
     "output_type": "stream",
     "text": [
      "[\u001b[7m             \u001b[27m\u001b[90m.....\u001b[0m] \\ prepare:sqid: \u001b[30;43mWARN\u001b[0m \u001b[35mnotsup\u001b[0m SKIPPING OPTIONAL DEPENDENCY:\u001b[0m\u001b[K\r"
     ]
    },
    {
     "name": "stdout",
     "output_type": "stream",
     "text": [
      "[\u001b[7m             \u001b[27m\u001b[90m.....\u001b[0m] \\ prepare:sqid: \u001b[30;43mWARN\u001b[0m \u001b[35mnotsup\u001b[0m SKIPPING OPTIONAL DEPENDENCY:\u001b[0m\u001b[K\r"
     ]
    },
    {
     "name": "stdout",
     "output_type": "stream",
     "text": [
      "[\u001b[7m             \u001b[27m\u001b[90m.....\u001b[0m] \\ prepare:sqid: \u001b[30;43mWARN\u001b[0m \u001b[35mnotsup\u001b[0m SKIPPING OPTIONAL DEPENDENCY:\u001b[0m\u001b[K\r"
     ]
    },
    {
     "name": "stdout",
     "output_type": "stream",
     "text": [
      "[\u001b[7m             \u001b[27m\u001b[90m.....\u001b[0m] \\ prepare:sqid: \u001b[30;43mWARN\u001b[0m \u001b[35mnotsup\u001b[0m SKIPPING OPTIONAL DEPENDENCY:\u001b[0m\u001b[K\r"
     ]
    },
    {
     "name": "stdout",
     "output_type": "stream",
     "text": [
      "[\u001b[7m             \u001b[27m\u001b[90m.....\u001b[0m] \\ prepare:sqid: \u001b[30;43mWARN\u001b[0m \u001b[35mnotsup\u001b[0m SKIPPING OPTIONAL DEPENDENCY:\u001b[0m\u001b[K\r"
     ]
    },
    {
     "name": "stdout",
     "output_type": "stream",
     "text": [
      "[\u001b[7m             \u001b[27m\u001b[90m.....\u001b[0m] \\ prepare:sqid: \u001b[30;43mWARN\u001b[0m \u001b[35mnotsup\u001b[0m SKIPPING OPTIONAL DEPENDENCY:\u001b[0m\u001b[K\r"
     ]
    },
    {
     "name": "stdout",
     "output_type": "stream",
     "text": [
      "[\u001b[7m             \u001b[27m\u001b[90m.....\u001b[0m] \\ prepare:sqid: \u001b[30;43mWARN\u001b[0m \u001b[35mnotsup\u001b[0m SKIPPING OPTIONAL DEPENDENCY:\u001b[0m\u001b[K\r"
     ]
    },
    {
     "name": "stdout",
     "output_type": "stream",
     "text": [
      "[\u001b[7m             \u001b[27m\u001b[90m.....\u001b[0m] \\ prepare:sqid: \u001b[30;43mWARN\u001b[0m \u001b[35mnotsup\u001b[0m SKIPPING OPTIONAL DEPENDENCY:\u001b[0m\u001b[K\r"
     ]
    },
    {
     "name": "stdout",
     "output_type": "stream",
     "text": [
      "[\u001b[7m             \u001b[27m\u001b[90m.....\u001b[0m] \\ prepare:sqid: \u001b[30;43mWARN\u001b[0m \u001b[35mnotsup\u001b[0m SKIPPING OPTIONAL DEPENDENCY:\u001b[0m\u001b[K\r"
     ]
    },
    {
     "name": "stdout",
     "output_type": "stream",
     "text": [
      "[\u001b[7m             \u001b[27m\u001b[90m.....\u001b[0m] \\ prepare:sqid: \u001b[30;43mWARN\u001b[0m \u001b[35mnotsup\u001b[0m SKIPPING OPTIONAL DEPENDENCY:\u001b[0m\u001b[K\r"
     ]
    },
    {
     "name": "stdout",
     "output_type": "stream",
     "text": [
      "[\u001b[7m             \u001b[27m\u001b[90m.....\u001b[0m] \\ prepare:sqid: \u001b[30;43mWARN\u001b[0m \u001b[35mnotsup\u001b[0m SKIPPING OPTIONAL DEPENDENCY:\u001b[0m\u001b[K\r"
     ]
    },
    {
     "name": "stdout",
     "output_type": "stream",
     "text": [
      "[\u001b[7m             \u001b[27m\u001b[90m.....\u001b[0m] \\ prepare:sqid: \u001b[30;43mWARN\u001b[0m \u001b[35mnotsup\u001b[0m SKIPPING OPTIONAL DEPENDENCY:\u001b[0m\u001b[K\r"
     ]
    },
    {
     "name": "stdout",
     "output_type": "stream",
     "text": [
      "[\u001b[7m             \u001b[27m\u001b[90m.....\u001b[0m] \\ prepare:sqid: \u001b[30;43mWARN\u001b[0m \u001b[35mnotsup\u001b[0m SKIPPING OPTIONAL DEPENDENCY:\u001b[0m\u001b[K\r"
     ]
    },
    {
     "name": "stdout",
     "output_type": "stream",
     "text": [
      "[\u001b[7m             \u001b[27m\u001b[90m.....\u001b[0m] \\ prepare:sqid: \u001b[30;43mWARN\u001b[0m \u001b[35mnotsup\u001b[0m SKIPPING OPTIONAL DEPENDENCY:\u001b[0m\u001b[K\r"
     ]
    },
    {
     "name": "stdout",
     "output_type": "stream",
     "text": [
      "[\u001b[7m             \u001b[27m\u001b[90m.....\u001b[0m] \\ prepare:sqid: \u001b[30;43mWARN\u001b[0m \u001b[35mnotsup\u001b[0m SKIPPING OPTIONAL DEPENDENCY:\u001b[0m\u001b[K\r"
     ]
    },
    {
     "name": "stdout",
     "output_type": "stream",
     "text": [
      "[\u001b[7m             \u001b[27m\u001b[90m.....\u001b[0m] \\ prepare:sqid: \u001b[30;43mWARN\u001b[0m \u001b[35mnotsup\u001b[0m SKIPPING OPTIONAL DEPENDENCY:\u001b[0m\u001b[K\r"
     ]
    },
    {
     "name": "stdout",
     "output_type": "stream",
     "text": [
      "[\u001b[7m             \u001b[27m\u001b[90m.....\u001b[0m] \\ prepare:sqid: \u001b[30;43mWARN\u001b[0m \u001b[35mnotsup\u001b[0m SKIPPING OPTIONAL DEPENDENCY:\u001b[0m\u001b[K\r"
     ]
    },
    {
     "name": "stdout",
     "output_type": "stream",
     "text": [
      "[\u001b[7m             \u001b[27m\u001b[90m.....\u001b[0m] \\ prepare:sqid: \u001b[30;43mWARN\u001b[0m \u001b[35mnotsup\u001b[0m SKIPPING OPTIONAL DEPENDENCY:\u001b[0m\u001b[K\r"
     ]
    },
    {
     "name": "stdout",
     "output_type": "stream",
     "text": [
      "[\u001b[7m             \u001b[27m\u001b[90m.....\u001b[0m] \\ prepare:sqid: \u001b[30;43mWARN\u001b[0m \u001b[35mnotsup\u001b[0m SKIPPING OPTIONAL DEPENDENCY:\u001b[0m\u001b[K\r"
     ]
    },
    {
     "name": "stdout",
     "output_type": "stream",
     "text": [
      "[\u001b[7m             \u001b[27m\u001b[90m.....\u001b[0m] \\ prepare:sqid: \u001b[30;43mWARN\u001b[0m \u001b[35mnotsup\u001b[0m SKIPPING OPTIONAL DEPENDENCY:\u001b[0m\u001b[K\r"
     ]
    },
    {
     "name": "stdout",
     "output_type": "stream",
     "text": [
      "[\u001b[7m             \u001b[27m\u001b[90m.....\u001b[0m] \\ prepare:sqid: \u001b[30;43mWARN\u001b[0m \u001b[35mnotsup\u001b[0m SKIPPING OPTIONAL DEPENDENCY:\u001b[0m\u001b[K\r"
     ]
    },
    {
     "name": "stdout",
     "output_type": "stream",
     "text": [
      "[\u001b[7m             \u001b[27m\u001b[90m.....\u001b[0m] \\ prepare:sqid: \u001b[30;43mWARN\u001b[0m \u001b[35mnotsup\u001b[0m SKIPPING OPTIONAL DEPENDENCY:\u001b[0m\u001b[K\r"
     ]
    },
    {
     "name": "stdout",
     "output_type": "stream",
     "text": [
      "[\u001b[7m             \u001b[27m\u001b[90m.....\u001b[0m] \\ prepare:sqid: \u001b[30;43mWARN\u001b[0m \u001b[35mnotsup\u001b[0m SKIPPING OPTIONAL DEPENDENCY:\u001b[0m\u001b[K\r"
     ]
    },
    {
     "name": "stdout",
     "output_type": "stream",
     "text": [
      "[\u001b[7m             \u001b[27m\u001b[90m.....\u001b[0m] \\ prepare:sqid: \u001b[30;43mWARN\u001b[0m \u001b[35mnotsup\u001b[0m SKIPPING OPTIONAL DEPENDENCY:\u001b[0m\u001b[K\r"
     ]
    },
    {
     "name": "stdout",
     "output_type": "stream",
     "text": [
      "[\u001b[7m             \u001b[27m\u001b[90m.....\u001b[0m] \\ prepare:sqid: \u001b[30;43mWARN\u001b[0m \u001b[35mnotsup\u001b[0m SKIPPING OPTIONAL DEPENDENCY:\u001b[0m\u001b[K\r"
     ]
    },
    {
     "name": "stdout",
     "output_type": "stream",
     "text": [
      "[\u001b[7m             \u001b[27m\u001b[90m.....\u001b[0m] \\ prepare:sqid: \u001b[30;43mWARN\u001b[0m \u001b[35mnotsup\u001b[0m SKIPPING OPTIONAL DEPENDENCY:\u001b[0m\u001b[K\r"
     ]
    },
    {
     "name": "stdout",
     "output_type": "stream",
     "text": [
      "[\u001b[7m             \u001b[27m\u001b[90m.....\u001b[0m] \\ prepare:sqid: \u001b[30;43mWARN\u001b[0m \u001b[35mnotsup\u001b[0m SKIPPING OPTIONAL DEPENDENCY:\u001b[0m\u001b[K\r"
     ]
    },
    {
     "name": "stdout",
     "output_type": "stream",
     "text": [
      "[\u001b[7m             \u001b[27m\u001b[90m.....\u001b[0m] \\ prepare:sqid: \u001b[30;43mWARN\u001b[0m \u001b[35mnotsup\u001b[0m SKIPPING OPTIONAL DEPENDENCY:\u001b[0m\u001b[K\r"
     ]
    },
    {
     "name": "stdout",
     "output_type": "stream",
     "text": [
      "[\u001b[7m             \u001b[27m\u001b[90m.....\u001b[0m] \\ prepare:sqid: \u001b[30;43mWARN\u001b[0m \u001b[35mnotsup\u001b[0m SKIPPING OPTIONAL DEPENDENCY:\u001b[0m\u001b[K\r"
     ]
    },
    {
     "name": "stdout",
     "output_type": "stream",
     "text": [
      "[\u001b[7m             \u001b[27m\u001b[90m.....\u001b[0m] \\ prepare:sqid: \u001b[30;43mWARN\u001b[0m \u001b[35mnotsup\u001b[0m SKIPPING OPTIONAL DEPENDENCY:\u001b[0m\u001b[K\r"
     ]
    },
    {
     "name": "stdout",
     "output_type": "stream",
     "text": [
      "[\u001b[7m             \u001b[27m\u001b[90m.....\u001b[0m] \\ prepare:sqid: \u001b[30;43mWARN\u001b[0m \u001b[35mnotsup\u001b[0m SKIPPING OPTIONAL DEPENDENCY:\u001b[0m\u001b[K\r"
     ]
    },
    {
     "name": "stdout",
     "output_type": "stream",
     "text": [
      "[\u001b[7m             \u001b[27m\u001b[90m.....\u001b[0m] \\ prepare:sqid: \u001b[30;43mWARN\u001b[0m \u001b[35mnotsup\u001b[0m SKIPPING OPTIONAL DEPENDENCY:\u001b[0m\u001b[K\r"
     ]
    },
    {
     "name": "stdout",
     "output_type": "stream",
     "text": [
      "[\u001b[7m             \u001b[27m\u001b[90m.....\u001b[0m] \\ prepare:sqid: \u001b[30;43mWARN\u001b[0m \u001b[35mnotsup\u001b[0m SKIPPING OPTIONAL DEPENDENCY:\u001b[0m\u001b[K\r"
     ]
    },
    {
     "name": "stdout",
     "output_type": "stream",
     "text": [
      "[\u001b[7m             \u001b[27m\u001b[90m.....\u001b[0m] \\ prepare:sqid: \u001b[30;43mWARN\u001b[0m \u001b[35mnotsup\u001b[0m SKIPPING OPTIONAL DEPENDENCY:\u001b[0m\u001b[K\r"
     ]
    },
    {
     "name": "stdout",
     "output_type": "stream",
     "text": [
      "[\u001b[7m             \u001b[27m\u001b[90m.....\u001b[0m] \\ prepare:sqid: \u001b[30;43mWARN\u001b[0m \u001b[35mnotsup\u001b[0m SKIPPING OPTIONAL DEPENDENCY:\u001b[0m\u001b[K\r"
     ]
    },
    {
     "name": "stdout",
     "output_type": "stream",
     "text": [
      "[\u001b[7m             \u001b[27m\u001b[90m.....\u001b[0m] \\ prepare:sqid: \u001b[30;43mWARN\u001b[0m \u001b[35mnotsup\u001b[0m SKIPPING OPTIONAL DEPENDENCY:\u001b[0m\u001b[K\r"
     ]
    },
    {
     "name": "stdout",
     "output_type": "stream",
     "text": [
      "[\u001b[7m             \u001b[27m\u001b[90m.....\u001b[0m] \\ prepare:sqid: \u001b[30;43mWARN\u001b[0m \u001b[35mnotsup\u001b[0m SKIPPING OPTIONAL DEPENDENCY:\u001b[0m\u001b[K\r"
     ]
    },
    {
     "name": "stdout",
     "output_type": "stream",
     "text": [
      "[\u001b[7m             \u001b[27m\u001b[90m.....\u001b[0m] \\ prepare:sqid: \u001b[30;43mWARN\u001b[0m \u001b[35mnotsup\u001b[0m SKIPPING OPTIONAL DEPENDENCY:\u001b[0m\u001b[K\r"
     ]
    },
    {
     "name": "stdout",
     "output_type": "stream",
     "text": [
      "[\u001b[7m             \u001b[27m\u001b[90m.....\u001b[0m] \\ prepare:sqid: \u001b[30;43mWARN\u001b[0m \u001b[35mnotsup\u001b[0m SKIPPING OPTIONAL DEPENDENCY:\u001b[0m\u001b[K\r"
     ]
    },
    {
     "name": "stdout",
     "output_type": "stream",
     "text": [
      "[\u001b[7m             \u001b[27m\u001b[90m.....\u001b[0m] \\ prepare:sqid: \u001b[30;43mWARN\u001b[0m \u001b[35mnotsup\u001b[0m SKIPPING OPTIONAL DEPENDENCY:\u001b[0m\u001b[K\r"
     ]
    },
    {
     "name": "stdout",
     "output_type": "stream",
     "text": [
      "[\u001b[7m             \u001b[27m\u001b[90m.....\u001b[0m] \\ prepare:sqid: \u001b[30;43mWARN\u001b[0m \u001b[35mnotsup\u001b[0m SKIPPING OPTIONAL DEPENDENCY:\u001b[0m\u001b[K\r"
     ]
    },
    {
     "name": "stdout",
     "output_type": "stream",
     "text": [
      "[\u001b[7m             \u001b[27m\u001b[90m.....\u001b[0m] \\ prepare:sqid: \u001b[30;43mWARN\u001b[0m \u001b[35mnotsup\u001b[0m SKIPPING OPTIONAL DEPENDENCY:\u001b[0m\u001b[K\r"
     ]
    },
    {
     "name": "stdout",
     "output_type": "stream",
     "text": [
      "[\u001b[7m             \u001b[27m\u001b[90m.....\u001b[0m] \\ prepare:sqid: \u001b[30;43mWARN\u001b[0m \u001b[35mnotsup\u001b[0m SKIPPING OPTIONAL DEPENDENCY:\u001b[0m\u001b[K\r"
     ]
    },
    {
     "name": "stdout",
     "output_type": "stream",
     "text": [
      "[\u001b[7m             \u001b[27m\u001b[90m.....\u001b[0m] \\ prepare:sqid: \u001b[30;43mWARN\u001b[0m \u001b[35mnotsup\u001b[0m SKIPPING OPTIONAL DEPENDENCY:\u001b[0m\u001b[K\r"
     ]
    },
    {
     "name": "stdout",
     "output_type": "stream",
     "text": [
      "[\u001b[7m             \u001b[27m\u001b[90m.....\u001b[0m] \\ prepare:sqid: \u001b[30;43mWARN\u001b[0m \u001b[35mnotsup\u001b[0m SKIPPING OPTIONAL DEPENDENCY:\u001b[0m\u001b[K\r"
     ]
    },
    {
     "name": "stdout",
     "output_type": "stream",
     "text": [
      "[\u001b[7m             \u001b[27m\u001b[90m.....\u001b[0m] \\ prepare:sqid: \u001b[30;43mWARN\u001b[0m \u001b[35mnotsup\u001b[0m SKIPPING OPTIONAL DEPENDENCY:\u001b[0m\u001b[K\r"
     ]
    },
    {
     "name": "stdout",
     "output_type": "stream",
     "text": [
      "[\u001b[7m             \u001b[27m\u001b[90m.....\u001b[0m] \\ prepare:sqid: \u001b[30;43mWARN\u001b[0m \u001b[35mnotsup\u001b[0m SKIPPING OPTIONAL DEPENDENCY:\u001b[0m\u001b[K\r"
     ]
    },
    {
     "name": "stdout",
     "output_type": "stream",
     "text": [
      "[\u001b[7m             \u001b[27m\u001b[90m.....\u001b[0m] \\ prepare:sqid: \u001b[30;43mWARN\u001b[0m \u001b[35mnotsup\u001b[0m SKIPPING OPTIONAL DEPENDENCY:\u001b[0m\u001b[K\r"
     ]
    },
    {
     "name": "stdout",
     "output_type": "stream",
     "text": [
      "[\u001b[7m             \u001b[27m\u001b[90m.....\u001b[0m] \\ prepare:sqid: \u001b[30;43mWARN\u001b[0m \u001b[35mnotsup\u001b[0m SKIPPING OPTIONAL DEPENDENCY:\u001b[0m\u001b[K\r"
     ]
    },
    {
     "name": "stdout",
     "output_type": "stream",
     "text": [
      "[\u001b[7m             \u001b[27m\u001b[90m.....\u001b[0m] \\ prepare:sqid: \u001b[30;43mWARN\u001b[0m \u001b[35mnotsup\u001b[0m SKIPPING OPTIONAL DEPENDENCY:\u001b[0m\u001b[K\r"
     ]
    },
    {
     "name": "stdout",
     "output_type": "stream",
     "text": [
      "[\u001b[7m             \u001b[27m\u001b[90m.....\u001b[0m] \\ prepare:sqid: \u001b[30;43mWARN\u001b[0m \u001b[35mnotsup\u001b[0m SKIPPING OPTIONAL DEPENDENCY:\u001b[0m\u001b[K\r"
     ]
    },
    {
     "name": "stdout",
     "output_type": "stream",
     "text": [
      "[\u001b[7m             \u001b[27m\u001b[90m.....\u001b[0m] \\ prepare:sqid: \u001b[30;43mWARN\u001b[0m \u001b[35mnotsup\u001b[0m SKIPPING OPTIONAL DEPENDENCY:\u001b[0m\u001b[K\r"
     ]
    },
    {
     "name": "stdout",
     "output_type": "stream",
     "text": [
      "[\u001b[7m             \u001b[27m\u001b[90m.....\u001b[0m] \\ prepare:sqid: \u001b[30;43mWARN\u001b[0m \u001b[35mnotsup\u001b[0m SKIPPING OPTIONAL DEPENDENCY:\u001b[0m\u001b[K\r"
     ]
    },
    {
     "name": "stdout",
     "output_type": "stream",
     "text": [
      "[\u001b[7m             \u001b[27m\u001b[90m.....\u001b[0m] \\ prepare:sqid: \u001b[30;43mWARN\u001b[0m \u001b[35mnotsup\u001b[0m SKIPPING OPTIONAL DEPENDENCY:\u001b[0m\u001b[K\r"
     ]
    },
    {
     "name": "stdout",
     "output_type": "stream",
     "text": [
      "[\u001b[7m             \u001b[27m\u001b[90m.....\u001b[0m] \\ prepare:sqid: \u001b[30;43mWARN\u001b[0m \u001b[35mnotsup\u001b[0m SKIPPING OPTIONAL DEPENDENCY:\u001b[0m\u001b[K\r"
     ]
    },
    {
     "name": "stdout",
     "output_type": "stream",
     "text": [
      "[\u001b[7m             \u001b[27m\u001b[90m.....\u001b[0m] \\ prepare:sqid: \u001b[30;43mWARN\u001b[0m \u001b[35mnotsup\u001b[0m SKIPPING OPTIONAL DEPENDENCY:\u001b[0m\u001b[K\r"
     ]
    },
    {
     "name": "stdout",
     "output_type": "stream",
     "text": [
      "[\u001b[7m             \u001b[27m\u001b[90m.....\u001b[0m] \\ prepare:sqid: \u001b[30;43mWARN\u001b[0m \u001b[35mnotsup\u001b[0m SKIPPING OPTIONAL DEPENDENCY:\u001b[0m\u001b[K\r"
     ]
    },
    {
     "name": "stdout",
     "output_type": "stream",
     "text": [
      "[\u001b[7m             \u001b[27m\u001b[90m.....\u001b[0m] \\ prepare:sqid: \u001b[30;43mWARN\u001b[0m \u001b[35mnotsup\u001b[0m SKIPPING OPTIONAL DEPENDENCY:\u001b[0m\u001b[K\r"
     ]
    },
    {
     "name": "stdout",
     "output_type": "stream",
     "text": [
      "[\u001b[7m             \u001b[27m\u001b[90m.....\u001b[0m] \\ prepare:sqid: \u001b[30;43mWARN\u001b[0m \u001b[35mnotsup\u001b[0m SKIPPING OPTIONAL DEPENDENCY:\u001b[0m\u001b[K\r"
     ]
    },
    {
     "name": "stdout",
     "output_type": "stream",
     "text": [
      "[\u001b[7m             \u001b[27m\u001b[90m.....\u001b[0m] \\ prepare:sqid: \u001b[30;43mWARN\u001b[0m \u001b[35mnotsup\u001b[0m SKIPPING OPTIONAL DEPENDENCY:\u001b[0m\u001b[K\r"
     ]
    },
    {
     "name": "stdout",
     "output_type": "stream",
     "text": [
      "[\u001b[7m             \u001b[27m\u001b[90m.....\u001b[0m] \\ prepare:sqid: \u001b[30;43mWARN\u001b[0m \u001b[35mnotsup\u001b[0m SKIPPING OPTIONAL DEPENDENCY:\u001b[0m\u001b[K\r"
     ]
    },
    {
     "name": "stdout",
     "output_type": "stream",
     "text": [
      "[\u001b[7m             \u001b[27m\u001b[90m.....\u001b[0m] \\ prepare:sqid: \u001b[30;43mWARN\u001b[0m \u001b[35mnotsup\u001b[0m SKIPPING OPTIONAL DEPENDENCY:\u001b[0m\u001b[K\r"
     ]
    },
    {
     "name": "stdout",
     "output_type": "stream",
     "text": [
      "[\u001b[7m             \u001b[27m\u001b[90m.....\u001b[0m] \\ prepare:sqid: \u001b[30;43mWARN\u001b[0m \u001b[35mnotsup\u001b[0m SKIPPING OPTIONAL DEPENDENCY:\u001b[0m\u001b[K\r"
     ]
    },
    {
     "name": "stdout",
     "output_type": "stream",
     "text": [
      "[\u001b[7m             \u001b[27m\u001b[90m.....\u001b[0m] \\ prepare:sqid: \u001b[30;43mWARN\u001b[0m \u001b[35mnotsup\u001b[0m SKIPPING OPTIONAL DEPENDENCY:\u001b[0m\u001b[K\r"
     ]
    },
    {
     "name": "stdout",
     "output_type": "stream",
     "text": [
      "[\u001b[7m             \u001b[27m\u001b[90m.....\u001b[0m] \\ prepare:sqid: \u001b[30;43mWARN\u001b[0m \u001b[35mnotsup\u001b[0m SKIPPING OPTIONAL DEPENDENCY:\u001b[0m\u001b[K\r"
     ]
    },
    {
     "name": "stdout",
     "output_type": "stream",
     "text": [
      "[\u001b[7m             \u001b[27m\u001b[90m.....\u001b[0m] \\ prepare:sqid: \u001b[30;43mWARN\u001b[0m \u001b[35mnotsup\u001b[0m SKIPPING OPTIONAL DEPENDENCY:\u001b[0m\u001b[K\r"
     ]
    },
    {
     "name": "stdout",
     "output_type": "stream",
     "text": [
      "[\u001b[7m             \u001b[27m\u001b[90m.....\u001b[0m] \\ prepare:sqid: \u001b[30;43mWARN\u001b[0m \u001b[35mnotsup\u001b[0m SKIPPING OPTIONAL DEPENDENCY:\u001b[0m\u001b[K\r"
     ]
    },
    {
     "name": "stdout",
     "output_type": "stream",
     "text": [
      "[\u001b[7m             \u001b[27m\u001b[90m.....\u001b[0m] \\ prepare:sqid: \u001b[30;43mWARN\u001b[0m \u001b[35mnotsup\u001b[0m SKIPPING OPTIONAL DEPENDENCY:\u001b[0m\u001b[K\r"
     ]
    },
    {
     "name": "stdout",
     "output_type": "stream",
     "text": [
      "[\u001b[7m             \u001b[27m\u001b[90m.....\u001b[0m] \\ prepare:sqid: \u001b[30;43mWARN\u001b[0m \u001b[35mnotsup\u001b[0m SKIPPING OPTIONAL DEPENDENCY:\u001b[0m\u001b[K\r"
     ]
    },
    {
     "name": "stdout",
     "output_type": "stream",
     "text": [
      "[\u001b[7m             \u001b[27m\u001b[90m.....\u001b[0m] \\ prepare:sqid: \u001b[30;43mWARN\u001b[0m \u001b[35mnotsup\u001b[0m SKIPPING OPTIONAL DEPENDENCY:\u001b[0m\u001b[K\r"
     ]
    },
    {
     "name": "stdout",
     "output_type": "stream",
     "text": [
      "[\u001b[7m             \u001b[27m\u001b[90m.....\u001b[0m] \\ prepare:sqid: \u001b[30;43mWARN\u001b[0m \u001b[35mnotsup\u001b[0m SKIPPING OPTIONAL DEPENDENCY:\u001b[0m\u001b[K\r"
     ]
    },
    {
     "name": "stdout",
     "output_type": "stream",
     "text": [
      "[\u001b[7m             \u001b[27m\u001b[90m.....\u001b[0m] \\ prepare:sqid: \u001b[30;43mWARN\u001b[0m \u001b[35mnotsup\u001b[0m SKIPPING OPTIONAL DEPENDENCY:\u001b[0m\u001b[K\r"
     ]
    },
    {
     "name": "stdout",
     "output_type": "stream",
     "text": [
      "[\u001b[7m             \u001b[27m\u001b[90m.....\u001b[0m] \\ prepare:sqid: \u001b[30;43mWARN\u001b[0m \u001b[35mnotsup\u001b[0m SKIPPING OPTIONAL DEPENDENCY:\u001b[0m\u001b[K\r"
     ]
    },
    {
     "name": "stdout",
     "output_type": "stream",
     "text": [
      "[\u001b[7m             \u001b[27m\u001b[90m.....\u001b[0m] \\ prepare:sqid: \u001b[30;43mWARN\u001b[0m \u001b[35mnotsup\u001b[0m SKIPPING OPTIONAL DEPENDENCY:\u001b[0m\u001b[K\r"
     ]
    },
    {
     "name": "stdout",
     "output_type": "stream",
     "text": [
      "[\u001b[7m             \u001b[27m\u001b[90m.....\u001b[0m] \\ prepare:sqid: \u001b[30;43mWARN\u001b[0m \u001b[35mnotsup\u001b[0m SKIPPING OPTIONAL DEPENDENCY:\u001b[0m\u001b[K\r"
     ]
    },
    {
     "name": "stdout",
     "output_type": "stream",
     "text": [
      "[\u001b[7m             \u001b[27m\u001b[90m.....\u001b[0m] \\ prepare:sqid: \u001b[30;43mWARN\u001b[0m \u001b[35mnotsup\u001b[0m SKIPPING OPTIONAL DEPENDENCY:\u001b[0m\u001b[K\r"
     ]
    },
    {
     "name": "stdout",
     "output_type": "stream",
     "text": [
      "[\u001b[7m             \u001b[27m\u001b[90m.....\u001b[0m] \\ prepare:sqid: \u001b[30;43mWARN\u001b[0m \u001b[35mnotsup\u001b[0m SKIPPING OPTIONAL DEPENDENCY:\u001b[0m\u001b[K\r"
     ]
    },
    {
     "name": "stdout",
     "output_type": "stream",
     "text": [
      "[\u001b[7m             \u001b[27m\u001b[90m.....\u001b[0m] \\ prepare:sqid: \u001b[30;43mWARN\u001b[0m \u001b[35mnotsup\u001b[0m SKIPPING OPTIONAL DEPENDENCY:\u001b[0m\u001b[K\r"
     ]
    },
    {
     "name": "stdout",
     "output_type": "stream",
     "text": [
      "[\u001b[7m             \u001b[27m\u001b[90m.....\u001b[0m] \\ prepare:sqid: \u001b[30;43mWARN\u001b[0m \u001b[35mnotsup\u001b[0m SKIPPING OPTIONAL DEPENDENCY:\u001b[0m\u001b[K\r"
     ]
    },
    {
     "name": "stdout",
     "output_type": "stream",
     "text": [
      "[\u001b[7m             \u001b[27m\u001b[90m.....\u001b[0m] \\ prepare:sqid: \u001b[30;43mWARN\u001b[0m \u001b[35mnotsup\u001b[0m SKIPPING OPTIONAL DEPENDENCY:\u001b[0m\u001b[K\r"
     ]
    },
    {
     "name": "stdout",
     "output_type": "stream",
     "text": [
      "[\u001b[7m             \u001b[27m\u001b[90m.....\u001b[0m] \\ prepare:sqid: \u001b[30;43mWARN\u001b[0m \u001b[35mnotsup\u001b[0m SKIPPING OPTIONAL DEPENDENCY:\u001b[0m\u001b[K\r"
     ]
    },
    {
     "name": "stdout",
     "output_type": "stream",
     "text": [
      "[\u001b[7m             \u001b[27m\u001b[90m.....\u001b[0m] \\ prepare:sqid: \u001b[30;43mWARN\u001b[0m \u001b[35mnotsup\u001b[0m SKIPPING OPTIONAL DEPENDENCY:\u001b[0m\u001b[K\r"
     ]
    },
    {
     "name": "stdout",
     "output_type": "stream",
     "text": [
      "[\u001b[7m             \u001b[27m\u001b[90m.....\u001b[0m] \\ prepare:sqid: \u001b[30;43mWARN\u001b[0m \u001b[35mnotsup\u001b[0m SKIPPING OPTIONAL DEPENDENCY:\u001b[0m\u001b[K\r"
     ]
    },
    {
     "name": "stdout",
     "output_type": "stream",
     "text": [
      "[\u001b[7m             \u001b[27m\u001b[90m.....\u001b[0m] \\ prepare:sqid: \u001b[30;43mWARN\u001b[0m \u001b[35mnotsup\u001b[0m SKIPPING OPTIONAL DEPENDENCY:\u001b[0m\u001b[K\r"
     ]
    },
    {
     "name": "stdout",
     "output_type": "stream",
     "text": [
      "[\u001b[7m             \u001b[27m\u001b[90m.....\u001b[0m] \\ prepare:sqid: \u001b[30;43mWARN\u001b[0m \u001b[35mnotsup\u001b[0m SKIPPING OPTIONAL DEPENDENCY:\u001b[0m\u001b[K\r"
     ]
    },
    {
     "name": "stdout",
     "output_type": "stream",
     "text": [
      "[\u001b[7m             \u001b[27m\u001b[90m.....\u001b[0m] \\ prepare:sqid: \u001b[30;43mWARN\u001b[0m \u001b[35mnotsup\u001b[0m SKIPPING OPTIONAL DEPENDENCY:\u001b[0m\u001b[K\r"
     ]
    },
    {
     "name": "stdout",
     "output_type": "stream",
     "text": [
      "[\u001b[7m             \u001b[27m\u001b[90m.....\u001b[0m] \\ prepare:sqid: \u001b[30;43mWARN\u001b[0m \u001b[35mnotsup\u001b[0m SKIPPING OPTIONAL DEPENDENCY:\u001b[0m\u001b[K\r"
     ]
    },
    {
     "name": "stdout",
     "output_type": "stream",
     "text": [
      "[\u001b[7m             \u001b[27m\u001b[90m.....\u001b[0m] \\ prepare:sqid: \u001b[30;43mWARN\u001b[0m \u001b[35mnotsup\u001b[0m SKIPPING OPTIONAL DEPENDENCY:\u001b[0m\u001b[K\r"
     ]
    },
    {
     "name": "stdout",
     "output_type": "stream",
     "text": [
      "[\u001b[7m             \u001b[27m\u001b[90m.....\u001b[0m] \\ prepare:sqid: \u001b[30;43mWARN\u001b[0m \u001b[35mnotsup\u001b[0m SKIPPING OPTIONAL DEPENDENCY:\u001b[0m\u001b[K\r"
     ]
    },
    {
     "name": "stdout",
     "output_type": "stream",
     "text": [
      "[\u001b[7m             \u001b[27m\u001b[90m.....\u001b[0m] \\ prepare:sqid: \u001b[30;43mWARN\u001b[0m \u001b[35mnotsup\u001b[0m SKIPPING OPTIONAL DEPENDENCY:\u001b[0m\u001b[K\r"
     ]
    },
    {
     "name": "stdout",
     "output_type": "stream",
     "text": [
      "[\u001b[7m             \u001b[27m\u001b[90m.....\u001b[0m] \\ prepare:sqid: \u001b[30;43mWARN\u001b[0m \u001b[35mnotsup\u001b[0m SKIPPING OPTIONAL DEPENDENCY:\u001b[0m\u001b[K\r"
     ]
    },
    {
     "name": "stdout",
     "output_type": "stream",
     "text": [
      "[\u001b[7m             \u001b[27m\u001b[90m.....\u001b[0m] \\ prepare:sqid: \u001b[30;43mWARN\u001b[0m \u001b[35mnotsup\u001b[0m SKIPPING OPTIONAL DEPENDENCY:\u001b[0m\u001b[K\r"
     ]
    },
    {
     "name": "stdout",
     "output_type": "stream",
     "text": [
      "[\u001b[7m             \u001b[27m\u001b[90m.....\u001b[0m] \\ prepare:sqid: \u001b[30;43mWARN\u001b[0m \u001b[35mnotsup\u001b[0m SKIPPING OPTIONAL DEPENDENCY:\u001b[0m\u001b[K\r"
     ]
    },
    {
     "name": "stdout",
     "output_type": "stream",
     "text": [
      "[\u001b[7m             \u001b[27m\u001b[90m.....\u001b[0m] \\ prepare:sqid: \u001b[30;43mWARN\u001b[0m \u001b[35mnotsup\u001b[0m SKIPPING OPTIONAL DEPENDENCY:\u001b[0m\u001b[K\r"
     ]
    },
    {
     "name": "stdout",
     "output_type": "stream",
     "text": [
      "[\u001b[7m             \u001b[27m\u001b[90m.....\u001b[0m] \\ prepare:sqid: \u001b[30;43mWARN\u001b[0m \u001b[35mnotsup\u001b[0m SKIPPING OPTIONAL DEPENDENCY:\u001b[0m\u001b[K\r"
     ]
    },
    {
     "name": "stdout",
     "output_type": "stream",
     "text": [
      "[\u001b[7m             \u001b[27m\u001b[90m.....\u001b[0m] \\ prepare:sqid: \u001b[30;43mWARN\u001b[0m \u001b[35mnotsup\u001b[0m SKIPPING OPTIONAL DEPENDENCY:\u001b[0m\u001b[K\r"
     ]
    },
    {
     "name": "stdout",
     "output_type": "stream",
     "text": [
      "[\u001b[7m             \u001b[27m\u001b[90m.....\u001b[0m] \\ prepare:sqid: \u001b[30;43mWARN\u001b[0m \u001b[35mnotsup\u001b[0m SKIPPING OPTIONAL DEPENDENCY:\u001b[0m\u001b[K\r"
     ]
    },
    {
     "name": "stdout",
     "output_type": "stream",
     "text": [
      "[\u001b[7m             \u001b[27m\u001b[90m.....\u001b[0m] \\ prepare:sqid: \u001b[30;43mWARN\u001b[0m \u001b[35mnotsup\u001b[0m SKIPPING OPTIONAL DEPENDENCY:\u001b[0m\u001b[K\r"
     ]
    },
    {
     "name": "stdout",
     "output_type": "stream",
     "text": [
      "[\u001b[7m             \u001b[27m\u001b[90m.....\u001b[0m] \\ prepare:sqid: \u001b[30;43mWARN\u001b[0m \u001b[35mnotsup\u001b[0m SKIPPING OPTIONAL DEPENDENCY:\u001b[0m\u001b[K\r",
      "[\u001b[7m             \u001b[27m\u001b[90m.....\u001b[0m] \\ prepare:sqid: \u001b[30;43mWARN\u001b[0m \u001b[35mnotsup\u001b[0m SKIPPING OPTIONAL DEPENDENCY:\u001b[0m\u001b[K\r"
     ]
    },
    {
     "name": "stdout",
     "output_type": "stream",
     "text": [
      "[\u001b[7m             \u001b[27m\u001b[90m.....\u001b[0m] \\ prepare:sqid: \u001b[30;43mWARN\u001b[0m \u001b[35mnotsup\u001b[0m SKIPPING OPTIONAL DEPENDENCY:\u001b[0m\u001b[K\r"
     ]
    },
    {
     "name": "stdout",
     "output_type": "stream",
     "text": [
      "[\u001b[7m             \u001b[27m\u001b[90m.....\u001b[0m] \\ prepare:sqid: \u001b[30;43mWARN\u001b[0m \u001b[35mnotsup\u001b[0m SKIPPING OPTIONAL DEPENDENCY:\u001b[0m\u001b[K\r"
     ]
    },
    {
     "name": "stdout",
     "output_type": "stream",
     "text": [
      "[\u001b[7m             \u001b[27m\u001b[90m.....\u001b[0m] \\ prepare:sqid: \u001b[30;43mWARN\u001b[0m \u001b[35mnotsup\u001b[0m SKIPPING OPTIONAL DEPENDENCY:\u001b[0m\u001b[K\r"
     ]
    },
    {
     "name": "stdout",
     "output_type": "stream",
     "text": [
      "[\u001b[7m             \u001b[27m\u001b[90m.....\u001b[0m] \\ prepare:sqid: \u001b[30;43mWARN\u001b[0m \u001b[35mnotsup\u001b[0m SKIPPING OPTIONAL DEPENDENCY:\u001b[0m\u001b[K\r"
     ]
    },
    {
     "name": "stdout",
     "output_type": "stream",
     "text": [
      "[\u001b[7m             \u001b[27m\u001b[90m.....\u001b[0m] \\ prepare:sqid: \u001b[30;43mWARN\u001b[0m \u001b[35mnotsup\u001b[0m SKIPPING OPTIONAL DEPENDENCY:\u001b[0m\u001b[K\r"
     ]
    },
    {
     "name": "stdout",
     "output_type": "stream",
     "text": [
      "[\u001b[7m             \u001b[27m\u001b[90m.....\u001b[0m] \\ prepare:sqid: \u001b[30;43mWARN\u001b[0m \u001b[35mnotsup\u001b[0m SKIPPING OPTIONAL DEPENDENCY:\u001b[0m\u001b[K\r"
     ]
    },
    {
     "name": "stdout",
     "output_type": "stream",
     "text": [
      "[\u001b[7m             \u001b[27m\u001b[90m.....\u001b[0m] \\ prepare:sqid: \u001b[30;43mWARN\u001b[0m \u001b[35mnotsup\u001b[0m SKIPPING OPTIONAL DEPENDENCY:\u001b[0m\u001b[K\r"
     ]
    },
    {
     "name": "stdout",
     "output_type": "stream",
     "text": [
      "[\u001b[7m             \u001b[27m\u001b[90m.....\u001b[0m] \\ prepare:sqid: \u001b[30;43mWARN\u001b[0m \u001b[35mnotsup\u001b[0m SKIPPING OPTIONAL DEPENDENCY:\u001b[0m\u001b[K\r"
     ]
    },
    {
     "name": "stdout",
     "output_type": "stream",
     "text": [
      "[\u001b[7m             \u001b[27m\u001b[90m.....\u001b[0m] \\ prepare:sqid: \u001b[30;43mWARN\u001b[0m \u001b[35mnotsup\u001b[0m SKIPPING OPTIONAL DEPENDENCY:\u001b[0m\u001b[K\r"
     ]
    },
    {
     "name": "stdout",
     "output_type": "stream",
     "text": [
      "[\u001b[7m             \u001b[27m\u001b[90m.....\u001b[0m] \\ prepare:sqid: \u001b[30;43mWARN\u001b[0m \u001b[35mnotsup\u001b[0m SKIPPING OPTIONAL DEPENDENCY:\u001b[0m\u001b[K\r"
     ]
    },
    {
     "name": "stdout",
     "output_type": "stream",
     "text": [
      "[\u001b[7m             \u001b[27m\u001b[90m.....\u001b[0m] \\ prepare:sqid: \u001b[30;43mWARN\u001b[0m \u001b[35mnotsup\u001b[0m SKIPPING OPTIONAL DEPENDENCY:\u001b[0m\u001b[K\r"
     ]
    },
    {
     "name": "stdout",
     "output_type": "stream",
     "text": [
      "[\u001b[7m             \u001b[27m\u001b[90m.....\u001b[0m] \\ prepare:sqid: \u001b[30;43mWARN\u001b[0m \u001b[35mnotsup\u001b[0m SKIPPING OPTIONAL DEPENDENCY:\u001b[0m\u001b[K\r"
     ]
    },
    {
     "name": "stdout",
     "output_type": "stream",
     "text": [
      "[\u001b[7m             \u001b[27m\u001b[90m.....\u001b[0m] \\ prepare:sqid: \u001b[30;43mWARN\u001b[0m \u001b[35mnotsup\u001b[0m SKIPPING OPTIONAL DEPENDENCY:\u001b[0m\u001b[K\r"
     ]
    },
    {
     "name": "stdout",
     "output_type": "stream",
     "text": [
      "[\u001b[7m             \u001b[27m\u001b[90m.....\u001b[0m] \\ prepare:sqid: \u001b[30;43mWARN\u001b[0m \u001b[35mnotsup\u001b[0m SKIPPING OPTIONAL DEPENDENCY:\u001b[0m\u001b[K\r"
     ]
    },
    {
     "name": "stdout",
     "output_type": "stream",
     "text": [
      "[\u001b[7m             \u001b[27m\u001b[90m.....\u001b[0m] \\ prepare:sqid: \u001b[30;43mWARN\u001b[0m \u001b[35mnotsup\u001b[0m SKIPPING OPTIONAL DEPENDENCY:\u001b[0m\u001b[K\r"
     ]
    },
    {
     "name": "stdout",
     "output_type": "stream",
     "text": [
      "[\u001b[7m             \u001b[27m\u001b[90m.....\u001b[0m] \\ prepare:sqid: \u001b[30;43mWARN\u001b[0m \u001b[35mnotsup\u001b[0m SKIPPING OPTIONAL DEPENDENCY:\u001b[0m\u001b[K\r"
     ]
    },
    {
     "name": "stdout",
     "output_type": "stream",
     "text": [
      "[\u001b[7m             \u001b[27m\u001b[90m.....\u001b[0m] \\ prepare:sqid: \u001b[30;43mWARN\u001b[0m \u001b[35mnotsup\u001b[0m SKIPPING OPTIONAL DEPENDENCY:\u001b[0m\u001b[K\r"
     ]
    },
    {
     "name": "stdout",
     "output_type": "stream",
     "text": [
      "[\u001b[7m             \u001b[27m\u001b[90m.....\u001b[0m] \\ prepare:sqid: \u001b[30;43mWARN\u001b[0m \u001b[35mnotsup\u001b[0m SKIPPING OPTIONAL DEPENDENCY:\u001b[0m\u001b[K\r"
     ]
    },
    {
     "name": "stdout",
     "output_type": "stream",
     "text": [
      "[\u001b[7m             \u001b[27m\u001b[90m.....\u001b[0m] \\ prepare:sqid: \u001b[30;43mWARN\u001b[0m \u001b[35mnotsup\u001b[0m SKIPPING OPTIONAL DEPENDENCY:\u001b[0m\u001b[K\r"
     ]
    },
    {
     "name": "stdout",
     "output_type": "stream",
     "text": [
      "[\u001b[7m             \u001b[27m\u001b[90m.....\u001b[0m] \\ prepare:sqid: \u001b[30;43mWARN\u001b[0m \u001b[35mnotsup\u001b[0m SKIPPING OPTIONAL DEPENDENCY:\u001b[0m\u001b[K\r"
     ]
    },
    {
     "name": "stdout",
     "output_type": "stream",
     "text": [
      "[\u001b[7m             \u001b[27m\u001b[90m.....\u001b[0m] \\ prepare:sqid: \u001b[30;43mWARN\u001b[0m \u001b[35mnotsup\u001b[0m SKIPPING OPTIONAL DEPENDENCY:\u001b[0m\u001b[K\r"
     ]
    },
    {
     "name": "stdout",
     "output_type": "stream",
     "text": [
      "[\u001b[7m             \u001b[27m\u001b[90m.....\u001b[0m] \\ prepare:sqid: \u001b[30;43mWARN\u001b[0m \u001b[35mnotsup\u001b[0m SKIPPING OPTIONAL DEPENDENCY:\u001b[0m\u001b[K\r"
     ]
    },
    {
     "name": "stdout",
     "output_type": "stream",
     "text": [
      "[\u001b[7m             \u001b[27m\u001b[90m.....\u001b[0m] \\ prepare:sqid: \u001b[30;43mWARN\u001b[0m \u001b[35mnotsup\u001b[0m SKIPPING OPTIONAL DEPENDENCY:\u001b[0m\u001b[K\r"
     ]
    },
    {
     "name": "stdout",
     "output_type": "stream",
     "text": [
      "[\u001b[7m             \u001b[27m\u001b[90m.....\u001b[0m] \\ prepare:sqid: \u001b[30;43mWARN\u001b[0m \u001b[35mnotsup\u001b[0m SKIPPING OPTIONAL DEPENDENCY:\u001b[0m\u001b[K\r"
     ]
    },
    {
     "name": "stdout",
     "output_type": "stream",
     "text": [
      "[\u001b[7m             \u001b[27m\u001b[90m.....\u001b[0m] \\ prepare:sqid: \u001b[30;43mWARN\u001b[0m \u001b[35mnotsup\u001b[0m SKIPPING OPTIONAL DEPENDENCY:\u001b[0m\u001b[K\r"
     ]
    },
    {
     "name": "stdout",
     "output_type": "stream",
     "text": [
      "[\u001b[7m             \u001b[27m\u001b[90m.....\u001b[0m] \\ prepare:sqid: \u001b[30;43mWARN\u001b[0m \u001b[35mnotsup\u001b[0m SKIPPING OPTIONAL DEPENDENCY:\u001b[0m\u001b[K\r"
     ]
    },
    {
     "name": "stdout",
     "output_type": "stream",
     "text": [
      "[\u001b[7m             \u001b[27m\u001b[90m.....\u001b[0m] \\ prepare:sqid: \u001b[30;43mWARN\u001b[0m \u001b[35mnotsup\u001b[0m SKIPPING OPTIONAL DEPENDENCY:\u001b[0m\u001b[K\r"
     ]
    },
    {
     "name": "stdout",
     "output_type": "stream",
     "text": [
      "[\u001b[7m             \u001b[27m\u001b[90m.....\u001b[0m] \\ prepare:sqid: \u001b[30;43mWARN\u001b[0m \u001b[35mnotsup\u001b[0m SKIPPING OPTIONAL DEPENDENCY:\u001b[0m\u001b[K\r"
     ]
    },
    {
     "name": "stdout",
     "output_type": "stream",
     "text": [
      "[\u001b[7m             \u001b[27m\u001b[90m.....\u001b[0m] \\ prepare:sqid: \u001b[30;43mWARN\u001b[0m \u001b[35mnotsup\u001b[0m SKIPPING OPTIONAL DEPENDENCY:\u001b[0m\u001b[K\r"
     ]
    },
    {
     "name": "stdout",
     "output_type": "stream",
     "text": [
      "[\u001b[7m             \u001b[27m\u001b[90m.....\u001b[0m] \\ prepare:sqid: \u001b[30;43mWARN\u001b[0m \u001b[35mnotsup\u001b[0m SKIPPING OPTIONAL DEPENDENCY:\u001b[0m\u001b[K\r"
     ]
    },
    {
     "name": "stdout",
     "output_type": "stream",
     "text": [
      "[\u001b[7m             \u001b[27m\u001b[90m.....\u001b[0m] \\ prepare:sqid: \u001b[30;43mWARN\u001b[0m \u001b[35mnotsup\u001b[0m SKIPPING OPTIONAL DEPENDENCY:\u001b[0m\u001b[K\r"
     ]
    },
    {
     "name": "stdout",
     "output_type": "stream",
     "text": [
      "[\u001b[7m             \u001b[27m\u001b[90m.....\u001b[0m] \\ prepare:sqid: \u001b[30;43mWARN\u001b[0m \u001b[35mnotsup\u001b[0m SKIPPING OPTIONAL DEPENDENCY:\u001b[0m\u001b[K\r"
     ]
    },
    {
     "name": "stdout",
     "output_type": "stream",
     "text": [
      "[\u001b[7m             \u001b[27m\u001b[90m.....\u001b[0m] \\ prepare:sqid: \u001b[30;43mWARN\u001b[0m \u001b[35mnotsup\u001b[0m SKIPPING OPTIONAL DEPENDENCY:\u001b[0m\u001b[K\r"
     ]
    },
    {
     "name": "stdout",
     "output_type": "stream",
     "text": [
      "[\u001b[7m             \u001b[27m\u001b[90m.....\u001b[0m] \\ prepare:sqid: \u001b[30;43mWARN\u001b[0m \u001b[35mnotsup\u001b[0m SKIPPING OPTIONAL DEPENDENCY:\u001b[0m\u001b[K\r"
     ]
    },
    {
     "name": "stdout",
     "output_type": "stream",
     "text": [
      "[\u001b[7m             \u001b[27m\u001b[90m.....\u001b[0m] \\ prepare:sqid: \u001b[30;43mWARN\u001b[0m \u001b[35mnotsup\u001b[0m SKIPPING OPTIONAL DEPENDENCY:\u001b[0m\u001b[K\r"
     ]
    },
    {
     "name": "stdout",
     "output_type": "stream",
     "text": [
      "[\u001b[7m             \u001b[27m\u001b[90m.....\u001b[0m] \\ prepare:sqid: \u001b[30;43mWARN\u001b[0m \u001b[35mnotsup\u001b[0m SKIPPING OPTIONAL DEPENDENCY:\u001b[0m\u001b[K\r"
     ]
    },
    {
     "name": "stdout",
     "output_type": "stream",
     "text": [
      "[\u001b[7m             \u001b[27m\u001b[90m.....\u001b[0m] \\ prepare:sqid: \u001b[30;43mWARN\u001b[0m \u001b[35mnotsup\u001b[0m SKIPPING OPTIONAL DEPENDENCY:\u001b[0m\u001b[K\r"
     ]
    },
    {
     "name": "stdout",
     "output_type": "stream",
     "text": [
      "[\u001b[7m             \u001b[27m\u001b[90m.....\u001b[0m] \\ prepare:sqid: \u001b[30;43mWARN\u001b[0m \u001b[35mnotsup\u001b[0m SKIPPING OPTIONAL DEPENDENCY:\u001b[0m\u001b[K\r"
     ]
    },
    {
     "name": "stdout",
     "output_type": "stream",
     "text": [
      "[\u001b[7m             \u001b[27m\u001b[90m.....\u001b[0m] \\ prepare:sqid: \u001b[30;43mWARN\u001b[0m \u001b[35mnotsup\u001b[0m SKIPPING OPTIONAL DEPENDENCY:\u001b[0m\u001b[K\r"
     ]
    },
    {
     "name": "stdout",
     "output_type": "stream",
     "text": [
      "[\u001b[7m             \u001b[27m\u001b[90m.....\u001b[0m] \\ prepare:sqid: \u001b[30;43mWARN\u001b[0m \u001b[35mnotsup\u001b[0m SKIPPING OPTIONAL DEPENDENCY:\u001b[0m\u001b[K\r"
     ]
    },
    {
     "name": "stdout",
     "output_type": "stream",
     "text": [
      "[\u001b[7m             \u001b[27m\u001b[90m.....\u001b[0m] \\ prepare:sqid: \u001b[30;43mWARN\u001b[0m \u001b[35mnotsup\u001b[0m SKIPPING OPTIONAL DEPENDENCY:\u001b[0m\u001b[K\r"
     ]
    },
    {
     "name": "stdout",
     "output_type": "stream",
     "text": [
      "[\u001b[7m             \u001b[27m\u001b[90m.....\u001b[0m] \\ prepare:sqid: \u001b[30;43mWARN\u001b[0m \u001b[35mnotsup\u001b[0m SKIPPING OPTIONAL DEPENDENCY:\u001b[0m\u001b[K\r"
     ]
    },
    {
     "name": "stdout",
     "output_type": "stream",
     "text": [
      "[\u001b[7m             \u001b[27m\u001b[90m.....\u001b[0m] \\ prepare:sqid: \u001b[30;43mWARN\u001b[0m \u001b[35mnotsup\u001b[0m SKIPPING OPTIONAL DEPENDENCY:\u001b[0m\u001b[K\r"
     ]
    },
    {
     "name": "stdout",
     "output_type": "stream",
     "text": [
      "[\u001b[7m             \u001b[27m\u001b[90m.....\u001b[0m] \\ prepare:sqid: \u001b[30;43mWARN\u001b[0m \u001b[35mnotsup\u001b[0m SKIPPING OPTIONAL DEPENDENCY:\u001b[0m\u001b[K\r"
     ]
    },
    {
     "name": "stdout",
     "output_type": "stream",
     "text": [
      "[\u001b[7m             \u001b[27m\u001b[90m.....\u001b[0m] \\ prepare:sqid: \u001b[30;43mWARN\u001b[0m \u001b[35mnotsup\u001b[0m SKIPPING OPTIONAL DEPENDENCY:\u001b[0m\u001b[K\r"
     ]
    },
    {
     "name": "stdout",
     "output_type": "stream",
     "text": [
      "[\u001b[7m             \u001b[27m\u001b[90m.....\u001b[0m] \\ prepare:sqid: \u001b[30;43mWARN\u001b[0m \u001b[35mnotsup\u001b[0m SKIPPING OPTIONAL DEPENDENCY:\u001b[0m\u001b[K\r"
     ]
    },
    {
     "name": "stdout",
     "output_type": "stream",
     "text": [
      "[\u001b[7m             \u001b[27m\u001b[90m.....\u001b[0m] \\ prepare:sqid: \u001b[30;43mWARN\u001b[0m \u001b[35mnotsup\u001b[0m SKIPPING OPTIONAL DEPENDENCY:\u001b[0m\u001b[K\r"
     ]
    },
    {
     "name": "stdout",
     "output_type": "stream",
     "text": [
      "[\u001b[7m             \u001b[27m\u001b[90m.....\u001b[0m] \\ prepare:sqid: \u001b[30;43mWARN\u001b[0m \u001b[35mnotsup\u001b[0m SKIPPING OPTIONAL DEPENDENCY:\u001b[0m\u001b[K\r"
     ]
    },
    {
     "name": "stdout",
     "output_type": "stream",
     "text": [
      "[\u001b[7m             \u001b[27m\u001b[90m.....\u001b[0m] \\ prepare:sqid: \u001b[30;43mWARN\u001b[0m \u001b[35mnotsup\u001b[0m SKIPPING OPTIONAL DEPENDENCY:\u001b[0m\u001b[K\r"
     ]
    },
    {
     "name": "stdout",
     "output_type": "stream",
     "text": [
      "[\u001b[7m             \u001b[27m\u001b[90m.....\u001b[0m] \\ prepare:sqid: \u001b[30;43mWARN\u001b[0m \u001b[35mnotsup\u001b[0m SKIPPING OPTIONAL DEPENDENCY:\u001b[0m\u001b[K\r"
     ]
    },
    {
     "name": "stdout",
     "output_type": "stream",
     "text": [
      "[\u001b[7m             \u001b[27m\u001b[90m.....\u001b[0m] \\ prepare:sqid: \u001b[30;43mWARN\u001b[0m \u001b[35mnotsup\u001b[0m SKIPPING OPTIONAL DEPENDENCY:\u001b[0m\u001b[K\r"
     ]
    },
    {
     "name": "stdout",
     "output_type": "stream",
     "text": [
      "[\u001b[7m             \u001b[27m\u001b[90m.....\u001b[0m] \\ prepare:sqid: \u001b[30;43mWARN\u001b[0m \u001b[35mnotsup\u001b[0m SKIPPING OPTIONAL DEPENDENCY:\u001b[0m\u001b[K\r"
     ]
    },
    {
     "name": "stdout",
     "output_type": "stream",
     "text": [
      "[\u001b[7m             \u001b[27m\u001b[90m.....\u001b[0m] \\ prepare:sqid: \u001b[30;43mWARN\u001b[0m \u001b[35mnotsup\u001b[0m SKIPPING OPTIONAL DEPENDENCY:\u001b[0m\u001b[K\r"
     ]
    },
    {
     "name": "stdout",
     "output_type": "stream",
     "text": [
      "[\u001b[7m             \u001b[27m\u001b[90m.....\u001b[0m] \\ prepare:sqid: \u001b[30;43mWARN\u001b[0m \u001b[35mnotsup\u001b[0m SKIPPING OPTIONAL DEPENDENCY:\u001b[0m\u001b[K\r"
     ]
    },
    {
     "name": "stdout",
     "output_type": "stream",
     "text": [
      "[\u001b[7m             \u001b[27m\u001b[90m.....\u001b[0m] \\ prepare:sqid: \u001b[30;43mWARN\u001b[0m \u001b[35mnotsup\u001b[0m SKIPPING OPTIONAL DEPENDENCY:\u001b[0m\u001b[K\r"
     ]
    },
    {
     "name": "stdout",
     "output_type": "stream",
     "text": [
      "[\u001b[7m             \u001b[27m\u001b[90m.....\u001b[0m] \\ prepare:sqid: \u001b[30;43mWARN\u001b[0m \u001b[35mnotsup\u001b[0m SKIPPING OPTIONAL DEPENDENCY:\u001b[0m\u001b[K\r"
     ]
    },
    {
     "name": "stdout",
     "output_type": "stream",
     "text": [
      "[\u001b[7m             \u001b[27m\u001b[90m.....\u001b[0m] \\ prepare:sqid: \u001b[30;43mWARN\u001b[0m \u001b[35mnotsup\u001b[0m SKIPPING OPTIONAL DEPENDENCY:\u001b[0m\u001b[K\r"
     ]
    },
    {
     "name": "stdout",
     "output_type": "stream",
     "text": [
      "[\u001b[7m             \u001b[27m\u001b[90m.....\u001b[0m] \\ prepare:sqid: \u001b[30;43mWARN\u001b[0m \u001b[35mnotsup\u001b[0m SKIPPING OPTIONAL DEPENDENCY:\u001b[0m\u001b[K\r"
     ]
    },
    {
     "name": "stdout",
     "output_type": "stream",
     "text": [
      "[\u001b[7m             \u001b[27m\u001b[90m.....\u001b[0m] \\ prepare:sqid: \u001b[30;43mWARN\u001b[0m \u001b[35mnotsup\u001b[0m SKIPPING OPTIONAL DEPENDENCY:\u001b[0m\u001b[K\r"
     ]
    },
    {
     "name": "stdout",
     "output_type": "stream",
     "text": [
      "[\u001b[7m             \u001b[27m\u001b[90m.....\u001b[0m] \\ prepare:sqid: \u001b[30;43mWARN\u001b[0m \u001b[35mnotsup\u001b[0m SKIPPING OPTIONAL DEPENDENCY:\u001b[0m\u001b[K\r"
     ]
    },
    {
     "name": "stdout",
     "output_type": "stream",
     "text": [
      "[\u001b[7m             \u001b[27m\u001b[90m.....\u001b[0m] \\ prepare:sqid: \u001b[30;43mWARN\u001b[0m \u001b[35mnotsup\u001b[0m SKIPPING OPTIONAL DEPENDENCY:\u001b[0m\u001b[K\r"
     ]
    },
    {
     "name": "stdout",
     "output_type": "stream",
     "text": [
      "[\u001b[7m             \u001b[27m\u001b[90m.....\u001b[0m] \\ prepare:sqid: \u001b[30;43mWARN\u001b[0m \u001b[35mnotsup\u001b[0m SKIPPING OPTIONAL DEPENDENCY:\u001b[0m\u001b[K\r"
     ]
    },
    {
     "name": "stdout",
     "output_type": "stream",
     "text": [
      "[\u001b[7m             \u001b[27m\u001b[90m.....\u001b[0m] \\ prepare:sqid: \u001b[30;43mWARN\u001b[0m \u001b[35mnotsup\u001b[0m SKIPPING OPTIONAL DEPENDENCY:\u001b[0m\u001b[K\r"
     ]
    },
    {
     "name": "stdout",
     "output_type": "stream",
     "text": [
      "[\u001b[7m             \u001b[27m\u001b[90m.....\u001b[0m] \\ prepare:sqid: \u001b[30;43mWARN\u001b[0m \u001b[35mnotsup\u001b[0m SKIPPING OPTIONAL DEPENDENCY:\u001b[0m\u001b[K\r"
     ]
    },
    {
     "name": "stdout",
     "output_type": "stream",
     "text": [
      "[\u001b[7m             \u001b[27m\u001b[90m.....\u001b[0m] \\ prepare:sqid: \u001b[30;43mWARN\u001b[0m \u001b[35mnotsup\u001b[0m SKIPPING OPTIONAL DEPENDENCY:\u001b[0m\u001b[K\r"
     ]
    },
    {
     "name": "stdout",
     "output_type": "stream",
     "text": [
      "[\u001b[7m             \u001b[27m\u001b[90m.....\u001b[0m] \\ prepare:sqid: \u001b[30;43mWARN\u001b[0m \u001b[35mnotsup\u001b[0m SKIPPING OPTIONAL DEPENDENCY:\u001b[0m\u001b[K\r",
      "\r",
      "\u001b[K\u001b[?25hup to date in 20.145s\r\n"
     ]
    },
    {
     "name": "stdout",
     "output_type": "stream",
     "text": [
      "\r\n",
      "57 packages are looking for funding\r\n",
      "  run `npm fund` for details\r\n",
      "\r\n"
     ]
    },
    {
     "name": "stdout",
     "output_type": "stream",
     "text": [
      "\r\n",
      "┌────────────────────────────────────────────────────────────┐\r\n",
      "│                 \u001b[33m npm update check failed \u001b[39m                  │\r\n",
      "│            Try running with \u001b[36msudo\u001b[39m or get access             │\r\n",
      "│            to the local update config store via            │\r\n",
      "│\u001b[36m sudo chown -R $USER:$(id -gn $USER) /home/mingyuet/.config \u001b[39m│\r\n",
      "└────────────────────────────────────────────────────────────┘\r\n"
     ]
    }
   ],
   "source": [
    "!python3 -m venv sqid-env\n",
    "!source sqid-env/bin/activate\n",
    "\n",
    "!cd flask && pip install -r requirements.txt\n",
    "!npm install ."
   ]
  },
  {
   "cell_type": "markdown",
   "metadata": {
    "papermill": {
     "duration": 0.05854,
     "end_time": "2020-10-27T19:51:46.593199",
     "exception": false,
     "start_time": "2020-10-27T19:51:46.534659",
     "status": "completed"
    },
    "tags": []
   },
   "source": [
    "### Modify Configuration file (Global configure)\n",
    "https://github.com/mtang724/sqid/blob/master/global_config.py\n",
    "\n",
    "Parameters:\n",
    "- HOST = \"localhost\"\n",
    "- SQID_PORT = 8051\n",
    "- SPARQL_PORT = 10002\n",
    "- FLASK_PORT = 5556\n",
    "- ES_INDEX = \"kgtk_files\"\n",
    "- ELASTICSEARCH_PORT = 9200\n",
    "- ES_DATA_FOLDER_PATH = \"/home/mingyuet/sqid/flask/es/es_data\""
   ]
  },
  {
   "cell_type": "code",
   "execution_count": 12,
   "metadata": {
    "execution": {
     "iopub.execute_input": "2020-10-27T19:51:46.713391Z",
     "iopub.status.busy": "2020-10-27T19:51:46.712988Z",
     "iopub.status.idle": "2020-10-27T19:51:46.822685Z",
     "shell.execute_reply": "2020-10-27T19:51:46.823017Z"
    },
    "papermill": {
     "duration": 0.171261,
     "end_time": "2020-10-27T19:51:46.823123",
     "exception": false,
     "start_time": "2020-10-27T19:51:46.651862",
     "status": "completed"
    },
    "tags": []
   },
   "outputs": [
    {
     "name": "stdout",
     "output_type": "stream",
     "text": [
      "import argparse\r\n",
      "\r\n",
      "HOST = \"localhost\"\r\n",
      "SQID_PORT = 8051\r\n",
      "SPARQL_PORT = 11102\r\n",
      "FLASK_PORT = 5556\r\n",
      "ES_INDEX = \"kgtk_files\"\r\n",
      "ELASTICSEARCH_PORT = 9200\r\n",
      "\r\n",
      "# Flask application config\r\n",
      "PROPERTY_FILES = [\r\n",
      "\t\"flask_data/wikidata_properties.tsv\"\r\n",
      "]\r\n",
      "ES_INDEX = ES_INDEX\r\n",
      "ELASTICSEARCH_HOST = \"http://{}:{}\".format(HOST, str(ELASTICSEARCH_PORT))\r\n"
     ]
    }
   ],
   "source": [
    "!head -n 15 global_config.py"
   ]
  },
  {
   "cell_type": "markdown",
   "metadata": {
    "papermill": {
     "duration": 0.058898,
     "end_time": "2020-10-27T19:51:46.941305",
     "exception": false,
     "start_time": "2020-10-27T19:51:46.882407",
     "status": "completed"
    },
    "tags": []
   },
   "source": [
    "### Create Index for ES"
   ]
  },
  {
   "cell_type": "code",
   "execution_count": 13,
   "metadata": {
    "execution": {
     "iopub.execute_input": "2020-10-27T19:51:47.062130Z",
     "iopub.status.busy": "2020-10-27T19:51:47.061720Z",
     "iopub.status.idle": "2020-10-27T19:51:47.418511Z",
     "shell.execute_reply": "2020-10-27T19:51:47.418871Z"
    },
    "papermill": {
     "duration": 0.418746,
     "end_time": "2020-10-27T19:51:47.419006",
     "exception": false,
     "start_time": "2020-10-27T19:51:47.000260",
     "status": "completed"
    },
    "tags": []
   },
   "outputs": [],
   "source": [
    "from elasticsearch import Elasticsearch\n",
    "import os\n",
    "from global_config import ES_INDEX"
   ]
  },
  {
   "cell_type": "code",
   "execution_count": 14,
   "metadata": {
    "execution": {
     "iopub.execute_input": "2020-10-27T19:51:47.539972Z",
     "iopub.status.busy": "2020-10-27T19:51:47.539565Z",
     "iopub.status.idle": "2020-10-27T19:51:47.541191Z",
     "shell.execute_reply": "2020-10-27T19:51:47.541517Z"
    },
    "papermill": {
     "duration": 0.063027,
     "end_time": "2020-10-27T19:51:47.541622",
     "exception": false,
     "start_time": "2020-10-27T19:51:47.478595",
     "status": "completed"
    },
    "tags": []
   },
   "outputs": [],
   "source": [
    "es = Elasticsearch()"
   ]
  },
  {
   "cell_type": "code",
   "execution_count": 15,
   "metadata": {
    "execution": {
     "iopub.execute_input": "2020-10-27T19:51:47.661284Z",
     "iopub.status.busy": "2020-10-27T19:51:47.660880Z",
     "iopub.status.idle": "2020-10-27T19:51:47.778141Z",
     "shell.execute_reply": "2020-10-27T19:51:47.778492Z"
    },
    "papermill": {
     "duration": 0.178552,
     "end_time": "2020-10-27T19:51:47.778621",
     "exception": false,
     "start_time": "2020-10-27T19:51:47.600069",
     "status": "completed"
    },
    "tags": []
   },
   "outputs": [],
   "source": [
    "# index name is defined in global_config file, ES_INDEX, please change this accordingly\n",
    "if not es.indices.exists(index=ES_INDEX):\n",
    "    os.system(\"cd flask/es/ && python create_index.py\")"
   ]
  },
  {
   "cell_type": "markdown",
   "metadata": {
    "papermill": {
     "duration": 0.058513,
     "end_time": "2020-10-27T19:51:47.896254",
     "exception": false,
     "start_time": "2020-10-27T19:51:47.837741",
     "status": "completed"
    },
    "tags": []
   },
   "source": [
    "### import index data from es_data (mediawiki json files)"
   ]
  },
  {
   "cell_type": "markdown",
   "metadata": {
    "papermill": {
     "duration": 0.058444,
     "end_time": "2020-10-27T19:51:48.013256",
     "exception": false,
     "start_time": "2020-10-27T19:51:47.954812",
     "status": "completed"
    },
    "tags": []
   },
   "source": [
    "Mediawiki json files path(es_data) is defined in global_config file"
   ]
  },
  {
   "cell_type": "code",
   "execution_count": 16,
   "metadata": {
    "execution": {
     "iopub.execute_input": "2020-10-27T19:51:48.133456Z",
     "iopub.status.busy": "2020-10-27T19:51:48.132997Z",
     "iopub.status.idle": "2020-10-27T19:51:54.139934Z",
     "shell.execute_reply": "2020-10-27T19:51:54.139485Z"
    },
    "papermill": {
     "duration": 6.068058,
     "end_time": "2020-10-27T19:51:54.140041",
     "exception": false,
     "start_time": "2020-10-27T19:51:48.071983",
     "status": "completed"
    },
    "tags": []
   },
   "outputs": [
    {
     "name": "stdout",
     "output_type": "stream",
     "text": [
      "\r",
      "  0%|                                                    | 0/32 [00:00<?, ?it/s]"
     ]
    },
    {
     "name": "stdout",
     "output_type": "stream",
     "text": [
      "\r",
      "  3%|█▍                                          | 1/32 [00:00<00:14,  2.11it/s]"
     ]
    },
    {
     "name": "stdout",
     "output_type": "stream",
     "text": [
      "\r",
      "  6%|██▊                                         | 2/32 [00:00<00:12,  2.37it/s]"
     ]
    },
    {
     "name": "stdout",
     "output_type": "stream",
     "text": [
      "\r",
      "  9%|████▏                                       | 3/32 [00:00<00:10,  2.78it/s]"
     ]
    },
    {
     "name": "stdout",
     "output_type": "stream",
     "text": [
      "\r",
      " 12%|█████▌                                      | 4/32 [00:01<00:08,  3.14it/s]"
     ]
    },
    {
     "name": "stdout",
     "output_type": "stream",
     "text": [
      "\r",
      " 16%|██████▉                                     | 5/32 [00:01<00:07,  3.76it/s]"
     ]
    },
    {
     "name": "stdout",
     "output_type": "stream",
     "text": [
      "\r",
      " 19%|████████▎                                   | 6/32 [00:01<00:06,  4.01it/s]"
     ]
    },
    {
     "name": "stdout",
     "output_type": "stream",
     "text": [
      "\r",
      " 22%|█████████▋                                  | 7/32 [00:01<00:06,  4.08it/s]"
     ]
    },
    {
     "name": "stdout",
     "output_type": "stream",
     "text": [
      "\r",
      " 28%|████████████▍                               | 9/32 [00:02<00:04,  4.77it/s]"
     ]
    },
    {
     "name": "stdout",
     "output_type": "stream",
     "text": [
      "\r",
      " 31%|█████████████▍                             | 10/32 [00:02<00:04,  5.00it/s]"
     ]
    },
    {
     "name": "stdout",
     "output_type": "stream",
     "text": [
      "\r",
      " 34%|██████████████▊                            | 11/32 [00:02<00:03,  5.68it/s]"
     ]
    },
    {
     "name": "stdout",
     "output_type": "stream",
     "text": [
      "\r",
      " 41%|█████████████████▍                         | 13/32 [00:02<00:02,  6.54it/s]"
     ]
    },
    {
     "name": "stdout",
     "output_type": "stream",
     "text": [
      "\r",
      " 44%|██████████████████▊                        | 14/32 [00:02<00:02,  6.24it/s]"
     ]
    },
    {
     "name": "stdout",
     "output_type": "stream",
     "text": [
      "\r",
      " 47%|████████████████████▏                      | 15/32 [00:02<00:02,  6.68it/s]"
     ]
    },
    {
     "name": "stdout",
     "output_type": "stream",
     "text": [
      "\r",
      " 50%|█████████████████████▌                     | 16/32 [00:03<00:02,  5.40it/s]"
     ]
    },
    {
     "name": "stdout",
     "output_type": "stream",
     "text": [
      "\r",
      " 53%|██████████████████████▊                    | 17/32 [00:03<00:02,  5.89it/s]"
     ]
    },
    {
     "name": "stdout",
     "output_type": "stream",
     "text": [
      "\r",
      " 56%|████████████████████████▏                  | 18/32 [00:03<00:02,  6.45it/s]"
     ]
    },
    {
     "name": "stdout",
     "output_type": "stream",
     "text": [
      "\r",
      " 59%|█████████████████████████▌                 | 19/32 [00:03<00:02,  6.25it/s]"
     ]
    },
    {
     "name": "stdout",
     "output_type": "stream",
     "text": [
      "\r",
      " 62%|██████████████████████████▉                | 20/32 [00:03<00:01,  6.59it/s]"
     ]
    },
    {
     "name": "stdout",
     "output_type": "stream",
     "text": [
      "\r",
      " 66%|████████████████████████████▏              | 21/32 [00:03<00:01,  6.14it/s]"
     ]
    },
    {
     "name": "stdout",
     "output_type": "stream",
     "text": [
      "\r",
      " 69%|█████████████████████████████▌             | 22/32 [00:04<00:01,  6.18it/s]"
     ]
    },
    {
     "name": "stdout",
     "output_type": "stream",
     "text": [
      "\r",
      " 72%|██████████████████████████████▉            | 23/32 [00:04<00:01,  6.23it/s]"
     ]
    },
    {
     "name": "stdout",
     "output_type": "stream",
     "text": [
      "\r",
      " 75%|████████████████████████████████▎          | 24/32 [00:04<00:01,  6.37it/s]"
     ]
    },
    {
     "name": "stdout",
     "output_type": "stream",
     "text": [
      "\r",
      " 78%|█████████████████████████████████▌         | 25/32 [00:04<00:01,  6.64it/s]"
     ]
    },
    {
     "name": "stdout",
     "output_type": "stream",
     "text": [
      "\r",
      " 84%|████████████████████████████████████▎      | 27/32 [00:04<00:00,  7.09it/s]"
     ]
    },
    {
     "name": "stdout",
     "output_type": "stream",
     "text": [
      "\r",
      " 88%|█████████████████████████████████████▋     | 28/32 [00:04<00:00,  6.65it/s]"
     ]
    },
    {
     "name": "stdout",
     "output_type": "stream",
     "text": [
      "\r",
      " 91%|██████████████████████████████████████▉    | 29/32 [00:05<00:00,  6.70it/s]"
     ]
    },
    {
     "name": "stdout",
     "output_type": "stream",
     "text": [
      "\r",
      " 94%|████████████████████████████████████████▎  | 30/32 [00:05<00:00,  7.10it/s]"
     ]
    },
    {
     "name": "stdout",
     "output_type": "stream",
     "text": [
      "\r",
      " 97%|█████████████████████████████████████████▋ | 31/32 [00:05<00:00,  6.17it/s]"
     ]
    },
    {
     "name": "stdout",
     "output_type": "stream",
     "text": [
      "\r",
      "100%|███████████████████████████████████████████| 32/32 [00:05<00:00,  5.94it/s]\r\n"
     ]
    }
   ],
   "source": [
    "!cd flask/es/ && python import_data.py"
   ]
  },
  {
   "cell_type": "markdown",
   "metadata": {
    "papermill": {
     "duration": 0.064457,
     "end_time": "2020-10-27T19:51:54.269763",
     "exception": false,
     "start_time": "2020-10-27T19:51:54.205306",
     "status": "completed"
    },
    "tags": []
   },
   "source": [
    "delete all imported data"
   ]
  },
  {
   "cell_type": "code",
   "execution_count": 17,
   "metadata": {
    "execution": {
     "iopub.execute_input": "2020-10-27T19:51:54.402706Z",
     "iopub.status.busy": "2020-10-27T19:51:54.402294Z",
     "iopub.status.idle": "2020-10-27T19:51:54.518876Z",
     "shell.execute_reply": "2020-10-27T19:51:54.518520Z"
    },
    "papermill": {
     "duration": 0.18474,
     "end_time": "2020-10-27T19:51:54.518966",
     "exception": false,
     "start_time": "2020-10-27T19:51:54.334226",
     "status": "completed"
    },
    "tags": []
   },
   "outputs": [],
   "source": [
    "!rm -rf $ES_DATA_FOLDER_PATH/*.jsonl"
   ]
  },
  {
   "cell_type": "markdown",
   "metadata": {
    "papermill": {
     "duration": 0.065008,
     "end_time": "2020-10-27T19:51:54.648405",
     "exception": false,
     "start_time": "2020-10-27T19:51:54.583397",
     "status": "completed"
    },
    "tags": []
   },
   "source": [
    "Output some example indexes"
   ]
  },
  {
   "cell_type": "code",
   "execution_count": 18,
   "metadata": {
    "execution": {
     "iopub.execute_input": "2020-10-27T19:51:54.782630Z",
     "iopub.status.busy": "2020-10-27T19:51:54.782210Z",
     "iopub.status.idle": "2020-10-27T19:51:56.086912Z",
     "shell.execute_reply": "2020-10-27T19:51:56.086467Z"
    },
    "papermill": {
     "duration": 1.373736,
     "end_time": "2020-10-27T19:51:56.087023",
     "exception": false,
     "start_time": "2020-10-27T19:51:54.713287",
     "status": "completed"
    },
    "tags": []
   },
   "outputs": [
    {
     "name": "stdout",
     "output_type": "stream",
     "text": [
      "Got 10000 Hits:\n",
      "{'labels': {'en': {'languange': 'en', 'value': 'Dextromethorphan/quinidine'}}, 'descriptions': {}, 'aliases': {}, 'claims': {}, 'sitelinks': {}, 'type': 'item', 'id': 'Q5268496', 'pageid': -1, 'ns': -1, 'title': 'Q5268496', 'lastrevid': '2000-01-01T00:00:00Z'}\n",
      "{'labels': {'en': {'languange': 'en', 'value': 'Lewy body dementia'}}, 'descriptions': {}, 'aliases': {}, 'claims': {}, 'sitelinks': {}, 'type': 'item', 'id': 'Q52697931', 'pageid': -1, 'ns': -1, 'title': 'Q52697931', 'lastrevid': '2000-01-01T00:00:00Z'}\n",
      "{'labels': {'en': {'languange': 'en', 'value': 'one-of qualifier value property constraint'}}, 'descriptions': {}, 'aliases': {}, 'claims': {}, 'sitelinks': {}, 'type': 'item', 'id': 'Q52712340', 'pageid': -1, 'ns': -1, 'title': 'Q52712340', 'lastrevid': '2000-01-01T00:00:00Z'}\n",
      "{'labels': {'en': {'languange': 'en', 'value': 'diflorasone'}}, 'descriptions': {}, 'aliases': {}, 'claims': {}, 'sitelinks': {}, 'type': 'item', 'id': 'Q5275451', 'pageid': -1, 'ns': -1, 'title': 'Q5275451', 'lastrevid': '2000-01-01T00:00:00Z'}\n",
      "{'labels': {'en': {'languange': 'en', 'value': 'digestive system cancer'}}, 'descriptions': {}, 'aliases': {}, 'claims': {}, 'sitelinks': {}, 'type': 'item', 'id': 'Q5275615', 'pageid': -1, 'ns': -1, 'title': 'Q5275615', 'lastrevid': '2000-01-01T00:00:00Z'}\n",
      "{'labels': {'en': {'languange': 'en', 'value': 'foot disease'}}, 'descriptions': {}, 'aliases': {}, 'claims': {}, 'sitelinks': {}, 'type': 'item', 'id': 'Q5282137', 'pageid': -1, 'ns': -1, 'title': 'Q5282137', 'lastrevid': '2000-01-01T00:00:00Z'}\n",
      "{'labels': {'en': {'languange': 'en', 'value': 'calcium metabolism disease'}}, 'descriptions': {}, 'aliases': {}, 'claims': {}, 'sitelinks': {}, 'type': 'item', 'id': 'Q5282519', 'pageid': -1, 'ns': -1, 'title': 'Q5282519', 'lastrevid': '2000-01-01T00:00:00Z'}\n",
      "{'labels': {'en': {'languange': 'en', 'value': 'Sandoz'}}, 'descriptions': {}, 'aliases': {}, 'claims': {}, 'sitelinks': {}, 'type': 'item', 'id': 'Q528468', 'pageid': -1, 'ns': -1, 'title': 'Q528468', 'lastrevid': '2000-01-01T00:00:00Z'}\n",
      "{'labels': {'en': {'languange': 'en', 'value': 'spondyloarthropathy'}}, 'descriptions': {}, 'aliases': {}, 'claims': {}, 'sitelinks': {}, 'type': 'item', 'id': 'Q52848', 'pageid': -1, 'ns': -1, 'title': 'Q52848', 'lastrevid': '2000-01-01T00:00:00Z'}\n",
      "{'labels': {'en': {'languange': 'en', 'value': 'ankylosing spondylitis'}}, 'descriptions': {}, 'aliases': {}, 'claims': {}, 'sitelinks': {}, 'type': 'item', 'id': 'Q52849', 'pageid': -1, 'ns': -1, 'title': 'Q52849', 'lastrevid': '2000-01-01T00:00:00Z'}\n"
     ]
    }
   ],
   "source": [
    "res = es.search(index=ES_INDEX, body={\"query\": {\"match_all\": {}}})\n",
    "print(\"Got %d Hits:\" % res['hits']['total']['value'])\n",
    "for hit in res['hits']['hits']:\n",
    "    print(hit[\"_source\"])"
   ]
  },
  {
   "cell_type": "markdown",
   "metadata": {
    "papermill": {
     "duration": 0.065388,
     "end_time": "2020-10-27T19:51:56.220854",
     "exception": false,
     "start_time": "2020-10-27T19:51:56.155466",
     "status": "completed"
    },
    "tags": []
   },
   "source": [
    "### Run Global Configure File to generate endpoints for SQID and ES"
   ]
  },
  {
   "cell_type": "code",
   "execution_count": 19,
   "metadata": {
    "execution": {
     "iopub.execute_input": "2020-10-27T19:51:56.355183Z",
     "iopub.status.busy": "2020-10-27T19:51:56.354728Z",
     "iopub.status.idle": "2020-10-27T19:51:56.490262Z",
     "shell.execute_reply": "2020-10-27T19:51:56.490628Z"
    },
    "papermill": {
     "duration": 0.204644,
     "end_time": "2020-10-27T19:51:56.490789",
     "exception": false,
     "start_time": "2020-10-27T19:51:56.286145",
     "status": "completed"
    },
    "tags": []
   },
   "outputs": [],
   "source": [
    "# generate endpoints config file for SQID\n",
    "!python global_config.py --is_generate True"
   ]
  },
  {
   "cell_type": "markdown",
   "metadata": {
    "papermill": {
     "duration": 0.065393,
     "end_time": "2020-10-27T19:51:56.622145",
     "exception": false,
     "start_time": "2020-10-27T19:51:56.556752",
     "status": "completed"
    },
    "tags": []
   },
   "source": [
    "### Run ES index system using Flask\n",
    "\n",
    "and\n",
    "\n",
    "### Run SQID through npm run serve (development enviorment)"
   ]
  },
  {
   "cell_type": "code",
   "execution_count": 20,
   "metadata": {
    "execution": {
     "iopub.execute_input": "2020-10-27T19:51:56.760254Z",
     "iopub.status.busy": "2020-10-27T19:51:56.759814Z",
     "iopub.status.idle": "2020-10-27T19:51:56.768482Z",
     "shell.execute_reply": "2020-10-27T19:51:56.768082Z"
    },
    "papermill": {
     "duration": 0.080117,
     "end_time": "2020-10-27T19:51:56.768588",
     "exception": false,
     "start_time": "2020-10-27T19:51:56.688471",
     "status": "completed"
    },
    "tags": []
   },
   "outputs": [],
   "source": [
    "import subprocess\n",
    "flask_app= subprocess.Popen(\"cd flask/&&python app.py\", shell=True)\n",
    "sqid_interface = subprocess.Popen(\"npm run serve\", shell=True)"
   ]
  },
  {
   "cell_type": "code",
   "execution_count": null,
   "metadata": {
    "papermill": {
     "duration": 0.065418,
     "end_time": "2020-10-27T19:51:56.899414",
     "exception": false,
     "start_time": "2020-10-27T19:51:56.833996",
     "status": "completed"
    },
    "tags": []
   },
   "outputs": [],
   "source": []
  }
 ],
 "metadata": {
  "celltoolbar": "Tags",
  "kernelspec": {
   "display_name": "Python 3",
   "language": "python",
   "name": "python3"
  },
  "language_info": {
   "codemirror_mode": {
    "name": "ipython",
    "version": 3
   },
   "file_extension": ".py",
   "mimetype": "text/x-python",
   "name": "python",
   "nbconvert_exporter": "python",
   "pygments_lexer": "ipython3",
   "version": "3.7.8"
  },
  "papermill": {
   "default_parameters": {},
   "duration": 73.481094,
   "end_time": "2020-10-27T19:51:57.317386",
   "environment_variables": {},
   "exception": null,
   "input_path": "SQID_automatic_pipeline.ipynb",
   "output_path": "SQID_automatic_pipeline_out.ipynb",
   "parameters": {
    "kgtk_file": "kgtk_files/pharma_subgraph.tsv"
   },
   "start_time": "2020-10-27T19:50:43.836292",
   "version": "2.2.0"
  }
 },
 "nbformat": 4,
 "nbformat_minor": 4
}