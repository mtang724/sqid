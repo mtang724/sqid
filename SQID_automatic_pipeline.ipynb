{
 "cells": [
  {
   "cell_type": "markdown",
   "metadata": {},
   "source": [
    "# Below is a step-by-step example that how the pharma_subgraph KG used for SQID is built"
   ]
  },
  {
   "cell_type": "markdown",
   "metadata": {},
   "source": [
    "Set up environment variables with location of the input files"
   ]
  },
  {
   "cell_type": "code",
   "execution_count": 3,
   "metadata": {
    "tags": [
     "parameters"
    ]
   },
   "outputs": [],
   "source": [
    "kgtk_file = \"kgtk_files/pharma_subgraph.tsv\""
   ]
  },
  {
   "cell_type": "code",
   "execution_count": 4,
   "metadata": {},
   "outputs": [
    {
     "name": "stdout",
     "output_type": "stream",
     "text": [
      "env: ttl_files=ttl_files\n",
      "env: ES_DATA_FOLDER_PATH=flask/es/es_data\n"
     ]
    }
   ],
   "source": [
    "%env ttl_files=ttl_files\n",
    "%env ES_DATA_FOLDER_PATH = flask/es/es_data"
   ]
  },
  {
   "cell_type": "markdown",
   "metadata": {},
   "source": [
    "## Building Wikidata triples and Mediawiki json files"
   ]
  },
  {
   "cell_type": "markdown",
   "metadata": {},
   "source": [
    "pharma_subgraph.tsv link: https://drive.google.com/file/d/11oAhqCNR8vAIKXv0IhuIcy-L6NuDFxKF/view?usp=sharing"
   ]
  },
  {
   "cell_type": "markdown",
   "metadata": {},
   "source": [
    "### Generate Wikidata Triples (under sqid/ttl_files) from KGTK TSV (pharma_subgraph) -- kgtk generate_wikidata_triples"
   ]
  },
  {
   "cell_type": "code",
   "execution_count": 7,
   "metadata": {},
   "outputs": [
    {
     "name": "stdout",
     "output_type": "stream",
     "text": [
      "TTL generated\n"
     ]
    }
   ],
   "source": [
    "import os\n",
    "out = os.system(\"cat {} \\\n",
    "| kgtk generate_wikidata_triples -pf flask/flask_data/wikidata_properties.tsv -w yes -pd yes > subgraph.ttl\"\n",
    "          .format(kgtk_file))\n",
    "if out == 0:\n",
    "    print (\"TTL generated\")\n",
    "else:\n",
    "    print (\"Fail to generate TTL\")"
   ]
  },
  {
   "cell_type": "code",
   "execution_count": 8,
   "metadata": {},
   "outputs": [
    {
     "name": "stdout",
     "output_type": "stream",
     "text": [
      "  File: subgraph.ttl\r\n",
      "  Size: 6020115   \tBlocks: 11768      IO Block: 4096   regular file\r\n",
      "Device: 10305h/66309d\tInode: 280344      Links: 1\r\n",
      "Access: (0664/-rw-rw-r--)  Uid: ( 1004/mingyuet)   Gid: ( 1004/mingyuet)\r\n",
      "Access: 2020-10-27 03:29:01.136354267 +0000\r\n",
      "Modify: 2020-10-27 03:29:35.220355441 +0000\r\n",
      "Change: 2020-10-27 03:29:35.220355441 +0000\r\n",
      " Birth: -\r\n"
     ]
    }
   ],
   "source": [
    "# stat of output ttl file\n",
    "!stat subgraph.ttl"
   ]
  },
  {
   "cell_type": "code",
   "execution_count": 9,
   "metadata": {},
   "outputs": [
    {
     "name": "stdout",
     "output_type": "stream",
     "text": [
      "@prefix wikibase: <http://wikiba.se/ontology#> .\r\n",
      "@prefix wd: <http://www.wikidata.org/entity/> .\r\n",
      "@prefix wdt: <http://www.wikidata.org/prop/direct/> .\r\n",
      "@prefix wdtn: <http://www.wikidata.org/prop/direct-normalized/> .\r\n",
      "@prefix wdno: <http://www.wikidata.org/prop/novalue/> .\r\n"
     ]
    }
   ],
   "source": [
    "!head -n 5 subgraph.ttl"
   ]
  },
  {
   "cell_type": "code",
   "execution_count": 10,
   "metadata": {},
   "outputs": [],
   "source": [
    "!mv *.ttl ttl_files/"
   ]
  },
  {
   "cell_type": "markdown",
   "metadata": {},
   "source": [
    "### Generate Mediawiki JSON (under sqid/flask/es/es_data/) from KGTK TSV -- kgtk generate-mediawiki-jsons"
   ]
  },
  {
   "cell_type": "code",
   "execution_count": 23,
   "metadata": {},
   "outputs": [
    {
     "name": "stdout",
     "output_type": "stream",
     "text": [
      "Media JSON file generated\n"
     ]
    }
   ],
   "source": [
    "file = kgtk_file.split(\"/\")[-1]\n",
    "os.system(\"cp {} {}/{}\".format(kgtk_file, os.getenv(\"ES_DATA_FOLDER_PATH\"), file))\n",
    " \n",
    "out = os.system(\"cat {}/{} \\\n",
    "| kgtk generate-mediawiki-jsons -pf flask/flask_data/wikidata_properties.tsv -w yes -pd yes\"\n",
    "          .format(os.getenv(\"ES_DATA_FOLDER_PATH\"), file))\n",
    "if out == 0:\n",
    "    print (\"Media JSON file generated\")\n",
    "else:\n",
    "    print (\"Media JSON file generate failed\")"
   ]
  },
  {
   "cell_type": "code",
   "execution_count": 24,
   "metadata": {},
   "outputs": [],
   "source": [
    "!mv *.jsonl $ES_DATA_FOLDER_PATH/"
   ]
  },
  {
   "cell_type": "code",
   "execution_count": 25,
   "metadata": {},
   "outputs": [
    {
     "name": "stdout",
     "output_type": "stream",
     "text": [
      "34\r\n"
     ]
    }
   ],
   "source": [
    "# stats of how many files in ES_DATA_FOLDER_PATH\n",
    "!cd $ES_DATA_FOLDER_PATH/ && ls | wc -l"
   ]
  },
  {
   "cell_type": "markdown",
   "metadata": {},
   "source": [
    "## Load trile file into Blazegraph"
   ]
  },
  {
   "cell_type": "markdown",
   "metadata": {},
   "source": [
    "Given triple files loaded into Blazegraph"
   ]
  },
  {
   "cell_type": "markdown",
   "metadata": {},
   "source": [
    "## Load json file into ES"
   ]
  },
  {
   "cell_type": "markdown",
   "metadata": {},
   "source": [
    "### Install all required libraries"
   ]
  },
  {
   "cell_type": "code",
   "execution_count": 9,
   "metadata": {},
   "outputs": [
    {
     "name": "stdout",
     "output_type": "stream",
     "text": [
      "Defaulting to user installation because normal site-packages is not writeable\n",
      "Requirement already satisfied: flask in /home/mingyuet/.local/lib/python3.7/site-packages (from -r requirements.txt (line 1)) (1.1.2)\n",
      "Requirement already satisfied: flask-cors in /home/mingyuet/.local/lib/python3.7/site-packages (from -r requirements.txt (line 2)) (3.0.8)\n",
      "Requirement already satisfied: requests in /home/mingyuet/.local/lib/python3.7/site-packages (from -r requirements.txt (line 3)) (2.24.0)\n",
      "Requirement already satisfied: itsdangerous>=0.24 in /opt/anaconda3/lib/python3.7/site-packages (from flask->-r requirements.txt (line 1)) (1.1.0)\n",
      "Requirement already satisfied: Werkzeug>=0.15 in /home/mingyuet/.local/lib/python3.7/site-packages (from flask->-r requirements.txt (line 1)) (1.0.1)\n",
      "Requirement already satisfied: click>=5.1 in /home/mingyuet/.local/lib/python3.7/site-packages (from flask->-r requirements.txt (line 1)) (7.0)\n",
      "Requirement already satisfied: Jinja2>=2.10.1 in /home/mingyuet/.local/lib/python3.7/site-packages (from flask->-r requirements.txt (line 1)) (2.11.2)\n",
      "Requirement already satisfied: Six in /home/mingyuet/.local/lib/python3.7/site-packages (from flask-cors->-r requirements.txt (line 2)) (1.15.0)\n",
      "Requirement already satisfied: urllib3!=1.25.0,!=1.25.1,<1.26,>=1.21.1 in /home/mingyuet/.local/lib/python3.7/site-packages (from requests->-r requirements.txt (line 3)) (1.25.9)\n",
      "Requirement already satisfied: chardet<4,>=3.0.2 in /opt/anaconda3/lib/python3.7/site-packages (from requests->-r requirements.txt (line 3)) (3.0.4)\n",
      "Requirement already satisfied: idna<3,>=2.5 in /home/mingyuet/.local/lib/python3.7/site-packages (from requests->-r requirements.txt (line 3)) (2.10)\n",
      "Requirement already satisfied: certifi>=2017.4.17 in /home/mingyuet/.local/lib/python3.7/site-packages (from requests->-r requirements.txt (line 3)) (2020.6.20)\n",
      "Requirement already satisfied: MarkupSafe>=0.23 in /opt/anaconda3/lib/python3.7/site-packages (from Jinja2>=2.10.1->flask->-r requirements.txt (line 1)) (1.1.1)\n",
      "\u001b[33mWARNING: You are using pip version 20.1.1; however, version 20.2.4 is available.\n",
      "You should consider upgrading via the '/opt/anaconda3/bin/python -m pip install --upgrade pip' command.\u001b[0m\n",
      "\u001b[K\u001b[?25h\u001b[37;40mnpm\u001b[0m \u001b[0m\u001b[30;43mWARN\u001b[0m\u001b[35m\u001b[0m bootstrap@4.5.2 requires a peer of jquery@1.9.1 - 3 but none is installed. You must install peer dependencies yourself.\n",
      "\u001b[0m\u001b[37;40mnpm\u001b[0m \u001b[0m\u001b[30;43mWARN\u001b[0m \u001b[0m\u001b[35moptional\u001b[0m SKIPPING OPTIONAL DEPENDENCY: fsevents@2.1.3 (node_modules/fsevents):\n",
      "\u001b[0m\u001b[37;40mnpm\u001b[0m \u001b[0m\u001b[30;43mWARN\u001b[0m \u001b[0m\u001b[35mnotsup\u001b[0m SKIPPING OPTIONAL DEPENDENCY: Unsupported platform for fsevents@2.1.3: wanted {\"os\":\"darwin\",\"arch\":\"any\"} (current: {\"os\":\"linux\",\"arch\":\"x64\"})\n",
      "\u001b[0m\u001b[37;40mnpm\u001b[0m \u001b[0m\u001b[30;43mWARN\u001b[0m \u001b[0m\u001b[35moptional\u001b[0m SKIPPING OPTIONAL DEPENDENCY: fsevents@1.2.13 (node_modules/jest-haste-map/node_modules/fsevents):\n",
      "\u001b[0m\u001b[37;40mnpm\u001b[0m \u001b[0m\u001b[30;43mWARN\u001b[0m \u001b[0m\u001b[35mnotsup\u001b[0m SKIPPING OPTIONAL DEPENDENCY: Unsupported platform for fsevents@1.2.13: wanted {\"os\":\"darwin\",\"arch\":\"any\"} (current: {\"os\":\"linux\",\"arch\":\"x64\"})\n",
      "\u001b[0m\u001b[37;40mnpm\u001b[0m \u001b[0m\u001b[30;43mWARN\u001b[0m \u001b[0m\u001b[35moptional\u001b[0m SKIPPING OPTIONAL DEPENDENCY: fsevents@1.2.13 (node_modules/webpack-dev-server/node_modules/fsevents):\n",
      "\u001b[0m\u001b[37;40mnpm\u001b[0m \u001b[0m\u001b[30;43mWARN\u001b[0m \u001b[0m\u001b[35mnotsup\u001b[0m SKIPPING OPTIONAL DEPENDENCY: Unsupported platform for fsevents@1.2.13: wanted {\"os\":\"darwin\",\"arch\":\"any\"} (current: {\"os\":\"linux\",\"arch\":\"x64\"})\n",
      "\u001b[0m\u001b[37;40mnpm\u001b[0m \u001b[0m\u001b[30;43mWARN\u001b[0m \u001b[0m\u001b[35moptional\u001b[0m SKIPPING OPTIONAL DEPENDENCY: fsevents@1.2.13 (node_modules/watchpack-chokidar2/node_modules/fsevents):\n",
      "\u001b[0m\u001b[37;40mnpm\u001b[0m \u001b[0m\u001b[30;43mWARN\u001b[0m \u001b[0m\u001b[35mnotsup\u001b[0m SKIPPING OPTIONAL DEPENDENCY: Unsupported platform for fsevents@1.2.13: wanted {\"os\":\"darwin\",\"arch\":\"any\"} (current: {\"os\":\"linux\",\"arch\":\"x64\"})\n",
      "\u001b[0m\n",
      "\u001b[K\u001b[?25hup to date in 19.421s...\u001b[0m] \\ prepare:sqid: \u001b[30;43mWARN\u001b[0m \u001b[35mnotsup\u001b[0m SKIPPING OPTIONAL DEPENDENCY:\u001b[0m\u001b[K[0m\u001b[K\n",
      "\n",
      "57 packages are looking for funding\n",
      "  run `npm fund` for details\n",
      "\n",
      "\n",
      "┌────────────────────────────────────────────────────────────┐\n",
      "│                 \u001b[33m npm update check failed \u001b[39m                  │\n",
      "│            Try running with \u001b[36msudo\u001b[39m or get access             │\n",
      "│            to the local update config store via            │\n",
      "│\u001b[36m sudo chown -R $USER:$(id -gn $USER) /home/mingyuet/.config \u001b[39m│\n",
      "└────────────────────────────────────────────────────────────┘\n"
     ]
    }
   ],
   "source": [
    "!python3 -m venv sqid-env\n",
    "!source sqid-env/bin/activate\n",
    "\n",
    "!cd flask && pip install -r requirements.txt\n",
    "!npm install ."
   ]
  },
  {
   "cell_type": "markdown",
   "metadata": {},
   "source": [
    "### Modify Configuration file (Global configure)\n",
    "https://github.com/mtang724/sqid/blob/master/global_config.py\n",
    "\n",
    "Parameters:\n",
    "- HOST = \"localhost\"\n",
    "- SQID_PORT = 8051\n",
    "- SPARQL_PORT = 10002\n",
    "- FLASK_PORT = 5556\n",
    "- ES_INDEX = \"kgtk_files\"\n",
    "- ELASTICSEARCH_PORT = 9200\n",
    "- ES_DATA_FOLDER_PATH = \"/home/mingyuet/sqid/flask/es/es_data\""
   ]
  },
  {
   "cell_type": "code",
   "execution_count": 10,
   "metadata": {},
   "outputs": [
    {
     "name": "stdout",
     "output_type": "stream",
     "text": [
      "import argparse\r\n",
      "\r\n",
      "HOST = \"localhost\"\r\n",
      "SQID_PORT = 8051\r\n",
      "SPARQL_PORT = 11102\r\n",
      "FLASK_PORT = 5556\r\n",
      "ES_INDEX = \"kgtk_files\"\r\n",
      "ELASTICSEARCH_PORT = 9200\r\n",
      "\r\n",
      "# Flask application config\r\n",
      "PROPERTY_FILES = [\r\n",
      "\t\"flask_data/wikidata_properties.tsv\"\r\n",
      "]\r\n",
      "ES_INDEX = ES_INDEX\r\n",
      "ELASTICSEARCH_HOST = \"http://{}:{}\".format(HOST, str(ELASTICSEARCH_PORT))\r\n"
     ]
    }
   ],
   "source": [
    "!head -n 15 global_config.py"
   ]
  },
  {
   "cell_type": "markdown",
   "metadata": {},
   "source": [
    "### Create Index for ES"
   ]
  },
  {
   "cell_type": "code",
   "execution_count": 11,
   "metadata": {},
   "outputs": [],
   "source": [
    "from elasticsearch import Elasticsearch\n",
    "import os\n",
    "from global_config import ES_INDEX"
   ]
  },
  {
   "cell_type": "code",
   "execution_count": 12,
   "metadata": {},
   "outputs": [],
   "source": [
    "es = Elasticsearch()"
   ]
  },
  {
   "cell_type": "code",
   "execution_count": 13,
   "metadata": {},
   "outputs": [],
   "source": [
    "# index name is defined in global_config file, ES_INDEX, please change this accordingly\n",
    "if not es.indices.exists(index=ES_INDEX):\n",
    "    os.system(\"cd flask/es/ && python create_index.py\")"
   ]
  },
  {
   "cell_type": "markdown",
   "metadata": {},
   "source": [
    "### import index data from es_data (mediawiki json files)"
   ]
  },
  {
   "cell_type": "markdown",
   "metadata": {},
   "source": [
    "Mediawiki json files path(es_data) is defined in global_config file"
   ]
  },
  {
   "cell_type": "code",
   "execution_count": 14,
   "metadata": {},
   "outputs": [
    {
     "name": "stdout",
     "output_type": "stream",
     "text": [
      "100%|███████████████████████████████████████████| 32/32 [00:03<00:00,  8.10it/s]\n"
     ]
    }
   ],
   "source": [
    "!cd flask/es/ && python import_data.py"
   ]
  },
  {
   "cell_type": "markdown",
   "metadata": {},
   "source": [
    "delete all imported data"
   ]
  },
  {
   "cell_type": "code",
   "execution_count": 15,
   "metadata": {},
   "outputs": [],
   "source": [
    "!rm -rf $ES_DATA_FOLDER_PATH/*.jsonl"
   ]
  },
  {
   "cell_type": "markdown",
   "metadata": {},
   "source": [
    "Output some example indexes"
   ]
  },
  {
   "cell_type": "code",
   "execution_count": 16,
   "metadata": {},
   "outputs": [
    {
     "name": "stdout",
     "output_type": "stream",
     "text": [
      "Got 10000 Hits:\n",
      "{'labels': {'en': {'languange': 'en', 'value': 'Dextromethorphan/quinidine'}}, 'descriptions': {}, 'aliases': {}, 'claims': {}, 'sitelinks': {}, 'type': 'item', 'id': 'Q5268496', 'pageid': -1, 'ns': -1, 'title': 'Q5268496', 'lastrevid': '2000-01-01T00:00:00Z'}\n",
      "{'labels': {'en': {'languange': 'en', 'value': 'Lewy body dementia'}}, 'descriptions': {}, 'aliases': {}, 'claims': {}, 'sitelinks': {}, 'type': 'item', 'id': 'Q52697931', 'pageid': -1, 'ns': -1, 'title': 'Q52697931', 'lastrevid': '2000-01-01T00:00:00Z'}\n",
      "{'labels': {'en': {'languange': 'en', 'value': 'one-of qualifier value property constraint'}}, 'descriptions': {}, 'aliases': {}, 'claims': {}, 'sitelinks': {}, 'type': 'item', 'id': 'Q52712340', 'pageid': -1, 'ns': -1, 'title': 'Q52712340', 'lastrevid': '2000-01-01T00:00:00Z'}\n",
      "{'labels': {'en': {'languange': 'en', 'value': 'diflorasone'}}, 'descriptions': {}, 'aliases': {}, 'claims': {}, 'sitelinks': {}, 'type': 'item', 'id': 'Q5275451', 'pageid': -1, 'ns': -1, 'title': 'Q5275451', 'lastrevid': '2000-01-01T00:00:00Z'}\n",
      "{'labels': {'en': {'languange': 'en', 'value': 'digestive system cancer'}}, 'descriptions': {}, 'aliases': {}, 'claims': {}, 'sitelinks': {}, 'type': 'item', 'id': 'Q5275615', 'pageid': -1, 'ns': -1, 'title': 'Q5275615', 'lastrevid': '2000-01-01T00:00:00Z'}\n",
      "{'labels': {'en': {'languange': 'en', 'value': 'foot disease'}}, 'descriptions': {}, 'aliases': {}, 'claims': {}, 'sitelinks': {}, 'type': 'item', 'id': 'Q5282137', 'pageid': -1, 'ns': -1, 'title': 'Q5282137', 'lastrevid': '2000-01-01T00:00:00Z'}\n",
      "{'labels': {'en': {'languange': 'en', 'value': 'calcium metabolism disease'}}, 'descriptions': {}, 'aliases': {}, 'claims': {}, 'sitelinks': {}, 'type': 'item', 'id': 'Q5282519', 'pageid': -1, 'ns': -1, 'title': 'Q5282519', 'lastrevid': '2000-01-01T00:00:00Z'}\n",
      "{'labels': {'en': {'languange': 'en', 'value': 'Sandoz'}}, 'descriptions': {}, 'aliases': {}, 'claims': {}, 'sitelinks': {}, 'type': 'item', 'id': 'Q528468', 'pageid': -1, 'ns': -1, 'title': 'Q528468', 'lastrevid': '2000-01-01T00:00:00Z'}\n",
      "{'labels': {'en': {'languange': 'en', 'value': 'spondyloarthropathy'}}, 'descriptions': {}, 'aliases': {}, 'claims': {}, 'sitelinks': {}, 'type': 'item', 'id': 'Q52848', 'pageid': -1, 'ns': -1, 'title': 'Q52848', 'lastrevid': '2000-01-01T00:00:00Z'}\n",
      "{'labels': {'en': {'languange': 'en', 'value': 'ankylosing spondylitis'}}, 'descriptions': {}, 'aliases': {}, 'claims': {}, 'sitelinks': {}, 'type': 'item', 'id': 'Q52849', 'pageid': -1, 'ns': -1, 'title': 'Q52849', 'lastrevid': '2000-01-01T00:00:00Z'}\n"
     ]
    }
   ],
   "source": [
    "res = es.search(index=ES_INDEX, body={\"query\": {\"match_all\": {}}})\n",
    "print(\"Got %d Hits:\" % res['hits']['total']['value'])\n",
    "for hit in res['hits']['hits']:\n",
    "    print(hit[\"_source\"])"
   ]
  },
  {
   "cell_type": "markdown",
   "metadata": {},
   "source": [
    "### Run Global Configure File to generate endpoints for SQID and ES"
   ]
  },
  {
   "cell_type": "code",
   "execution_count": 17,
   "metadata": {},
   "outputs": [],
   "source": [
    "# generate endpoints config file for SQID\n",
    "!python global_config.py --is_generate True"
   ]
  },
  {
   "cell_type": "markdown",
   "metadata": {},
   "source": [
    "### Run ES index system using Flask\n",
    "\n",
    "and\n",
    "\n",
    "### Run SQID through npm run serve (development enviorment)"
   ]
  },
  {
   "cell_type": "code",
   "execution_count": 18,
   "metadata": {},
   "outputs": [],
   "source": [
    "import subprocess\n",
    "flask_app= subprocess.Popen(\"cd flask/&&python app.py\", shell=True)\n",
    "sqid_interface = subprocess.Popen(\"npm run serve\", shell=True)"
   ]
  },
  {
   "cell_type": "code",
   "execution_count": null,
   "metadata": {},
   "outputs": [],
   "source": []
  }
 ],
 "metadata": {
  "celltoolbar": "Tags",
  "kernelspec": {
   "display_name": "Python 3",
   "language": "python",
   "name": "python3"
  },
  "language_info": {
   "codemirror_mode": {
    "name": "ipython",
    "version": 3
   },
   "file_extension": ".py",
   "mimetype": "text/x-python",
   "name": "python",
   "nbconvert_exporter": "python",
   "pygments_lexer": "ipython3",
   "version": "3.7.6"
  }
 },
 "nbformat": 4,
 "nbformat_minor": 4
}
